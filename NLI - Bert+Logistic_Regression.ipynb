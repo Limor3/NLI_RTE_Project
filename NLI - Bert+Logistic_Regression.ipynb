{
  "nbformat": 4,
  "nbformat_minor": 0,
  "metadata": {
    "colab": {
      "name": "NLI_v2.ipynb",
      "provenance": [],
      "collapsed_sections": []
    },
    "kernelspec": {
      "name": "python3",
      "display_name": "Python 3"
    },
    "accelerator": "GPU"
  },
  "cells": [
    {
      "cell_type": "code",
      "metadata": {
        "colab": {
          "base_uri": "https://localhost:8080/"
        },
        "id": "xMXBBo97fpsZ",
        "outputId": "310173e9-df77-4e0e-d459-7680e99bf814"
      },
      "source": [
        "from google.colab import drive\r\n",
        "drive.mount('/content/drive')"
      ],
      "execution_count": 1,
      "outputs": [
        {
          "output_type": "stream",
          "text": [
            "Drive already mounted at /content/drive; to attempt to forcibly remount, call drive.mount(\"/content/drive\", force_remount=True).\n"
          ],
          "name": "stdout"
        }
      ]
    },
    {
      "cell_type": "code",
      "metadata": {
        "colab": {
          "base_uri": "https://localhost:8080/"
        },
        "id": "YTk6nfRvfvMx",
        "outputId": "d52ae66b-1324-4297-8972-541116ce6204"
      },
      "source": [
        "%cd drive/MyDrive/Colab Notebooks/NLP_Project/"
      ],
      "execution_count": 2,
      "outputs": [
        {
          "output_type": "stream",
          "text": [
            "/content/drive/MyDrive/Colab Notebooks/NLP_Project\n"
          ],
          "name": "stdout"
        }
      ]
    },
    {
      "cell_type": "code",
      "metadata": {
        "colab": {
          "base_uri": "https://localhost:8080/"
        },
        "id": "PMVSPEvGfxy7",
        "outputId": "cd3ff14c-c2e2-415c-fd0b-6ce6c699c676"
      },
      "source": [
        "%ls"
      ],
      "execution_count": 3,
      "outputs": [
        {
          "output_type": "stream",
          "text": [
            "snli_1.0_dev.csv  snli_1.0_test.csv  snli_1.0_train.csv\n"
          ],
          "name": "stdout"
        }
      ]
    },
    {
      "cell_type": "code",
      "metadata": {
        "id": "gL99lRF1f3YJ"
      },
      "source": [
        "import pandas as pd"
      ],
      "execution_count": 4,
      "outputs": []
    },
    {
      "cell_type": "code",
      "metadata": {
        "colab": {
          "base_uri": "https://localhost:8080/"
        },
        "id": "lLzeuspqf8kZ",
        "outputId": "aa606b2d-1e34-418b-8209-6763615b1809"
      },
      "source": [
        "!pip install transformers"
      ],
      "execution_count": 5,
      "outputs": [
        {
          "output_type": "stream",
          "text": [
            "Requirement already satisfied: transformers in /usr/local/lib/python3.6/dist-packages (4.2.1)\n",
            "Requirement already satisfied: filelock in /usr/local/lib/python3.6/dist-packages (from transformers) (3.0.12)\n",
            "Requirement already satisfied: packaging in /usr/local/lib/python3.6/dist-packages (from transformers) (20.8)\n",
            "Requirement already satisfied: tokenizers==0.9.4 in /usr/local/lib/python3.6/dist-packages (from transformers) (0.9.4)\n",
            "Requirement already satisfied: importlib-metadata; python_version < \"3.8\" in /usr/local/lib/python3.6/dist-packages (from transformers) (3.3.0)\n",
            "Requirement already satisfied: requests in /usr/local/lib/python3.6/dist-packages (from transformers) (2.23.0)\n",
            "Requirement already satisfied: numpy in /usr/local/lib/python3.6/dist-packages (from transformers) (1.19.5)\n",
            "Requirement already satisfied: tqdm>=4.27 in /usr/local/lib/python3.6/dist-packages (from transformers) (4.41.1)\n",
            "Requirement already satisfied: dataclasses; python_version < \"3.7\" in /usr/local/lib/python3.6/dist-packages (from transformers) (0.8)\n",
            "Requirement already satisfied: sacremoses in /usr/local/lib/python3.6/dist-packages (from transformers) (0.0.43)\n",
            "Requirement already satisfied: regex!=2019.12.17 in /usr/local/lib/python3.6/dist-packages (from transformers) (2019.12.20)\n",
            "Requirement already satisfied: pyparsing>=2.0.2 in /usr/local/lib/python3.6/dist-packages (from packaging->transformers) (2.4.7)\n",
            "Requirement already satisfied: typing-extensions>=3.6.4; python_version < \"3.8\" in /usr/local/lib/python3.6/dist-packages (from importlib-metadata; python_version < \"3.8\"->transformers) (3.7.4.3)\n",
            "Requirement already satisfied: zipp>=0.5 in /usr/local/lib/python3.6/dist-packages (from importlib-metadata; python_version < \"3.8\"->transformers) (3.4.0)\n",
            "Requirement already satisfied: certifi>=2017.4.17 in /usr/local/lib/python3.6/dist-packages (from requests->transformers) (2020.12.5)\n",
            "Requirement already satisfied: urllib3!=1.25.0,!=1.25.1,<1.26,>=1.21.1 in /usr/local/lib/python3.6/dist-packages (from requests->transformers) (1.24.3)\n",
            "Requirement already satisfied: idna<3,>=2.5 in /usr/local/lib/python3.6/dist-packages (from requests->transformers) (2.10)\n",
            "Requirement already satisfied: chardet<4,>=3.0.2 in /usr/local/lib/python3.6/dist-packages (from requests->transformers) (3.0.4)\n",
            "Requirement already satisfied: six in /usr/local/lib/python3.6/dist-packages (from sacremoses->transformers) (1.15.0)\n",
            "Requirement already satisfied: click in /usr/local/lib/python3.6/dist-packages (from sacremoses->transformers) (7.1.2)\n",
            "Requirement already satisfied: joblib in /usr/local/lib/python3.6/dist-packages (from sacremoses->transformers) (1.0.0)\n"
          ],
          "name": "stdout"
        }
      ]
    },
    {
      "cell_type": "code",
      "metadata": {
        "id": "20slSaFvu1CJ"
      },
      "source": [
        "import numpy as np\r\n",
        "import pandas as pd\r\n",
        "from sklearn.model_selection import train_test_split\r\n",
        "from sklearn.linear_model import LogisticRegression\r\n",
        "from sklearn.model_selection import GridSearchCV\r\n",
        "from sklearn.model_selection import cross_val_score\r\n",
        "import torch\r\n",
        "import transformers as ppb\r\n",
        "# import warnings\r\n",
        "# warnings.filterwarnings('ignore')"
      ],
      "execution_count": 6,
      "outputs": []
    },
    {
      "cell_type": "markdown",
      "metadata": {
        "id": "DqEb75WBpdB1"
      },
      "source": [
        "Exploring the dataset:"
      ]
    },
    {
      "cell_type": "code",
      "metadata": {
        "id": "cofI9M4Bf5sp"
      },
      "source": [
        "train_cols = ['gold_label', 'sentence1', 'sentence2']\r\n",
        "test_cols = ['sentence1', 'sentence2']\r\n",
        "train_df = pd.read_csv('snli_1.0_train.csv', engine='python', usecols=train_cols)\r\n",
        "test_df = pd.read_csv('snli_1.0_test.csv', engine='python', usecols=test_cols)"
      ],
      "execution_count": 7,
      "outputs": []
    },
    {
      "cell_type": "code",
      "metadata": {
        "colab": {
          "base_uri": "https://localhost:8080/"
        },
        "id": "AIV28HNNpFN_",
        "outputId": "f29ba327-0ec2-4f62-e7ff-91902f1d4691"
      },
      "source": [
        "test_df.info()\r\n",
        "# No missing values"
      ],
      "execution_count": 8,
      "outputs": [
        {
          "output_type": "stream",
          "text": [
            "<class 'pandas.core.frame.DataFrame'>\n",
            "RangeIndex: 10000 entries, 0 to 9999\n",
            "Data columns (total 2 columns):\n",
            " #   Column     Non-Null Count  Dtype \n",
            "---  ------     --------------  ----- \n",
            " 0   sentence1  10000 non-null  object\n",
            " 1   sentence2  10000 non-null  object\n",
            "dtypes: object(2)\n",
            "memory usage: 156.4+ KB\n"
          ],
          "name": "stdout"
        }
      ]
    },
    {
      "cell_type": "code",
      "metadata": {
        "colab": {
          "base_uri": "https://localhost:8080/"
        },
        "id": "OoIvqqV3pFBl",
        "outputId": "2dc28e00-ff79-4b5e-f806-cc576fa91bb8"
      },
      "source": [
        "train_df.info()\r\n",
        "\r\n",
        "# There are missing values, so we need to drop those rows."
      ],
      "execution_count": 9,
      "outputs": [
        {
          "output_type": "stream",
          "text": [
            "<class 'pandas.core.frame.DataFrame'>\n",
            "RangeIndex: 550152 entries, 0 to 550151\n",
            "Data columns (total 3 columns):\n",
            " #   Column      Non-Null Count   Dtype \n",
            "---  ------      --------------   ----- \n",
            " 0   gold_label  550152 non-null  object\n",
            " 1   sentence1   550152 non-null  object\n",
            " 2   sentence2   550146 non-null  object\n",
            "dtypes: object(3)\n",
            "memory usage: 12.6+ MB\n"
          ],
          "name": "stdout"
        }
      ]
    },
    {
      "cell_type": "code",
      "metadata": {
        "id": "6F5bMM98pNDC"
      },
      "source": [
        "train_df = train_df[~train_df['sentence2'].isnull()]"
      ],
      "execution_count": 10,
      "outputs": []
    },
    {
      "cell_type": "code",
      "metadata": {
        "colab": {
          "base_uri": "https://localhost:8080/"
        },
        "id": "5WnH6EBEpQdy",
        "outputId": "734b32aa-a2ae-4047-8b95-e3e99de19774"
      },
      "source": [
        "train_df.info()\r\n",
        "\r\n",
        "# Problem fixed! "
      ],
      "execution_count": 11,
      "outputs": [
        {
          "output_type": "stream",
          "text": [
            "<class 'pandas.core.frame.DataFrame'>\n",
            "Int64Index: 550146 entries, 0 to 550151\n",
            "Data columns (total 3 columns):\n",
            " #   Column      Non-Null Count   Dtype \n",
            "---  ------      --------------   ----- \n",
            " 0   gold_label  550146 non-null  object\n",
            " 1   sentence1   550146 non-null  object\n",
            " 2   sentence2   550146 non-null  object\n",
            "dtypes: object(3)\n",
            "memory usage: 16.8+ MB\n"
          ],
          "name": "stdout"
        }
      ]
    },
    {
      "cell_type": "code",
      "metadata": {
        "colab": {
          "base_uri": "https://localhost:8080/"
        },
        "id": "vM2T47-9r6yg",
        "outputId": "f19a2189-0215-427d-b6bc-3a93b4b3a4f5"
      },
      "source": [
        "# Let's check if there are weird labels:\r\n",
        "train_df.gold_label.value_counts()\r\n",
        "\r\n",
        "# There are 785 rows with undifined category, for convenience, let's drop them too."
      ],
      "execution_count": 12,
      "outputs": [
        {
          "output_type": "execute_result",
          "data": {
            "text/plain": [
              "entailment       183414\n",
              "contradiction    183185\n",
              "neutral          182762\n",
              "-                   785\n",
              "Name: gold_label, dtype: int64"
            ]
          },
          "metadata": {
            "tags": []
          },
          "execution_count": 12
        }
      ]
    },
    {
      "cell_type": "code",
      "metadata": {
        "id": "_tJ3J1dtsTtf"
      },
      "source": [
        "train_df = train_df[(train_df.gold_label != \"-\")]"
      ],
      "execution_count": 13,
      "outputs": []
    },
    {
      "cell_type": "code",
      "metadata": {
        "colab": {
          "base_uri": "https://localhost:8080/"
        },
        "id": "C1vQmLUNsprh",
        "outputId": "b067e13e-9cf7-4d0c-8261-5f0558f00404"
      },
      "source": [
        "# check:\r\n",
        "train_df.gold_label.value_counts()\r\n",
        "\r\n",
        "# Problem fixed! "
      ],
      "execution_count": 14,
      "outputs": [
        {
          "output_type": "execute_result",
          "data": {
            "text/plain": [
              "entailment       183414\n",
              "contradiction    183185\n",
              "neutral          182762\n",
              "Name: gold_label, dtype: int64"
            ]
          },
          "metadata": {
            "tags": []
          },
          "execution_count": 14
        }
      ]
    },
    {
      "cell_type": "code",
      "metadata": {
        "colab": {
          "base_uri": "https://localhost:8080/"
        },
        "id": "RZQoIWvEpV0c",
        "outputId": "21b91a0f-796b-40d3-e1d7-6571a19e9543"
      },
      "source": [
        "print(train_df.shape)\r\n",
        "print(test_df.shape)"
      ],
      "execution_count": 15,
      "outputs": [
        {
          "output_type": "stream",
          "text": [
            "(549361, 3)\n",
            "(10000, 2)\n"
          ],
          "name": "stdout"
        }
      ]
    },
    {
      "cell_type": "code",
      "metadata": {
        "colab": {
          "base_uri": "https://localhost:8080/",
          "height": 195
        },
        "id": "h8Q-UleepZOF",
        "outputId": "df0dec7c-3f87-42c0-b159-7d979d8b9a74"
      },
      "source": [
        "train_df.head()"
      ],
      "execution_count": 16,
      "outputs": [
        {
          "output_type": "execute_result",
          "data": {
            "text/html": [
              "<div>\n",
              "<style scoped>\n",
              "    .dataframe tbody tr th:only-of-type {\n",
              "        vertical-align: middle;\n",
              "    }\n",
              "\n",
              "    .dataframe tbody tr th {\n",
              "        vertical-align: top;\n",
              "    }\n",
              "\n",
              "    .dataframe thead th {\n",
              "        text-align: right;\n",
              "    }\n",
              "</style>\n",
              "<table border=\"1\" class=\"dataframe\">\n",
              "  <thead>\n",
              "    <tr style=\"text-align: right;\">\n",
              "      <th></th>\n",
              "      <th>gold_label</th>\n",
              "      <th>sentence1</th>\n",
              "      <th>sentence2</th>\n",
              "    </tr>\n",
              "  </thead>\n",
              "  <tbody>\n",
              "    <tr>\n",
              "      <th>0</th>\n",
              "      <td>neutral</td>\n",
              "      <td>A person on a horse jumps over a broken down a...</td>\n",
              "      <td>A person is training his horse for a competition.</td>\n",
              "    </tr>\n",
              "    <tr>\n",
              "      <th>1</th>\n",
              "      <td>contradiction</td>\n",
              "      <td>A person on a horse jumps over a broken down a...</td>\n",
              "      <td>A person is at a diner, ordering an omelette.</td>\n",
              "    </tr>\n",
              "    <tr>\n",
              "      <th>2</th>\n",
              "      <td>entailment</td>\n",
              "      <td>A person on a horse jumps over a broken down a...</td>\n",
              "      <td>A person is outdoors, on a horse.</td>\n",
              "    </tr>\n",
              "    <tr>\n",
              "      <th>3</th>\n",
              "      <td>neutral</td>\n",
              "      <td>Children smiling and waving at camera</td>\n",
              "      <td>They are smiling at their parents</td>\n",
              "    </tr>\n",
              "    <tr>\n",
              "      <th>4</th>\n",
              "      <td>entailment</td>\n",
              "      <td>Children smiling and waving at camera</td>\n",
              "      <td>There are children present</td>\n",
              "    </tr>\n",
              "  </tbody>\n",
              "</table>\n",
              "</div>"
            ],
            "text/plain": [
              "      gold_label  ...                                          sentence2\n",
              "0        neutral  ...  A person is training his horse for a competition.\n",
              "1  contradiction  ...      A person is at a diner, ordering an omelette.\n",
              "2     entailment  ...                  A person is outdoors, on a horse.\n",
              "3        neutral  ...                  They are smiling at their parents\n",
              "4     entailment  ...                         There are children present\n",
              "\n",
              "[5 rows x 3 columns]"
            ]
          },
          "metadata": {
            "tags": []
          },
          "execution_count": 16
        }
      ]
    },
    {
      "cell_type": "code",
      "metadata": {
        "id": "7gV0fEeDq824"
      },
      "source": [
        "# For performance reasons, we'll only use 3,000 sentences from the dataset\r\n",
        "\r\n",
        "batch_1 = train_df[:3000]"
      ],
      "execution_count": 17,
      "outputs": []
    },
    {
      "cell_type": "code",
      "metadata": {
        "colab": {
          "base_uri": "https://localhost:8080/"
        },
        "id": "PWBYKZUBrKva",
        "outputId": "a3af95b8-db9a-4763-ed0f-cc13ac18edb9"
      },
      "source": [
        "batch_1.shape"
      ],
      "execution_count": 18,
      "outputs": [
        {
          "output_type": "execute_result",
          "data": {
            "text/plain": [
              "(3000, 3)"
            ]
          },
          "metadata": {
            "tags": []
          },
          "execution_count": 18
        }
      ]
    },
    {
      "cell_type": "code",
      "metadata": {
        "colab": {
          "base_uri": "https://localhost:8080/"
        },
        "id": "eSKfViSjrkBj",
        "outputId": "524a25c0-ca0f-4492-96ce-18f9801c0a32"
      },
      "source": [
        "batch_1['gold_label'].value_counts()\r\n",
        "\r\n",
        "# We can see the distribution of the label is quite similar."
      ],
      "execution_count": 19,
      "outputs": [
        {
          "output_type": "execute_result",
          "data": {
            "text/plain": [
              "entailment       1005\n",
              "contradiction    1000\n",
              "neutral           995\n",
              "Name: gold_label, dtype: int64"
            ]
          },
          "metadata": {
            "tags": []
          },
          "execution_count": 19
        }
      ]
    },
    {
      "cell_type": "markdown",
      "metadata": {
        "id": "I9rmkNcUogfx"
      },
      "source": [
        "Loading the Pre-trained BERT model"
      ]
    },
    {
      "cell_type": "code",
      "metadata": {
        "id": "N441wrDcoluT"
      },
      "source": [
        "# For DistilBERT:\r\n",
        "model_class, tokenizer_class, pretrained_weights = (ppb.DistilBertModel, ppb.DistilBertTokenizer, 'distilbert-base-uncased')\r\n",
        "\r\n",
        "## Want BERT instead of distilBERT? Uncomment the following line:\r\n",
        "#model_class, tokenizer_class, pretrained_weights = (ppb.BertModel, ppb.BertTokenizer, 'bert-base-uncased')\r\n",
        "\r\n",
        "# Load pretrained model/tokenizer\r\n",
        "tokenizer = tokenizer_class.from_pretrained(pretrained_weights)\r\n",
        "model = model_class.from_pretrained(pretrained_weights)"
      ],
      "execution_count": 20,
      "outputs": []
    },
    {
      "cell_type": "markdown",
      "metadata": {
        "id": "opFCdDdBo-8s"
      },
      "source": [
        "Preparing the Dataset"
      ]
    },
    {
      "cell_type": "code",
      "metadata": {
        "id": "deSDJ2qQo2le"
      },
      "source": [
        "# Tokenizing the sentences:\r\n",
        "\r\n",
        "s1_tokenized = batch_1['sentence1'].apply((lambda x: tokenizer.encode(x, add_special_tokens=True)))\r\n",
        "s2_tokenized = batch_1['sentence2'].apply((lambda x: tokenizer.encode(x, add_special_tokens=True)))"
      ],
      "execution_count": 21,
      "outputs": []
    },
    {
      "cell_type": "code",
      "metadata": {
        "colab": {
          "base_uri": "https://localhost:8080/"
        },
        "id": "zJsjsWk7uSPc",
        "outputId": "de2340f9-c589-4358-e9ce-6ddf16497696"
      },
      "source": [
        "# Padding:\r\n",
        "\r\n",
        "# First let's find the max length of sentence1 and sentence2 columns:\r\n",
        "\r\n",
        "# Sentence1\r\n",
        "max_len_s1 = 0\r\n",
        "for i in s1_tokenized.values:\r\n",
        "    if len(i) > max_len_s1:\r\n",
        "        max_len_s1 = len(i)\r\n",
        "\r\n",
        "# Sentence2\r\n",
        "max_len_s2 = 0\r\n",
        "for i in s2_tokenized.values:\r\n",
        "    if len(i) > max_len_s2:\r\n",
        "        max_len_s2 = len(i)\r\n",
        "\r\n",
        "# We will take the maximum value\"\r\n",
        "max_len = max(max_len_s1, max_len_s2)\r\n",
        "print(\"Max Length:\", max_len)"
      ],
      "execution_count": 22,
      "outputs": [
        {
          "output_type": "stream",
          "text": [
            "Max Length: 64\n"
          ],
          "name": "stdout"
        }
      ]
    },
    {
      "cell_type": "code",
      "metadata": {
        "id": "ER3yqGLmuqr5"
      },
      "source": [
        "# And do the padding:\r\n",
        "\r\n",
        "padded_s1 = np.array([i + [0]*(max_len-len(i)) for i in s1_tokenized.values])\r\n",
        "padded_s2 = np.array([i + [0]*(max_len-len(i)) for i in s2_tokenized.values])"
      ],
      "execution_count": 23,
      "outputs": []
    },
    {
      "cell_type": "code",
      "metadata": {
        "colab": {
          "base_uri": "https://localhost:8080/"
        },
        "id": "RhHS1Xmzu3un",
        "outputId": "f945c4d5-b7a4-4b07-9f3e-988978eb3066"
      },
      "source": [
        "# Check:\r\n",
        "np.array(padded_s1).shape\r\n",
        "\r\n",
        "# 3,000 is the number of rows I chose for the batch and 52 is the max legth\r\n",
        "# Now each sentence padded to be in length of 52."
      ],
      "execution_count": 24,
      "outputs": [
        {
          "output_type": "execute_result",
          "data": {
            "text/plain": [
              "(3000, 64)"
            ]
          },
          "metadata": {
            "tags": []
          },
          "execution_count": 24
        }
      ]
    },
    {
      "cell_type": "code",
      "metadata": {
        "colab": {
          "base_uri": "https://localhost:8080/"
        },
        "id": "5y-stqIiwIfU",
        "outputId": "a18c4657-9652-4f57-9b14-2b31e05c4ebc"
      },
      "source": [
        "# Masking\r\n",
        "# If we directly send padded to BERT, that would slightly confuse it. \r\n",
        "# We need to create another variable to tell it to ignore (mask) the padding we've added when it's processing its input. \r\n",
        "# That's what attention_mask is:\r\n",
        "\r\n",
        "attention_mask = np.where(padded_s1 != 0, 1, 0)\r\n",
        "attention_mask.shape"
      ],
      "execution_count": 25,
      "outputs": [
        {
          "output_type": "execute_result",
          "data": {
            "text/plain": [
              "(3000, 64)"
            ]
          },
          "metadata": {
            "tags": []
          },
          "execution_count": 25
        }
      ]
    },
    {
      "cell_type": "markdown",
      "metadata": {
        "id": "8zlnny4yxQIu"
      },
      "source": [
        "Modeling"
      ]
    },
    {
      "cell_type": "code",
      "metadata": {
        "id": "xAs-obRCw9j5"
      },
      "source": [
        "input_ids_s1 = torch.tensor(padded_s1)\r\n",
        "input_ids_s2 = torch.tensor(padded_s2)    \r\n",
        "attention_mask = torch.tensor(attention_mask)\r\n",
        "\r\n",
        "with torch.no_grad():\r\n",
        "    last_hidden_states_s1 = model(input_ids_s1, attention_mask=attention_mask)"
      ],
      "execution_count": 26,
      "outputs": []
    },
    {
      "cell_type": "code",
      "metadata": {
        "id": "Fo39V1GACvCF"
      },
      "source": [
        "with torch.no_grad():\r\n",
        "    last_hidden_states_s2 = model(input_ids_s2, attention_mask=attention_mask)"
      ],
      "execution_count": 27,
      "outputs": []
    },
    {
      "cell_type": "code",
      "metadata": {
        "colab": {
          "base_uri": "https://localhost:8080/"
        },
        "id": "24nvLjUuxees",
        "outputId": "e0f84bc2-16a5-40ce-d001-ce6747436fce"
      },
      "source": [
        "print(input_ids_s1)"
      ],
      "execution_count": 28,
      "outputs": [
        {
          "output_type": "stream",
          "text": [
            "tensor([[ 101, 1037, 2711,  ...,    0,    0,    0],\n",
            "        [ 101, 1037, 2711,  ...,    0,    0,    0],\n",
            "        [ 101, 1037, 2711,  ...,    0,    0,    0],\n",
            "        ...,\n",
            "        [ 101, 2093, 3337,  ...,    0,    0,    0],\n",
            "        [ 101, 1037, 2210,  ...,    0,    0,    0],\n",
            "        [ 101, 1037, 2210,  ...,    0,    0,    0]])\n"
          ],
          "name": "stdout"
        }
      ]
    },
    {
      "cell_type": "code",
      "metadata": {
        "id": "Xuh1Cca1yVfG"
      },
      "source": [
        "features_s1 = last_hidden_states_s1[0][:,0,:].numpy()\r\n",
        "features_s2 = last_hidden_states_s2[0][:,0,:].numpy()"
      ],
      "execution_count": 29,
      "outputs": []
    },
    {
      "cell_type": "code",
      "metadata": {
        "colab": {
          "base_uri": "https://localhost:8080/"
        },
        "id": "-xO7ci510pgA",
        "outputId": "25b05b19-da33-49c3-8ad9-43fb1e251a12"
      },
      "source": [
        "features_s1.shape"
      ],
      "execution_count": 30,
      "outputs": [
        {
          "output_type": "execute_result",
          "data": {
            "text/plain": [
              "(3000, 768)"
            ]
          },
          "metadata": {
            "tags": []
          },
          "execution_count": 30
        }
      ]
    },
    {
      "cell_type": "code",
      "metadata": {
        "id": "PA91iOaZ1XjM"
      },
      "source": [
        "features = np.concatenate((features_s1, features_s2), axis=1)"
      ],
      "execution_count": 31,
      "outputs": []
    },
    {
      "cell_type": "code",
      "metadata": {
        "colab": {
          "base_uri": "https://localhost:8080/"
        },
        "id": "4EVI2-6r1k2_",
        "outputId": "ec9e48a2-271f-4659-95d6-751970e6e23a"
      },
      "source": [
        "features.shape"
      ],
      "execution_count": 32,
      "outputs": [
        {
          "output_type": "execute_result",
          "data": {
            "text/plain": [
              "(3000, 1536)"
            ]
          },
          "metadata": {
            "tags": []
          },
          "execution_count": 32
        }
      ]
    },
    {
      "cell_type": "code",
      "metadata": {
        "id": "APNir3wLygb6"
      },
      "source": [
        "labels = batch_1.gold_label"
      ],
      "execution_count": 33,
      "outputs": []
    },
    {
      "cell_type": "markdown",
      "metadata": {
        "id": "DbSonv-3ysM1"
      },
      "source": [
        "Creating Logistic regression:"
      ]
    },
    {
      "cell_type": "code",
      "metadata": {
        "id": "OLln5Urg0GTk"
      },
      "source": [
        "train_features, test_features, train_labels, test_labels = train_test_split(features, labels)"
      ],
      "execution_count": 34,
      "outputs": []
    },
    {
      "cell_type": "code",
      "metadata": {
        "id": "Sjs67c_310Rv"
      },
      "source": [
        "# Searching for the best value of the C parameter, which determines regularization strength.\r\n",
        "\r\n",
        "# parameters = {'C': np.linspace(0.0001, 100, 20)}\r\n",
        "# grid_search = GridSearchCV(LogisticRegression(), parameters)\r\n",
        "# grid_search.fit(train_features, train_labels)\r\n",
        "\r\n",
        "# print('best parameters: ', grid_search.best_params_)\r\n",
        "# print('best scrores: ', grid_search.best_score_)"
      ],
      "execution_count": 35,
      "outputs": []
    },
    {
      "cell_type": "code",
      "metadata": {
        "colab": {
          "base_uri": "https://localhost:8080/"
        },
        "id": "dKIw2N2f2IA1",
        "outputId": "5334dcc0-25bf-4ddc-b10c-d9aa8ee8ede7"
      },
      "source": [
        "lr_clf = LogisticRegression()\r\n",
        "lr_clf.fit(train_features, train_labels)"
      ],
      "execution_count": 36,
      "outputs": [
        {
          "output_type": "stream",
          "text": [
            "/usr/local/lib/python3.6/dist-packages/sklearn/linear_model/_logistic.py:940: ConvergenceWarning: lbfgs failed to converge (status=1):\n",
            "STOP: TOTAL NO. of ITERATIONS REACHED LIMIT.\n",
            "\n",
            "Increase the number of iterations (max_iter) or scale the data as shown in:\n",
            "    https://scikit-learn.org/stable/modules/preprocessing.html\n",
            "Please also refer to the documentation for alternative solver options:\n",
            "    https://scikit-learn.org/stable/modules/linear_model.html#logistic-regression\n",
            "  extra_warning_msg=_LOGISTIC_SOLVER_CONVERGENCE_MSG)\n"
          ],
          "name": "stderr"
        },
        {
          "output_type": "execute_result",
          "data": {
            "text/plain": [
              "LogisticRegression(C=1.0, class_weight=None, dual=False, fit_intercept=True,\n",
              "                   intercept_scaling=1, l1_ratio=None, max_iter=100,\n",
              "                   multi_class='auto', n_jobs=None, penalty='l2',\n",
              "                   random_state=None, solver='lbfgs', tol=0.0001, verbose=0,\n",
              "                   warm_start=False)"
            ]
          },
          "metadata": {
            "tags": []
          },
          "execution_count": 36
        }
      ]
    },
    {
      "cell_type": "code",
      "metadata": {
        "colab": {
          "base_uri": "https://localhost:8080/"
        },
        "id": "WsX1QIoN2jHk",
        "outputId": "635a446d-69f4-4675-b4fa-605b4776af97"
      },
      "source": [
        "# Evaluating model's results:\r\n",
        "lr_clf.score(test_features, test_labels)"
      ],
      "execution_count": 37,
      "outputs": [
        {
          "output_type": "execute_result",
          "data": {
            "text/plain": [
              "0.49733333333333335"
            ]
          },
          "metadata": {
            "tags": []
          },
          "execution_count": 37
        }
      ]
    }
  ]
}