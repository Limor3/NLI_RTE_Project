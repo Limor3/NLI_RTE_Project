{
  "nbformat": 4,
  "nbformat_minor": 0,
  "metadata": {
    "colab": {
      "name": "NLI_v2.ipynb",
      "provenance": [],
      "collapsed_sections": []
    },
    "kernelspec": {
      "name": "python3",
      "display_name": "Python 3"
    },
    "accelerator": "GPU",
    "widgets": {
      "application/vnd.jupyter.widget-state+json": {
        "2a5bf9fbd5e34a3baa000c7c4b496c74": {
          "model_module": "@jupyter-widgets/controls",
          "model_name": "HBoxModel",
          "state": {
            "_view_name": "HBoxView",
            "_dom_classes": [],
            "_model_name": "HBoxModel",
            "_view_module": "@jupyter-widgets/controls",
            "_model_module_version": "1.5.0",
            "_view_count": null,
            "_view_module_version": "1.5.0",
            "box_style": "",
            "layout": "IPY_MODEL_35e81779bb874725aa74eb328b2a4d87",
            "_model_module": "@jupyter-widgets/controls",
            "children": [
              "IPY_MODEL_282864195c4d4a7bb96734ec2754cd2e",
              "IPY_MODEL_f765cbec5d7f42989003d0482a68592e"
            ]
          }
        },
        "35e81779bb874725aa74eb328b2a4d87": {
          "model_module": "@jupyter-widgets/base",
          "model_name": "LayoutModel",
          "state": {
            "_view_name": "LayoutView",
            "grid_template_rows": null,
            "right": null,
            "justify_content": null,
            "_view_module": "@jupyter-widgets/base",
            "overflow": null,
            "_model_module_version": "1.2.0",
            "_view_count": null,
            "flex_flow": null,
            "width": null,
            "min_width": null,
            "border": null,
            "align_items": null,
            "bottom": null,
            "_model_module": "@jupyter-widgets/base",
            "top": null,
            "grid_column": null,
            "overflow_y": null,
            "overflow_x": null,
            "grid_auto_flow": null,
            "grid_area": null,
            "grid_template_columns": null,
            "flex": null,
            "_model_name": "LayoutModel",
            "justify_items": null,
            "grid_row": null,
            "max_height": null,
            "align_content": null,
            "visibility": null,
            "align_self": null,
            "height": null,
            "min_height": null,
            "padding": null,
            "grid_auto_rows": null,
            "grid_gap": null,
            "max_width": null,
            "order": null,
            "_view_module_version": "1.2.0",
            "grid_template_areas": null,
            "object_position": null,
            "object_fit": null,
            "grid_auto_columns": null,
            "margin": null,
            "display": null,
            "left": null
          }
        },
        "282864195c4d4a7bb96734ec2754cd2e": {
          "model_module": "@jupyter-widgets/controls",
          "model_name": "FloatProgressModel",
          "state": {
            "_view_name": "ProgressView",
            "style": "IPY_MODEL_3584bc35c6ab4f5c88d21aea4638a9fb",
            "_dom_classes": [],
            "description": "Downloading: 100%",
            "_model_name": "FloatProgressModel",
            "bar_style": "success",
            "max": 231508,
            "_view_module": "@jupyter-widgets/controls",
            "_model_module_version": "1.5.0",
            "value": 231508,
            "_view_count": null,
            "_view_module_version": "1.5.0",
            "orientation": "horizontal",
            "min": 0,
            "description_tooltip": null,
            "_model_module": "@jupyter-widgets/controls",
            "layout": "IPY_MODEL_d4075397782a4db080ec8ecdeb89fa84"
          }
        },
        "f765cbec5d7f42989003d0482a68592e": {
          "model_module": "@jupyter-widgets/controls",
          "model_name": "HTMLModel",
          "state": {
            "_view_name": "HTMLView",
            "style": "IPY_MODEL_feb41eb0a68a4c9e9caf8c51e2bacbc1",
            "_dom_classes": [],
            "description": "",
            "_model_name": "HTMLModel",
            "placeholder": "​",
            "_view_module": "@jupyter-widgets/controls",
            "_model_module_version": "1.5.0",
            "value": " 232k/232k [00:00&lt;00:00, 3.15MB/s]",
            "_view_count": null,
            "_view_module_version": "1.5.0",
            "description_tooltip": null,
            "_model_module": "@jupyter-widgets/controls",
            "layout": "IPY_MODEL_2701c813dc034fa4a2d3bad2795af91d"
          }
        },
        "3584bc35c6ab4f5c88d21aea4638a9fb": {
          "model_module": "@jupyter-widgets/controls",
          "model_name": "ProgressStyleModel",
          "state": {
            "_view_name": "StyleView",
            "_model_name": "ProgressStyleModel",
            "description_width": "initial",
            "_view_module": "@jupyter-widgets/base",
            "_model_module_version": "1.5.0",
            "_view_count": null,
            "_view_module_version": "1.2.0",
            "bar_color": null,
            "_model_module": "@jupyter-widgets/controls"
          }
        },
        "d4075397782a4db080ec8ecdeb89fa84": {
          "model_module": "@jupyter-widgets/base",
          "model_name": "LayoutModel",
          "state": {
            "_view_name": "LayoutView",
            "grid_template_rows": null,
            "right": null,
            "justify_content": null,
            "_view_module": "@jupyter-widgets/base",
            "overflow": null,
            "_model_module_version": "1.2.0",
            "_view_count": null,
            "flex_flow": null,
            "width": null,
            "min_width": null,
            "border": null,
            "align_items": null,
            "bottom": null,
            "_model_module": "@jupyter-widgets/base",
            "top": null,
            "grid_column": null,
            "overflow_y": null,
            "overflow_x": null,
            "grid_auto_flow": null,
            "grid_area": null,
            "grid_template_columns": null,
            "flex": null,
            "_model_name": "LayoutModel",
            "justify_items": null,
            "grid_row": null,
            "max_height": null,
            "align_content": null,
            "visibility": null,
            "align_self": null,
            "height": null,
            "min_height": null,
            "padding": null,
            "grid_auto_rows": null,
            "grid_gap": null,
            "max_width": null,
            "order": null,
            "_view_module_version": "1.2.0",
            "grid_template_areas": null,
            "object_position": null,
            "object_fit": null,
            "grid_auto_columns": null,
            "margin": null,
            "display": null,
            "left": null
          }
        },
        "feb41eb0a68a4c9e9caf8c51e2bacbc1": {
          "model_module": "@jupyter-widgets/controls",
          "model_name": "DescriptionStyleModel",
          "state": {
            "_view_name": "StyleView",
            "_model_name": "DescriptionStyleModel",
            "description_width": "",
            "_view_module": "@jupyter-widgets/base",
            "_model_module_version": "1.5.0",
            "_view_count": null,
            "_view_module_version": "1.2.0",
            "_model_module": "@jupyter-widgets/controls"
          }
        },
        "2701c813dc034fa4a2d3bad2795af91d": {
          "model_module": "@jupyter-widgets/base",
          "model_name": "LayoutModel",
          "state": {
            "_view_name": "LayoutView",
            "grid_template_rows": null,
            "right": null,
            "justify_content": null,
            "_view_module": "@jupyter-widgets/base",
            "overflow": null,
            "_model_module_version": "1.2.0",
            "_view_count": null,
            "flex_flow": null,
            "width": null,
            "min_width": null,
            "border": null,
            "align_items": null,
            "bottom": null,
            "_model_module": "@jupyter-widgets/base",
            "top": null,
            "grid_column": null,
            "overflow_y": null,
            "overflow_x": null,
            "grid_auto_flow": null,
            "grid_area": null,
            "grid_template_columns": null,
            "flex": null,
            "_model_name": "LayoutModel",
            "justify_items": null,
            "grid_row": null,
            "max_height": null,
            "align_content": null,
            "visibility": null,
            "align_self": null,
            "height": null,
            "min_height": null,
            "padding": null,
            "grid_auto_rows": null,
            "grid_gap": null,
            "max_width": null,
            "order": null,
            "_view_module_version": "1.2.0",
            "grid_template_areas": null,
            "object_position": null,
            "object_fit": null,
            "grid_auto_columns": null,
            "margin": null,
            "display": null,
            "left": null
          }
        },
        "57660fd8fac14b3bbbb058985159822c": {
          "model_module": "@jupyter-widgets/controls",
          "model_name": "HBoxModel",
          "state": {
            "_view_name": "HBoxView",
            "_dom_classes": [],
            "_model_name": "HBoxModel",
            "_view_module": "@jupyter-widgets/controls",
            "_model_module_version": "1.5.0",
            "_view_count": null,
            "_view_module_version": "1.5.0",
            "box_style": "",
            "layout": "IPY_MODEL_bff73eec5a3e4f04a812f27385da8e29",
            "_model_module": "@jupyter-widgets/controls",
            "children": [
              "IPY_MODEL_c68e70c4728748dbbeba72be0a3f9759",
              "IPY_MODEL_15c94651974f464d970c5096571ba56e"
            ]
          }
        },
        "bff73eec5a3e4f04a812f27385da8e29": {
          "model_module": "@jupyter-widgets/base",
          "model_name": "LayoutModel",
          "state": {
            "_view_name": "LayoutView",
            "grid_template_rows": null,
            "right": null,
            "justify_content": null,
            "_view_module": "@jupyter-widgets/base",
            "overflow": null,
            "_model_module_version": "1.2.0",
            "_view_count": null,
            "flex_flow": null,
            "width": null,
            "min_width": null,
            "border": null,
            "align_items": null,
            "bottom": null,
            "_model_module": "@jupyter-widgets/base",
            "top": null,
            "grid_column": null,
            "overflow_y": null,
            "overflow_x": null,
            "grid_auto_flow": null,
            "grid_area": null,
            "grid_template_columns": null,
            "flex": null,
            "_model_name": "LayoutModel",
            "justify_items": null,
            "grid_row": null,
            "max_height": null,
            "align_content": null,
            "visibility": null,
            "align_self": null,
            "height": null,
            "min_height": null,
            "padding": null,
            "grid_auto_rows": null,
            "grid_gap": null,
            "max_width": null,
            "order": null,
            "_view_module_version": "1.2.0",
            "grid_template_areas": null,
            "object_position": null,
            "object_fit": null,
            "grid_auto_columns": null,
            "margin": null,
            "display": null,
            "left": null
          }
        },
        "c68e70c4728748dbbeba72be0a3f9759": {
          "model_module": "@jupyter-widgets/controls",
          "model_name": "FloatProgressModel",
          "state": {
            "_view_name": "ProgressView",
            "style": "IPY_MODEL_3a703169d889498aa16b43883d08d694",
            "_dom_classes": [],
            "description": "Downloading: 100%",
            "_model_name": "FloatProgressModel",
            "bar_style": "success",
            "max": 442,
            "_view_module": "@jupyter-widgets/controls",
            "_model_module_version": "1.5.0",
            "value": 442,
            "_view_count": null,
            "_view_module_version": "1.5.0",
            "orientation": "horizontal",
            "min": 0,
            "description_tooltip": null,
            "_model_module": "@jupyter-widgets/controls",
            "layout": "IPY_MODEL_d5f341293a6449bab7d411d3449c638d"
          }
        },
        "15c94651974f464d970c5096571ba56e": {
          "model_module": "@jupyter-widgets/controls",
          "model_name": "HTMLModel",
          "state": {
            "_view_name": "HTMLView",
            "style": "IPY_MODEL_4798fdeb0cce4fc58b562f30153a9132",
            "_dom_classes": [],
            "description": "",
            "_model_name": "HTMLModel",
            "placeholder": "​",
            "_view_module": "@jupyter-widgets/controls",
            "_model_module_version": "1.5.0",
            "value": " 442/442 [00:00&lt;00:00, 2.31kB/s]",
            "_view_count": null,
            "_view_module_version": "1.5.0",
            "description_tooltip": null,
            "_model_module": "@jupyter-widgets/controls",
            "layout": "IPY_MODEL_5436a1b265894d639c9b9e242ab4c88a"
          }
        },
        "3a703169d889498aa16b43883d08d694": {
          "model_module": "@jupyter-widgets/controls",
          "model_name": "ProgressStyleModel",
          "state": {
            "_view_name": "StyleView",
            "_model_name": "ProgressStyleModel",
            "description_width": "initial",
            "_view_module": "@jupyter-widgets/base",
            "_model_module_version": "1.5.0",
            "_view_count": null,
            "_view_module_version": "1.2.0",
            "bar_color": null,
            "_model_module": "@jupyter-widgets/controls"
          }
        },
        "d5f341293a6449bab7d411d3449c638d": {
          "model_module": "@jupyter-widgets/base",
          "model_name": "LayoutModel",
          "state": {
            "_view_name": "LayoutView",
            "grid_template_rows": null,
            "right": null,
            "justify_content": null,
            "_view_module": "@jupyter-widgets/base",
            "overflow": null,
            "_model_module_version": "1.2.0",
            "_view_count": null,
            "flex_flow": null,
            "width": null,
            "min_width": null,
            "border": null,
            "align_items": null,
            "bottom": null,
            "_model_module": "@jupyter-widgets/base",
            "top": null,
            "grid_column": null,
            "overflow_y": null,
            "overflow_x": null,
            "grid_auto_flow": null,
            "grid_area": null,
            "grid_template_columns": null,
            "flex": null,
            "_model_name": "LayoutModel",
            "justify_items": null,
            "grid_row": null,
            "max_height": null,
            "align_content": null,
            "visibility": null,
            "align_self": null,
            "height": null,
            "min_height": null,
            "padding": null,
            "grid_auto_rows": null,
            "grid_gap": null,
            "max_width": null,
            "order": null,
            "_view_module_version": "1.2.0",
            "grid_template_areas": null,
            "object_position": null,
            "object_fit": null,
            "grid_auto_columns": null,
            "margin": null,
            "display": null,
            "left": null
          }
        },
        "4798fdeb0cce4fc58b562f30153a9132": {
          "model_module": "@jupyter-widgets/controls",
          "model_name": "DescriptionStyleModel",
          "state": {
            "_view_name": "StyleView",
            "_model_name": "DescriptionStyleModel",
            "description_width": "",
            "_view_module": "@jupyter-widgets/base",
            "_model_module_version": "1.5.0",
            "_view_count": null,
            "_view_module_version": "1.2.0",
            "_model_module": "@jupyter-widgets/controls"
          }
        },
        "5436a1b265894d639c9b9e242ab4c88a": {
          "model_module": "@jupyter-widgets/base",
          "model_name": "LayoutModel",
          "state": {
            "_view_name": "LayoutView",
            "grid_template_rows": null,
            "right": null,
            "justify_content": null,
            "_view_module": "@jupyter-widgets/base",
            "overflow": null,
            "_model_module_version": "1.2.0",
            "_view_count": null,
            "flex_flow": null,
            "width": null,
            "min_width": null,
            "border": null,
            "align_items": null,
            "bottom": null,
            "_model_module": "@jupyter-widgets/base",
            "top": null,
            "grid_column": null,
            "overflow_y": null,
            "overflow_x": null,
            "grid_auto_flow": null,
            "grid_area": null,
            "grid_template_columns": null,
            "flex": null,
            "_model_name": "LayoutModel",
            "justify_items": null,
            "grid_row": null,
            "max_height": null,
            "align_content": null,
            "visibility": null,
            "align_self": null,
            "height": null,
            "min_height": null,
            "padding": null,
            "grid_auto_rows": null,
            "grid_gap": null,
            "max_width": null,
            "order": null,
            "_view_module_version": "1.2.0",
            "grid_template_areas": null,
            "object_position": null,
            "object_fit": null,
            "grid_auto_columns": null,
            "margin": null,
            "display": null,
            "left": null
          }
        },
        "058c4a57c9ff40d0a2cc23b3dd722944": {
          "model_module": "@jupyter-widgets/controls",
          "model_name": "HBoxModel",
          "state": {
            "_view_name": "HBoxView",
            "_dom_classes": [],
            "_model_name": "HBoxModel",
            "_view_module": "@jupyter-widgets/controls",
            "_model_module_version": "1.5.0",
            "_view_count": null,
            "_view_module_version": "1.5.0",
            "box_style": "",
            "layout": "IPY_MODEL_eceb2f33bdce43cda0d233e152463f6f",
            "_model_module": "@jupyter-widgets/controls",
            "children": [
              "IPY_MODEL_7f2b4986f7dd473084fc1a0ef1fb0f0a",
              "IPY_MODEL_53fd3ef3a6db49598123ce193a708e95"
            ]
          }
        },
        "eceb2f33bdce43cda0d233e152463f6f": {
          "model_module": "@jupyter-widgets/base",
          "model_name": "LayoutModel",
          "state": {
            "_view_name": "LayoutView",
            "grid_template_rows": null,
            "right": null,
            "justify_content": null,
            "_view_module": "@jupyter-widgets/base",
            "overflow": null,
            "_model_module_version": "1.2.0",
            "_view_count": null,
            "flex_flow": null,
            "width": null,
            "min_width": null,
            "border": null,
            "align_items": null,
            "bottom": null,
            "_model_module": "@jupyter-widgets/base",
            "top": null,
            "grid_column": null,
            "overflow_y": null,
            "overflow_x": null,
            "grid_auto_flow": null,
            "grid_area": null,
            "grid_template_columns": null,
            "flex": null,
            "_model_name": "LayoutModel",
            "justify_items": null,
            "grid_row": null,
            "max_height": null,
            "align_content": null,
            "visibility": null,
            "align_self": null,
            "height": null,
            "min_height": null,
            "padding": null,
            "grid_auto_rows": null,
            "grid_gap": null,
            "max_width": null,
            "order": null,
            "_view_module_version": "1.2.0",
            "grid_template_areas": null,
            "object_position": null,
            "object_fit": null,
            "grid_auto_columns": null,
            "margin": null,
            "display": null,
            "left": null
          }
        },
        "7f2b4986f7dd473084fc1a0ef1fb0f0a": {
          "model_module": "@jupyter-widgets/controls",
          "model_name": "FloatProgressModel",
          "state": {
            "_view_name": "ProgressView",
            "style": "IPY_MODEL_a65797ea1c574492abdff950abeac920",
            "_dom_classes": [],
            "description": "Downloading: 100%",
            "_model_name": "FloatProgressModel",
            "bar_style": "success",
            "max": 267967963,
            "_view_module": "@jupyter-widgets/controls",
            "_model_module_version": "1.5.0",
            "value": 267967963,
            "_view_count": null,
            "_view_module_version": "1.5.0",
            "orientation": "horizontal",
            "min": 0,
            "description_tooltip": null,
            "_model_module": "@jupyter-widgets/controls",
            "layout": "IPY_MODEL_b202e102573845f3a66c7252133da7ff"
          }
        },
        "53fd3ef3a6db49598123ce193a708e95": {
          "model_module": "@jupyter-widgets/controls",
          "model_name": "HTMLModel",
          "state": {
            "_view_name": "HTMLView",
            "style": "IPY_MODEL_9f8b098bd88d4000b7ffa2f0618a8945",
            "_dom_classes": [],
            "description": "",
            "_model_name": "HTMLModel",
            "placeholder": "​",
            "_view_module": "@jupyter-widgets/controls",
            "_model_module_version": "1.5.0",
            "value": " 268M/268M [00:04&lt;00:00, 60.3MB/s]",
            "_view_count": null,
            "_view_module_version": "1.5.0",
            "description_tooltip": null,
            "_model_module": "@jupyter-widgets/controls",
            "layout": "IPY_MODEL_b168c8cf3a2843b695dc3dc3bb043eb9"
          }
        },
        "a65797ea1c574492abdff950abeac920": {
          "model_module": "@jupyter-widgets/controls",
          "model_name": "ProgressStyleModel",
          "state": {
            "_view_name": "StyleView",
            "_model_name": "ProgressStyleModel",
            "description_width": "initial",
            "_view_module": "@jupyter-widgets/base",
            "_model_module_version": "1.5.0",
            "_view_count": null,
            "_view_module_version": "1.2.0",
            "bar_color": null,
            "_model_module": "@jupyter-widgets/controls"
          }
        },
        "b202e102573845f3a66c7252133da7ff": {
          "model_module": "@jupyter-widgets/base",
          "model_name": "LayoutModel",
          "state": {
            "_view_name": "LayoutView",
            "grid_template_rows": null,
            "right": null,
            "justify_content": null,
            "_view_module": "@jupyter-widgets/base",
            "overflow": null,
            "_model_module_version": "1.2.0",
            "_view_count": null,
            "flex_flow": null,
            "width": null,
            "min_width": null,
            "border": null,
            "align_items": null,
            "bottom": null,
            "_model_module": "@jupyter-widgets/base",
            "top": null,
            "grid_column": null,
            "overflow_y": null,
            "overflow_x": null,
            "grid_auto_flow": null,
            "grid_area": null,
            "grid_template_columns": null,
            "flex": null,
            "_model_name": "LayoutModel",
            "justify_items": null,
            "grid_row": null,
            "max_height": null,
            "align_content": null,
            "visibility": null,
            "align_self": null,
            "height": null,
            "min_height": null,
            "padding": null,
            "grid_auto_rows": null,
            "grid_gap": null,
            "max_width": null,
            "order": null,
            "_view_module_version": "1.2.0",
            "grid_template_areas": null,
            "object_position": null,
            "object_fit": null,
            "grid_auto_columns": null,
            "margin": null,
            "display": null,
            "left": null
          }
        },
        "9f8b098bd88d4000b7ffa2f0618a8945": {
          "model_module": "@jupyter-widgets/controls",
          "model_name": "DescriptionStyleModel",
          "state": {
            "_view_name": "StyleView",
            "_model_name": "DescriptionStyleModel",
            "description_width": "",
            "_view_module": "@jupyter-widgets/base",
            "_model_module_version": "1.5.0",
            "_view_count": null,
            "_view_module_version": "1.2.0",
            "_model_module": "@jupyter-widgets/controls"
          }
        },
        "b168c8cf3a2843b695dc3dc3bb043eb9": {
          "model_module": "@jupyter-widgets/base",
          "model_name": "LayoutModel",
          "state": {
            "_view_name": "LayoutView",
            "grid_template_rows": null,
            "right": null,
            "justify_content": null,
            "_view_module": "@jupyter-widgets/base",
            "overflow": null,
            "_model_module_version": "1.2.0",
            "_view_count": null,
            "flex_flow": null,
            "width": null,
            "min_width": null,
            "border": null,
            "align_items": null,
            "bottom": null,
            "_model_module": "@jupyter-widgets/base",
            "top": null,
            "grid_column": null,
            "overflow_y": null,
            "overflow_x": null,
            "grid_auto_flow": null,
            "grid_area": null,
            "grid_template_columns": null,
            "flex": null,
            "_model_name": "LayoutModel",
            "justify_items": null,
            "grid_row": null,
            "max_height": null,
            "align_content": null,
            "visibility": null,
            "align_self": null,
            "height": null,
            "min_height": null,
            "padding": null,
            "grid_auto_rows": null,
            "grid_gap": null,
            "max_width": null,
            "order": null,
            "_view_module_version": "1.2.0",
            "grid_template_areas": null,
            "object_position": null,
            "object_fit": null,
            "grid_auto_columns": null,
            "margin": null,
            "display": null,
            "left": null
          }
        }
      }
    }
  },
  "cells": [
    {
      "cell_type": "markdown",
      "metadata": {
        "id": "ojp_DJaEe5nM"
      },
      "source": [
        "# Natural Language Inference Project"
      ]
    },
    {
      "cell_type": "markdown",
      "metadata": {
        "id": "J4M5WSGDe_3G"
      },
      "source": [
        "Loading the Data"
      ]
    },
    {
      "cell_type": "code",
      "metadata": {
        "colab": {
          "base_uri": "https://localhost:8080/"
        },
        "id": "xMXBBo97fpsZ",
        "outputId": "6d487e3d-c4b6-432e-c6db-2446863e3011"
      },
      "source": [
        "from google.colab import drive\r\n",
        "drive.mount('/content/drive')"
      ],
      "execution_count": 1,
      "outputs": [
        {
          "output_type": "stream",
          "text": [
            "Mounted at /content/drive\n"
          ],
          "name": "stdout"
        }
      ]
    },
    {
      "cell_type": "code",
      "metadata": {
        "colab": {
          "base_uri": "https://localhost:8080/"
        },
        "id": "YTk6nfRvfvMx",
        "outputId": "24608232-3abd-4843-d91c-882b36356b4a"
      },
      "source": [
        "%cd drive/MyDrive/Colab Notebooks/NLP_Project/"
      ],
      "execution_count": 2,
      "outputs": [
        {
          "output_type": "stream",
          "text": [
            "/content/drive/MyDrive/Colab Notebooks/NLP_Project\n"
          ],
          "name": "stdout"
        }
      ]
    },
    {
      "cell_type": "code",
      "metadata": {
        "colab": {
          "base_uri": "https://localhost:8080/"
        },
        "id": "PMVSPEvGfxy7",
        "outputId": "f0315475-523f-495c-fcf0-f6e13db24880"
      },
      "source": [
        "%ls"
      ],
      "execution_count": 3,
      "outputs": [
        {
          "output_type": "stream",
          "text": [
            "snli_1.0_dev.csv  snli_1.0_test.csv  snli_1.0_train.csv\n"
          ],
          "name": "stdout"
        }
      ]
    },
    {
      "cell_type": "markdown",
      "metadata": {
        "id": "6_6fZfW2fK3A"
      },
      "source": [
        "Importing libraries"
      ]
    },
    {
      "cell_type": "code",
      "metadata": {
        "colab": {
          "base_uri": "https://localhost:8080/"
        },
        "id": "lLzeuspqf8kZ",
        "outputId": "84f85483-c627-419c-b2b4-b080a618e22d"
      },
      "source": [
        "!pip install transformers"
      ],
      "execution_count": 4,
      "outputs": [
        {
          "output_type": "stream",
          "text": [
            "Collecting transformers\n",
            "\u001b[?25l  Downloading https://files.pythonhosted.org/packages/88/b1/41130a228dd656a1a31ba281598a968320283f48d42782845f6ba567f00b/transformers-4.2.2-py3-none-any.whl (1.8MB)\n",
            "\r\u001b[K     |▏                               | 10kB 24.2MB/s eta 0:00:01\r\u001b[K     |▍                               | 20kB 30.8MB/s eta 0:00:01\r\u001b[K     |▋                               | 30kB 19.3MB/s eta 0:00:01\r\u001b[K     |▊                               | 40kB 17.3MB/s eta 0:00:01\r\u001b[K     |█                               | 51kB 19.0MB/s eta 0:00:01\r\u001b[K     |█▏                              | 61kB 15.2MB/s eta 0:00:01\r\u001b[K     |█▎                              | 71kB 15.6MB/s eta 0:00:01\r\u001b[K     |█▌                              | 81kB 16.4MB/s eta 0:00:01\r\u001b[K     |█▊                              | 92kB 14.1MB/s eta 0:00:01\r\u001b[K     |█▉                              | 102kB 15.2MB/s eta 0:00:01\r\u001b[K     |██                              | 112kB 15.2MB/s eta 0:00:01\r\u001b[K     |██▎                             | 122kB 15.2MB/s eta 0:00:01\r\u001b[K     |██▍                             | 133kB 15.2MB/s eta 0:00:01\r\u001b[K     |██▋                             | 143kB 15.2MB/s eta 0:00:01\r\u001b[K     |██▉                             | 153kB 15.2MB/s eta 0:00:01\r\u001b[K     |███                             | 163kB 15.2MB/s eta 0:00:01\r\u001b[K     |███▏                            | 174kB 15.2MB/s eta 0:00:01\r\u001b[K     |███▍                            | 184kB 15.2MB/s eta 0:00:01\r\u001b[K     |███▌                            | 194kB 15.2MB/s eta 0:00:01\r\u001b[K     |███▊                            | 204kB 15.2MB/s eta 0:00:01\r\u001b[K     |████                            | 215kB 15.2MB/s eta 0:00:01\r\u001b[K     |████                            | 225kB 15.2MB/s eta 0:00:01\r\u001b[K     |████▎                           | 235kB 15.2MB/s eta 0:00:01\r\u001b[K     |████▌                           | 245kB 15.2MB/s eta 0:00:01\r\u001b[K     |████▋                           | 256kB 15.2MB/s eta 0:00:01\r\u001b[K     |████▉                           | 266kB 15.2MB/s eta 0:00:01\r\u001b[K     |█████                           | 276kB 15.2MB/s eta 0:00:01\r\u001b[K     |█████▏                          | 286kB 15.2MB/s eta 0:00:01\r\u001b[K     |█████▍                          | 296kB 15.2MB/s eta 0:00:01\r\u001b[K     |█████▋                          | 307kB 15.2MB/s eta 0:00:01\r\u001b[K     |█████▊                          | 317kB 15.2MB/s eta 0:00:01\r\u001b[K     |██████                          | 327kB 15.2MB/s eta 0:00:01\r\u001b[K     |██████▏                         | 337kB 15.2MB/s eta 0:00:01\r\u001b[K     |██████▎                         | 348kB 15.2MB/s eta 0:00:01\r\u001b[K     |██████▌                         | 358kB 15.2MB/s eta 0:00:01\r\u001b[K     |██████▊                         | 368kB 15.2MB/s eta 0:00:01\r\u001b[K     |██████▉                         | 378kB 15.2MB/s eta 0:00:01\r\u001b[K     |███████                         | 389kB 15.2MB/s eta 0:00:01\r\u001b[K     |███████▎                        | 399kB 15.2MB/s eta 0:00:01\r\u001b[K     |███████▍                        | 409kB 15.2MB/s eta 0:00:01\r\u001b[K     |███████▋                        | 419kB 15.2MB/s eta 0:00:01\r\u001b[K     |███████▉                        | 430kB 15.2MB/s eta 0:00:01\r\u001b[K     |████████                        | 440kB 15.2MB/s eta 0:00:01\r\u001b[K     |████████▏                       | 450kB 15.2MB/s eta 0:00:01\r\u001b[K     |████████▍                       | 460kB 15.2MB/s eta 0:00:01\r\u001b[K     |████████▌                       | 471kB 15.2MB/s eta 0:00:01\r\u001b[K     |████████▊                       | 481kB 15.2MB/s eta 0:00:01\r\u001b[K     |█████████                       | 491kB 15.2MB/s eta 0:00:01\r\u001b[K     |█████████                       | 501kB 15.2MB/s eta 0:00:01\r\u001b[K     |█████████▎                      | 512kB 15.2MB/s eta 0:00:01\r\u001b[K     |█████████▌                      | 522kB 15.2MB/s eta 0:00:01\r\u001b[K     |█████████▋                      | 532kB 15.2MB/s eta 0:00:01\r\u001b[K     |█████████▉                      | 542kB 15.2MB/s eta 0:00:01\r\u001b[K     |██████████                      | 552kB 15.2MB/s eta 0:00:01\r\u001b[K     |██████████▏                     | 563kB 15.2MB/s eta 0:00:01\r\u001b[K     |██████████▍                     | 573kB 15.2MB/s eta 0:00:01\r\u001b[K     |██████████▋                     | 583kB 15.2MB/s eta 0:00:01\r\u001b[K     |██████████▊                     | 593kB 15.2MB/s eta 0:00:01\r\u001b[K     |███████████                     | 604kB 15.2MB/s eta 0:00:01\r\u001b[K     |███████████▏                    | 614kB 15.2MB/s eta 0:00:01\r\u001b[K     |███████████▎                    | 624kB 15.2MB/s eta 0:00:01\r\u001b[K     |███████████▌                    | 634kB 15.2MB/s eta 0:00:01\r\u001b[K     |███████████▊                    | 645kB 15.2MB/s eta 0:00:01\r\u001b[K     |███████████▉                    | 655kB 15.2MB/s eta 0:00:01\r\u001b[K     |████████████                    | 665kB 15.2MB/s eta 0:00:01\r\u001b[K     |████████████▎                   | 675kB 15.2MB/s eta 0:00:01\r\u001b[K     |████████████▍                   | 686kB 15.2MB/s eta 0:00:01\r\u001b[K     |████████████▋                   | 696kB 15.2MB/s eta 0:00:01\r\u001b[K     |████████████▉                   | 706kB 15.2MB/s eta 0:00:01\r\u001b[K     |█████████████                   | 716kB 15.2MB/s eta 0:00:01\r\u001b[K     |█████████████▏                  | 727kB 15.2MB/s eta 0:00:01\r\u001b[K     |█████████████▍                  | 737kB 15.2MB/s eta 0:00:01\r\u001b[K     |█████████████▌                  | 747kB 15.2MB/s eta 0:00:01\r\u001b[K     |█████████████▊                  | 757kB 15.2MB/s eta 0:00:01\r\u001b[K     |██████████████                  | 768kB 15.2MB/s eta 0:00:01\r\u001b[K     |██████████████                  | 778kB 15.2MB/s eta 0:00:01\r\u001b[K     |██████████████▎                 | 788kB 15.2MB/s eta 0:00:01\r\u001b[K     |██████████████▌                 | 798kB 15.2MB/s eta 0:00:01\r\u001b[K     |██████████████▋                 | 808kB 15.2MB/s eta 0:00:01\r\u001b[K     |██████████████▉                 | 819kB 15.2MB/s eta 0:00:01\r\u001b[K     |███████████████                 | 829kB 15.2MB/s eta 0:00:01\r\u001b[K     |███████████████▏                | 839kB 15.2MB/s eta 0:00:01\r\u001b[K     |███████████████▍                | 849kB 15.2MB/s eta 0:00:01\r\u001b[K     |███████████████▋                | 860kB 15.2MB/s eta 0:00:01\r\u001b[K     |███████████████▊                | 870kB 15.2MB/s eta 0:00:01\r\u001b[K     |████████████████                | 880kB 15.2MB/s eta 0:00:01\r\u001b[K     |████████████████▏               | 890kB 15.2MB/s eta 0:00:01\r\u001b[K     |████████████████▎               | 901kB 15.2MB/s eta 0:00:01\r\u001b[K     |████████████████▌               | 911kB 15.2MB/s eta 0:00:01\r\u001b[K     |████████████████▊               | 921kB 15.2MB/s eta 0:00:01\r\u001b[K     |████████████████▉               | 931kB 15.2MB/s eta 0:00:01\r\u001b[K     |█████████████████               | 942kB 15.2MB/s eta 0:00:01\r\u001b[K     |█████████████████▎              | 952kB 15.2MB/s eta 0:00:01\r\u001b[K     |█████████████████▍              | 962kB 15.2MB/s eta 0:00:01\r\u001b[K     |█████████████████▋              | 972kB 15.2MB/s eta 0:00:01\r\u001b[K     |█████████████████▉              | 983kB 15.2MB/s eta 0:00:01\r\u001b[K     |██████████████████              | 993kB 15.2MB/s eta 0:00:01\r\u001b[K     |██████████████████▏             | 1.0MB 15.2MB/s eta 0:00:01\r\u001b[K     |██████████████████▍             | 1.0MB 15.2MB/s eta 0:00:01\r\u001b[K     |██████████████████▌             | 1.0MB 15.2MB/s eta 0:00:01\r\u001b[K     |██████████████████▊             | 1.0MB 15.2MB/s eta 0:00:01\r\u001b[K     |███████████████████             | 1.0MB 15.2MB/s eta 0:00:01\r\u001b[K     |███████████████████             | 1.1MB 15.2MB/s eta 0:00:01\r\u001b[K     |███████████████████▎            | 1.1MB 15.2MB/s eta 0:00:01\r\u001b[K     |███████████████████▌            | 1.1MB 15.2MB/s eta 0:00:01\r\u001b[K     |███████████████████▋            | 1.1MB 15.2MB/s eta 0:00:01\r\u001b[K     |███████████████████▉            | 1.1MB 15.2MB/s eta 0:00:01\r\u001b[K     |████████████████████            | 1.1MB 15.2MB/s eta 0:00:01\r\u001b[K     |████████████████████▏           | 1.1MB 15.2MB/s eta 0:00:01\r\u001b[K     |████████████████████▍           | 1.1MB 15.2MB/s eta 0:00:01\r\u001b[K     |████████████████████▋           | 1.1MB 15.2MB/s eta 0:00:01\r\u001b[K     |████████████████████▊           | 1.1MB 15.2MB/s eta 0:00:01\r\u001b[K     |█████████████████████           | 1.2MB 15.2MB/s eta 0:00:01\r\u001b[K     |█████████████████████▏          | 1.2MB 15.2MB/s eta 0:00:01\r\u001b[K     |█████████████████████▎          | 1.2MB 15.2MB/s eta 0:00:01\r\u001b[K     |█████████████████████▌          | 1.2MB 15.2MB/s eta 0:00:01\r\u001b[K     |█████████████████████▊          | 1.2MB 15.2MB/s eta 0:00:01\r\u001b[K     |█████████████████████▉          | 1.2MB 15.2MB/s eta 0:00:01\r\u001b[K     |██████████████████████          | 1.2MB 15.2MB/s eta 0:00:01\r\u001b[K     |██████████████████████▎         | 1.2MB 15.2MB/s eta 0:00:01\r\u001b[K     |██████████████████████▍         | 1.2MB 15.2MB/s eta 0:00:01\r\u001b[K     |██████████████████████▋         | 1.2MB 15.2MB/s eta 0:00:01\r\u001b[K     |██████████████████████▉         | 1.3MB 15.2MB/s eta 0:00:01\r\u001b[K     |███████████████████████         | 1.3MB 15.2MB/s eta 0:00:01\r\u001b[K     |███████████████████████▏        | 1.3MB 15.2MB/s eta 0:00:01\r\u001b[K     |███████████████████████▍        | 1.3MB 15.2MB/s eta 0:00:01\r\u001b[K     |███████████████████████▌        | 1.3MB 15.2MB/s eta 0:00:01\r\u001b[K     |███████████████████████▊        | 1.3MB 15.2MB/s eta 0:00:01\r\u001b[K     |████████████████████████        | 1.3MB 15.2MB/s eta 0:00:01\r\u001b[K     |████████████████████████        | 1.3MB 15.2MB/s eta 0:00:01\r\u001b[K     |████████████████████████▎       | 1.3MB 15.2MB/s eta 0:00:01\r\u001b[K     |████████████████████████▌       | 1.4MB 15.2MB/s eta 0:00:01\r\u001b[K     |████████████████████████▊       | 1.4MB 15.2MB/s eta 0:00:01\r\u001b[K     |████████████████████████▉       | 1.4MB 15.2MB/s eta 0:00:01\r\u001b[K     |█████████████████████████       | 1.4MB 15.2MB/s eta 0:00:01\r\u001b[K     |█████████████████████████▎      | 1.4MB 15.2MB/s eta 0:00:01\r\u001b[K     |█████████████████████████▍      | 1.4MB 15.2MB/s eta 0:00:01\r\u001b[K     |█████████████████████████▋      | 1.4MB 15.2MB/s eta 0:00:01\r\u001b[K     |█████████████████████████▉      | 1.4MB 15.2MB/s eta 0:00:01\r\u001b[K     |██████████████████████████      | 1.4MB 15.2MB/s eta 0:00:01\r\u001b[K     |██████████████████████████▏     | 1.4MB 15.2MB/s eta 0:00:01\r\u001b[K     |██████████████████████████▍     | 1.5MB 15.2MB/s eta 0:00:01\r\u001b[K     |██████████████████████████▌     | 1.5MB 15.2MB/s eta 0:00:01\r\u001b[K     |██████████████████████████▊     | 1.5MB 15.2MB/s eta 0:00:01\r\u001b[K     |███████████████████████████     | 1.5MB 15.2MB/s eta 0:00:01\r\u001b[K     |███████████████████████████     | 1.5MB 15.2MB/s eta 0:00:01\r\u001b[K     |███████████████████████████▎    | 1.5MB 15.2MB/s eta 0:00:01\r\u001b[K     |███████████████████████████▌    | 1.5MB 15.2MB/s eta 0:00:01\r\u001b[K     |███████████████████████████▋    | 1.5MB 15.2MB/s eta 0:00:01\r\u001b[K     |███████████████████████████▉    | 1.5MB 15.2MB/s eta 0:00:01\r\u001b[K     |████████████████████████████    | 1.5MB 15.2MB/s eta 0:00:01\r\u001b[K     |████████████████████████████▏   | 1.6MB 15.2MB/s eta 0:00:01\r\u001b[K     |████████████████████████████▍   | 1.6MB 15.2MB/s eta 0:00:01\r\u001b[K     |████████████████████████████▋   | 1.6MB 15.2MB/s eta 0:00:01\r\u001b[K     |████████████████████████████▊   | 1.6MB 15.2MB/s eta 0:00:01\r\u001b[K     |█████████████████████████████   | 1.6MB 15.2MB/s eta 0:00:01\r\u001b[K     |█████████████████████████████▏  | 1.6MB 15.2MB/s eta 0:00:01\r\u001b[K     |█████████████████████████████▎  | 1.6MB 15.2MB/s eta 0:00:01\r\u001b[K     |█████████████████████████████▌  | 1.6MB 15.2MB/s eta 0:00:01\r\u001b[K     |█████████████████████████████▊  | 1.6MB 15.2MB/s eta 0:00:01\r\u001b[K     |█████████████████████████████▉  | 1.6MB 15.2MB/s eta 0:00:01\r\u001b[K     |██████████████████████████████  | 1.7MB 15.2MB/s eta 0:00:01\r\u001b[K     |██████████████████████████████▎ | 1.7MB 15.2MB/s eta 0:00:01\r\u001b[K     |██████████████████████████████▍ | 1.7MB 15.2MB/s eta 0:00:01\r\u001b[K     |██████████████████████████████▋ | 1.7MB 15.2MB/s eta 0:00:01\r\u001b[K     |██████████████████████████████▉ | 1.7MB 15.2MB/s eta 0:00:01\r\u001b[K     |███████████████████████████████ | 1.7MB 15.2MB/s eta 0:00:01\r\u001b[K     |███████████████████████████████▏| 1.7MB 15.2MB/s eta 0:00:01\r\u001b[K     |███████████████████████████████▍| 1.7MB 15.2MB/s eta 0:00:01\r\u001b[K     |███████████████████████████████▌| 1.7MB 15.2MB/s eta 0:00:01\r\u001b[K     |███████████████████████████████▊| 1.8MB 15.2MB/s eta 0:00:01\r\u001b[K     |████████████████████████████████| 1.8MB 15.2MB/s eta 0:00:01\r\u001b[K     |████████████████████████████████| 1.8MB 15.2MB/s \n",
            "\u001b[?25hRequirement already satisfied: filelock in /usr/local/lib/python3.6/dist-packages (from transformers) (3.0.12)\n",
            "Collecting tokenizers==0.9.4\n",
            "\u001b[?25l  Downloading https://files.pythonhosted.org/packages/0f/1c/e789a8b12e28be5bc1ce2156cf87cb522b379be9cadc7ad8091a4cc107c4/tokenizers-0.9.4-cp36-cp36m-manylinux2010_x86_64.whl (2.9MB)\n",
            "\u001b[K     |████████████████████████████████| 2.9MB 56.2MB/s \n",
            "\u001b[?25hRequirement already satisfied: tqdm>=4.27 in /usr/local/lib/python3.6/dist-packages (from transformers) (4.41.1)\n",
            "Requirement already satisfied: requests in /usr/local/lib/python3.6/dist-packages (from transformers) (2.23.0)\n",
            "Requirement already satisfied: regex!=2019.12.17 in /usr/local/lib/python3.6/dist-packages (from transformers) (2019.12.20)\n",
            "Requirement already satisfied: packaging in /usr/local/lib/python3.6/dist-packages (from transformers) (20.8)\n",
            "Collecting sacremoses\n",
            "\u001b[?25l  Downloading https://files.pythonhosted.org/packages/7d/34/09d19aff26edcc8eb2a01bed8e98f13a1537005d31e95233fd48216eed10/sacremoses-0.0.43.tar.gz (883kB)\n",
            "\u001b[K     |████████████████████████████████| 890kB 55.7MB/s \n",
            "\u001b[?25hRequirement already satisfied: numpy in /usr/local/lib/python3.6/dist-packages (from transformers) (1.19.5)\n",
            "Requirement already satisfied: importlib-metadata; python_version < \"3.8\" in /usr/local/lib/python3.6/dist-packages (from transformers) (3.3.0)\n",
            "Requirement already satisfied: dataclasses; python_version < \"3.7\" in /usr/local/lib/python3.6/dist-packages (from transformers) (0.8)\n",
            "Requirement already satisfied: urllib3!=1.25.0,!=1.25.1,<1.26,>=1.21.1 in /usr/local/lib/python3.6/dist-packages (from requests->transformers) (1.24.3)\n",
            "Requirement already satisfied: certifi>=2017.4.17 in /usr/local/lib/python3.6/dist-packages (from requests->transformers) (2020.12.5)\n",
            "Requirement already satisfied: chardet<4,>=3.0.2 in /usr/local/lib/python3.6/dist-packages (from requests->transformers) (3.0.4)\n",
            "Requirement already satisfied: idna<3,>=2.5 in /usr/local/lib/python3.6/dist-packages (from requests->transformers) (2.10)\n",
            "Requirement already satisfied: pyparsing>=2.0.2 in /usr/local/lib/python3.6/dist-packages (from packaging->transformers) (2.4.7)\n",
            "Requirement already satisfied: six in /usr/local/lib/python3.6/dist-packages (from sacremoses->transformers) (1.15.0)\n",
            "Requirement already satisfied: click in /usr/local/lib/python3.6/dist-packages (from sacremoses->transformers) (7.1.2)\n",
            "Requirement already satisfied: joblib in /usr/local/lib/python3.6/dist-packages (from sacremoses->transformers) (1.0.0)\n",
            "Requirement already satisfied: zipp>=0.5 in /usr/local/lib/python3.6/dist-packages (from importlib-metadata; python_version < \"3.8\"->transformers) (3.4.0)\n",
            "Requirement already satisfied: typing-extensions>=3.6.4; python_version < \"3.8\" in /usr/local/lib/python3.6/dist-packages (from importlib-metadata; python_version < \"3.8\"->transformers) (3.7.4.3)\n",
            "Building wheels for collected packages: sacremoses\n",
            "  Building wheel for sacremoses (setup.py) ... \u001b[?25l\u001b[?25hdone\n",
            "  Created wheel for sacremoses: filename=sacremoses-0.0.43-cp36-none-any.whl size=893261 sha256=362a5323d70a04cf16a5e782a857a337f1e1a1c8e0bb564684b0b24babadc7f7\n",
            "  Stored in directory: /root/.cache/pip/wheels/29/3c/fd/7ce5c3f0666dab31a50123635e6fb5e19ceb42ce38d4e58f45\n",
            "Successfully built sacremoses\n",
            "Installing collected packages: tokenizers, sacremoses, transformers\n",
            "Successfully installed sacremoses-0.0.43 tokenizers-0.9.4 transformers-4.2.2\n"
          ],
          "name": "stdout"
        }
      ]
    },
    {
      "cell_type": "code",
      "metadata": {
        "id": "20slSaFvu1CJ"
      },
      "source": [
        "import numpy as np\r\n",
        "import pandas as pd\r\n",
        "import matplotlib.pyplot as plt\r\n",
        "from scipy import spatial\r\n",
        "from sklearn.model_selection import train_test_split\r\n",
        "from sklearn.linear_model import LogisticRegression\r\n",
        "from sklearn.svm import SVC as svc\r\n",
        "from sklearn.ensemble import VotingClassifier\r\n",
        "from sklearn.model_selection import cross_val_score\r\n",
        "import torch\r\n",
        "import transformers as trnsf\r\n",
        "import warnings\r\n",
        "warnings.filterwarnings('ignore')"
      ],
      "execution_count": 5,
      "outputs": []
    },
    {
      "cell_type": "markdown",
      "metadata": {
        "id": "DqEb75WBpdB1"
      },
      "source": [
        "Exploring the dataset:"
      ]
    },
    {
      "cell_type": "code",
      "metadata": {
        "id": "cofI9M4Bf5sp"
      },
      "source": [
        "cols = ['gold_label', 'sentence1', 'sentence2']\r\n",
        "df = pd.read_csv('snli_1.0_train.csv', engine='python', usecols=cols)"
      ],
      "execution_count": 6,
      "outputs": []
    },
    {
      "cell_type": "code",
      "metadata": {
        "colab": {
          "base_uri": "https://localhost:8080/"
        },
        "id": "OoIvqqV3pFBl",
        "outputId": "c48449d0-868c-42af-886b-b92615c32619"
      },
      "source": [
        "df.info()\r\n",
        "\r\n",
        "# There are missing values, so we need to drop those rows."
      ],
      "execution_count": 7,
      "outputs": [
        {
          "output_type": "stream",
          "text": [
            "<class 'pandas.core.frame.DataFrame'>\n",
            "RangeIndex: 550152 entries, 0 to 550151\n",
            "Data columns (total 3 columns):\n",
            " #   Column      Non-Null Count   Dtype \n",
            "---  ------      --------------   ----- \n",
            " 0   gold_label  550152 non-null  object\n",
            " 1   sentence1   550152 non-null  object\n",
            " 2   sentence2   550146 non-null  object\n",
            "dtypes: object(3)\n",
            "memory usage: 12.6+ MB\n"
          ],
          "name": "stdout"
        }
      ]
    },
    {
      "cell_type": "code",
      "metadata": {
        "id": "6F5bMM98pNDC"
      },
      "source": [
        "df = df[~df['sentence2'].isnull()]"
      ],
      "execution_count": 8,
      "outputs": []
    },
    {
      "cell_type": "code",
      "metadata": {
        "colab": {
          "base_uri": "https://localhost:8080/"
        },
        "id": "5WnH6EBEpQdy",
        "outputId": "d5d1f86d-ae80-47a2-d6f6-79186707f46d"
      },
      "source": [
        "df.info()\r\n",
        "\r\n",
        "# Problem fixed! "
      ],
      "execution_count": 9,
      "outputs": [
        {
          "output_type": "stream",
          "text": [
            "<class 'pandas.core.frame.DataFrame'>\n",
            "Int64Index: 550146 entries, 0 to 550151\n",
            "Data columns (total 3 columns):\n",
            " #   Column      Non-Null Count   Dtype \n",
            "---  ------      --------------   ----- \n",
            " 0   gold_label  550146 non-null  object\n",
            " 1   sentence1   550146 non-null  object\n",
            " 2   sentence2   550146 non-null  object\n",
            "dtypes: object(3)\n",
            "memory usage: 16.8+ MB\n"
          ],
          "name": "stdout"
        }
      ]
    },
    {
      "cell_type": "code",
      "metadata": {
        "colab": {
          "base_uri": "https://localhost:8080/"
        },
        "id": "vM2T47-9r6yg",
        "outputId": "f49228cd-7f9f-4c06-c005-e418a61ee298"
      },
      "source": [
        "# Let's check if there are weird labels:\r\n",
        "df.gold_label.value_counts()\r\n",
        "\r\n",
        "# There are 785 rows with undifined category, for convenience, let's drop them too."
      ],
      "execution_count": 10,
      "outputs": [
        {
          "output_type": "execute_result",
          "data": {
            "text/plain": [
              "entailment       183414\n",
              "contradiction    183185\n",
              "neutral          182762\n",
              "-                   785\n",
              "Name: gold_label, dtype: int64"
            ]
          },
          "metadata": {
            "tags": []
          },
          "execution_count": 10
        }
      ]
    },
    {
      "cell_type": "code",
      "metadata": {
        "id": "_tJ3J1dtsTtf"
      },
      "source": [
        "df = df[(df.gold_label != \"-\")]"
      ],
      "execution_count": 11,
      "outputs": []
    },
    {
      "cell_type": "code",
      "metadata": {
        "colab": {
          "base_uri": "https://localhost:8080/"
        },
        "id": "C1vQmLUNsprh",
        "outputId": "afe15416-a3f3-431b-f63d-cbf229b06670"
      },
      "source": [
        "# check:\r\n",
        "df.gold_label.value_counts()\r\n",
        "\r\n",
        "# Problem fixed! "
      ],
      "execution_count": 12,
      "outputs": [
        {
          "output_type": "execute_result",
          "data": {
            "text/plain": [
              "entailment       183414\n",
              "contradiction    183185\n",
              "neutral          182762\n",
              "Name: gold_label, dtype: int64"
            ]
          },
          "metadata": {
            "tags": []
          },
          "execution_count": 12
        }
      ]
    },
    {
      "cell_type": "code",
      "metadata": {
        "colab": {
          "base_uri": "https://localhost:8080/",
          "height": 295
        },
        "id": "DfI_zPfpf5ST",
        "outputId": "5148ab11-a30a-4caf-adc8-137f04002232"
      },
      "source": [
        "plt.bar(df.gold_label.unique(),df.gold_label.value_counts())\r\n",
        "plt.ylabel('Count')\r\n",
        "plt.xlabel('Category')\r\n",
        "plt.title('Labels Distribution')\r\n",
        "plt.show()\r\n",
        "\r\n",
        "# The categories distribute equally."
      ],
      "execution_count": 13,
      "outputs": [
        {
          "output_type": "display_data",
          "data": {
            "image/png": "[encoded data removed]",
            "text/plain": [
              "<Figure size 432x288 with 1 Axes>"
            ]
          },
          "metadata": {
            "tags": [],
            "needs_background": "light"
          }
        }
      ]
    },
    {
      "cell_type": "code",
      "metadata": {
        "colab": {
          "base_uri": "https://localhost:8080/"
        },
        "id": "RZQoIWvEpV0c",
        "outputId": "cd191ae1-7132-46d3-aaf0-48e86424c37c"
      },
      "source": [
        "print(df.shape)"
      ],
      "execution_count": 14,
      "outputs": [
        {
          "output_type": "stream",
          "text": [
            "(549361, 3)\n"
          ],
          "name": "stdout"
        }
      ]
    },
    {
      "cell_type": "code",
      "metadata": {
        "colab": {
          "base_uri": "https://localhost:8080/",
          "height": 195
        },
        "id": "h8Q-UleepZOF",
        "outputId": "eff5f33c-3681-42c4-b60c-15c06a9b0ab0"
      },
      "source": [
        "df.head()"
      ],
      "execution_count": 15,
      "outputs": [
        {
          "output_type": "execute_result",
          "data": {
            "text/html": [
              "<div>\n",
              "<style scoped>\n",
              "    .dataframe tbody tr th:only-of-type {\n",
              "        vertical-align: middle;\n",
              "    }\n",
              "\n",
              "    .dataframe tbody tr th {\n",
              "        vertical-align: top;\n",
              "    }\n",
              "\n",
              "    .dataframe thead th {\n",
              "        text-align: right;\n",
              "    }\n",
              "</style>\n",
              "<table border=\"1\" class=\"dataframe\">\n",
              "  <thead>\n",
              "    <tr style=\"text-align: right;\">\n",
              "      <th></th>\n",
              "      <th>gold_label</th>\n",
              "      <th>sentence1</th>\n",
              "      <th>sentence2</th>\n",
              "    </tr>\n",
              "  </thead>\n",
              "  <tbody>\n",
              "    <tr>\n",
              "      <th>0</th>\n",
              "      <td>neutral</td>\n",
              "      <td>A person on a horse jumps over a broken down a...</td>\n",
              "      <td>A person is training his horse for a competition.</td>\n",
              "    </tr>\n",
              "    <tr>\n",
              "      <th>1</th>\n",
              "      <td>contradiction</td>\n",
              "      <td>A person on a horse jumps over a broken down a...</td>\n",
              "      <td>A person is at a diner, ordering an omelette.</td>\n",
              "    </tr>\n",
              "    <tr>\n",
              "      <th>2</th>\n",
              "      <td>entailment</td>\n",
              "      <td>A person on a horse jumps over a broken down a...</td>\n",
              "      <td>A person is outdoors, on a horse.</td>\n",
              "    </tr>\n",
              "    <tr>\n",
              "      <th>3</th>\n",
              "      <td>neutral</td>\n",
              "      <td>Children smiling and waving at camera</td>\n",
              "      <td>They are smiling at their parents</td>\n",
              "    </tr>\n",
              "    <tr>\n",
              "      <th>4</th>\n",
              "      <td>entailment</td>\n",
              "      <td>Children smiling and waving at camera</td>\n",
              "      <td>There are children present</td>\n",
              "    </tr>\n",
              "  </tbody>\n",
              "</table>\n",
              "</div>"
            ],
            "text/plain": [
              "      gold_label  ...                                          sentence2\n",
              "0        neutral  ...  A person is training his horse for a competition.\n",
              "1  contradiction  ...      A person is at a diner, ordering an omelette.\n",
              "2     entailment  ...                  A person is outdoors, on a horse.\n",
              "3        neutral  ...                  They are smiling at their parents\n",
              "4     entailment  ...                         There are children present\n",
              "\n",
              "[5 rows x 3 columns]"
            ]
          },
          "metadata": {
            "tags": []
          },
          "execution_count": 15
        }
      ]
    },
    {
      "cell_type": "code",
      "metadata": {
        "id": "WRc8Vz4Uiptr"
      },
      "source": [
        "# Shuffling the dataset:\r\n",
        "# We do that to increase the variance in the dataset.\r\n",
        "\r\n",
        "df = df.sample(frac=1, random_state=1).reset_index(drop=True)"
      ],
      "execution_count": 16,
      "outputs": []
    },
    {
      "cell_type": "code",
      "metadata": {
        "colab": {
          "base_uri": "https://localhost:8080/",
          "height": 195
        },
        "id": "1MB71uSWi73H",
        "outputId": "6d4f75c2-f908-428a-e001-adf190ed3793"
      },
      "source": [
        "df.head()"
      ],
      "execution_count": 17,
      "outputs": [
        {
          "output_type": "execute_result",
          "data": {
            "text/html": [
              "<div>\n",
              "<style scoped>\n",
              "    .dataframe tbody tr th:only-of-type {\n",
              "        vertical-align: middle;\n",
              "    }\n",
              "\n",
              "    .dataframe tbody tr th {\n",
              "        vertical-align: top;\n",
              "    }\n",
              "\n",
              "    .dataframe thead th {\n",
              "        text-align: right;\n",
              "    }\n",
              "</style>\n",
              "<table border=\"1\" class=\"dataframe\">\n",
              "  <thead>\n",
              "    <tr style=\"text-align: right;\">\n",
              "      <th></th>\n",
              "      <th>gold_label</th>\n",
              "      <th>sentence1</th>\n",
              "      <th>sentence2</th>\n",
              "    </tr>\n",
              "  </thead>\n",
              "  <tbody>\n",
              "    <tr>\n",
              "      <th>0</th>\n",
              "      <td>neutral</td>\n",
              "      <td>A young girl in a pink shirt sitting on a dock...</td>\n",
              "      <td>A young girl watching the sunset over the water.</td>\n",
              "    </tr>\n",
              "    <tr>\n",
              "      <th>1</th>\n",
              "      <td>entailment</td>\n",
              "      <td>A woman is smiling while the man next to her i...</td>\n",
              "      <td>Two people are next to each other.</td>\n",
              "    </tr>\n",
              "    <tr>\n",
              "      <th>2</th>\n",
              "      <td>neutral</td>\n",
              "      <td>Across the river, you can see a large building.</td>\n",
              "      <td>The large building is full of apartments and t...</td>\n",
              "    </tr>\n",
              "    <tr>\n",
              "      <th>3</th>\n",
              "      <td>contradiction</td>\n",
              "      <td>a man in white shorts and a black shirt is par...</td>\n",
              "      <td>A man is riding a jetski on the ocean.</td>\n",
              "    </tr>\n",
              "    <tr>\n",
              "      <th>4</th>\n",
              "      <td>contradiction</td>\n",
              "      <td>Four black dogs run together on bright green g...</td>\n",
              "      <td>Four dogs are preparing to be launched into sp...</td>\n",
              "    </tr>\n",
              "  </tbody>\n",
              "</table>\n",
              "</div>"
            ],
            "text/plain": [
              "      gold_label  ...                                          sentence2\n",
              "0        neutral  ...   A young girl watching the sunset over the water.\n",
              "1     entailment  ...                 Two people are next to each other.\n",
              "2        neutral  ...  The large building is full of apartments and t...\n",
              "3  contradiction  ...             A man is riding a jetski on the ocean.\n",
              "4  contradiction  ...  Four dogs are preparing to be launched into sp...\n",
              "\n",
              "[5 rows x 3 columns]"
            ]
          },
          "metadata": {
            "tags": []
          },
          "execution_count": 17
        }
      ]
    },
    {
      "cell_type": "code",
      "metadata": {
        "id": "7gV0fEeDq824"
      },
      "source": [
        "# For performance reasons, we'll only use 4,000 sentences from the dataset\r\n",
        "\r\n",
        "batch_1 = df[:4000]"
      ],
      "execution_count": 18,
      "outputs": []
    },
    {
      "cell_type": "code",
      "metadata": {
        "colab": {
          "base_uri": "https://localhost:8080/"
        },
        "id": "PWBYKZUBrKva",
        "outputId": "3c3cf21b-45b3-4d57-bafb-d3416c75c246"
      },
      "source": [
        "batch_1.shape"
      ],
      "execution_count": 19,
      "outputs": [
        {
          "output_type": "execute_result",
          "data": {
            "text/plain": [
              "(4000, 3)"
            ]
          },
          "metadata": {
            "tags": []
          },
          "execution_count": 19
        }
      ]
    },
    {
      "cell_type": "code",
      "metadata": {
        "colab": {
          "base_uri": "https://localhost:8080/"
        },
        "id": "eSKfViSjrkBj",
        "outputId": "a2ebfd60-1244-475c-beeb-11f2cc6e0183"
      },
      "source": [
        "batch_1['gold_label'].value_counts()\r\n",
        "\r\n",
        "# We can see the distribution of the label is quite similar."
      ],
      "execution_count": 20,
      "outputs": [
        {
          "output_type": "execute_result",
          "data": {
            "text/plain": [
              "entailment       1347\n",
              "contradiction    1345\n",
              "neutral          1308\n",
              "Name: gold_label, dtype: int64"
            ]
          },
          "metadata": {
            "tags": []
          },
          "execution_count": 20
        }
      ]
    },
    {
      "cell_type": "markdown",
      "metadata": {
        "id": "I9rmkNcUogfx"
      },
      "source": [
        "Loading the Pre-trained BERT model"
      ]
    },
    {
      "cell_type": "code",
      "metadata": {
        "colab": {
          "base_uri": "https://localhost:8080/",
          "height": 163,
          "referenced_widgets": [
            "2a5bf9fbd5e34a3baa000c7c4b496c74",
            "35e81779bb874725aa74eb328b2a4d87",
            "282864195c4d4a7bb96734ec2754cd2e",
            "f765cbec5d7f42989003d0482a68592e",
            "3584bc35c6ab4f5c88d21aea4638a9fb",
            "d4075397782a4db080ec8ecdeb89fa84",
            "feb41eb0a68a4c9e9caf8c51e2bacbc1",
            "2701c813dc034fa4a2d3bad2795af91d",
            "57660fd8fac14b3bbbb058985159822c",
            "bff73eec5a3e4f04a812f27385da8e29",
            "c68e70c4728748dbbeba72be0a3f9759",
            "15c94651974f464d970c5096571ba56e",
            "3a703169d889498aa16b43883d08d694",
            "d5f341293a6449bab7d411d3449c638d",
            "4798fdeb0cce4fc58b562f30153a9132",
            "5436a1b265894d639c9b9e242ab4c88a",
            "058c4a57c9ff40d0a2cc23b3dd722944",
            "eceb2f33bdce43cda0d233e152463f6f",
            "7f2b4986f7dd473084fc1a0ef1fb0f0a",
            "53fd3ef3a6db49598123ce193a708e95",
            "a65797ea1c574492abdff950abeac920",
            "b202e102573845f3a66c7252133da7ff",
            "9f8b098bd88d4000b7ffa2f0618a8945",
            "b168c8cf3a2843b695dc3dc3bb043eb9"
          ]
        },
        "id": "N441wrDcoluT",
        "outputId": "26ba9c0b-4d07-4380-9f45-814dcbd14ee7"
      },
      "source": [
        "# For DistilBERT:\r\n",
        "model_class, tokenizer_class, pretrained_weights = (trnsf.DistilBertModel, trnsf.DistilBertTokenizer, 'distilbert-base-uncased')\r\n",
        "\r\n",
        "# For Bert:\r\n",
        "#model_class, tokenizer_class, pretrained_weights = (trnsf.BertModel, trnsf.BertTokenizer, 'bert-base-uncased')\r\n",
        "\r\n",
        "# Load pretrained model/tokenizer\r\n",
        "tokenizer = tokenizer_class.from_pretrained(pretrained_weights)\r\n",
        "model = model_class.from_pretrained(pretrained_weights)"
      ],
      "execution_count": 21,
      "outputs": [
        {
          "output_type": "display_data",
          "data": {
            "application/vnd.jupyter.widget-view+json": {
              "model_id": "2a5bf9fbd5e34a3baa000c7c4b496c74",
              "version_minor": 0,
              "version_major": 2
            },
            "text/plain": [
              "HBox(children=(FloatProgress(value=0.0, description='Downloading', max=231508.0, style=ProgressStyle(descripti…"
            ]
          },
          "metadata": {
            "tags": []
          }
        },
        {
          "output_type": "stream",
          "text": [
            "\n"
          ],
          "name": "stdout"
        },
        {
          "output_type": "display_data",
          "data": {
            "application/vnd.jupyter.widget-view+json": {
              "model_id": "57660fd8fac14b3bbbb058985159822c",
              "version_minor": 0,
              "version_major": 2
            },
            "text/plain": [
              "HBox(children=(FloatProgress(value=0.0, description='Downloading', max=442.0, style=ProgressStyle(description_…"
            ]
          },
          "metadata": {
            "tags": []
          }
        },
        {
          "output_type": "stream",
          "text": [
            "\n"
          ],
          "name": "stdout"
        },
        {
          "output_type": "display_data",
          "data": {
            "application/vnd.jupyter.widget-view+json": {
              "model_id": "058c4a57c9ff40d0a2cc23b3dd722944",
              "version_minor": 0,
              "version_major": 2
            },
            "text/plain": [
              "HBox(children=(FloatProgress(value=0.0, description='Downloading', max=267967963.0, style=ProgressStyle(descri…"
            ]
          },
          "metadata": {
            "tags": []
          }
        },
        {
          "output_type": "stream",
          "text": [
            "\n"
          ],
          "name": "stdout"
        }
      ]
    },
    {
      "cell_type": "markdown",
      "metadata": {
        "id": "opFCdDdBo-8s"
      },
      "source": [
        "Preparing the Dataset"
      ]
    },
    {
      "cell_type": "code",
      "metadata": {
        "id": "deSDJ2qQo2le"
      },
      "source": [
        "# Tokenizing the sentences:\r\n",
        "\r\n",
        "s1_tokenized = batch_1['sentence1'].apply((lambda x: tokenizer.encode(x, add_special_tokens=True)))\r\n",
        "s2_tokenized = batch_1['sentence2'].apply((lambda x: tokenizer.encode(x, add_special_tokens=True)))"
      ],
      "execution_count": 22,
      "outputs": []
    },
    {
      "cell_type": "code",
      "metadata": {
        "colab": {
          "base_uri": "https://localhost:8080/"
        },
        "id": "zJsjsWk7uSPc",
        "outputId": "70ecc03f-69dc-4f10-d27c-2fea89d473b7"
      },
      "source": [
        "# Padding:\r\n",
        "\r\n",
        "# First let's find the max length of sentence1 and sentence2 columns:\r\n",
        "\r\n",
        "# Sentence1\r\n",
        "max_len_s1 = 0\r\n",
        "for i in s1_tokenized.values:\r\n",
        "    if len(i) > max_len_s1:\r\n",
        "        max_len_s1 = len(i)\r\n",
        "\r\n",
        "# Sentence2\r\n",
        "max_len_s2 = 0\r\n",
        "for i in s2_tokenized.values:\r\n",
        "    if len(i) > max_len_s2:\r\n",
        "        max_len_s2 = len(i)\r\n",
        "\r\n",
        "# We will take the maximum value\r\n",
        "max_len = max(max_len_s1, max_len_s2)\r\n",
        "print(\"Max Length:\", max_len)"
      ],
      "execution_count": 23,
      "outputs": [
        {
          "output_type": "stream",
          "text": [
            "Max Length: 74\n"
          ],
          "name": "stdout"
        }
      ]
    },
    {
      "cell_type": "code",
      "metadata": {
        "id": "ER3yqGLmuqr5"
      },
      "source": [
        "# And do the padding:\r\n",
        "\r\n",
        "padded_s1 = np.array([i + [0]*(max_len-len(i)) for i in s1_tokenized.values])\r\n",
        "padded_s2 = np.array([i + [0]*(max_len-len(i)) for i in s2_tokenized.values])"
      ],
      "execution_count": 24,
      "outputs": []
    },
    {
      "cell_type": "code",
      "metadata": {
        "colab": {
          "base_uri": "https://localhost:8080/"
        },
        "id": "RhHS1Xmzu3un",
        "outputId": "02266d81-8ff8-41c6-d7dc-ecda0802e8cf"
      },
      "source": [
        "# Check:\r\n",
        "np.array(padded_s1).shape\r\n",
        "\r\n",
        "# 3,000 is the number of rows I chose for the batch and 52 is the max legth\r\n",
        "# Now each sentence padded to be in length of 52."
      ],
      "execution_count": 25,
      "outputs": [
        {
          "output_type": "execute_result",
          "data": {
            "text/plain": [
              "(4000, 74)"
            ]
          },
          "metadata": {
            "tags": []
          },
          "execution_count": 25
        }
      ]
    },
    {
      "cell_type": "code",
      "metadata": {
        "colab": {
          "base_uri": "https://localhost:8080/"
        },
        "id": "5y-stqIiwIfU",
        "outputId": "7d61de14-2d7d-4fa2-8b6e-1e4d62465e54"
      },
      "source": [
        "# Masking\r\n",
        "# If we directly send padded to BERT, that would slightly confuse it. \r\n",
        "# We need to create another variable to tell it to ignore (mask) the padding we've added when it's processing its input. \r\n",
        "# That's what attention_mask is:\r\n",
        "\r\n",
        "attention_mask = np.where(padded_s1 != 0, 1, 0)\r\n",
        "attention_mask.shape"
      ],
      "execution_count": 26,
      "outputs": [
        {
          "output_type": "execute_result",
          "data": {
            "text/plain": [
              "(4000, 74)"
            ]
          },
          "metadata": {
            "tags": []
          },
          "execution_count": 26
        }
      ]
    },
    {
      "cell_type": "markdown",
      "metadata": {
        "id": "8zlnny4yxQIu"
      },
      "source": [
        "Modeling"
      ]
    },
    {
      "cell_type": "code",
      "metadata": {
        "id": "xAs-obRCw9j5"
      },
      "source": [
        "input_ids_s1 = torch.tensor(padded_s1)\r\n",
        "input_ids_s2 = torch.tensor(padded_s2)    \r\n",
        "attention_mask = torch.tensor(attention_mask)"
      ],
      "execution_count": 27,
      "outputs": []
    },
    {
      "cell_type": "code",
      "metadata": {
        "colab": {
          "base_uri": "https://localhost:8080/"
        },
        "id": "24nvLjUuxees",
        "outputId": "e92fbed3-1c01-42b6-d3a5-7c63b97c7edd"
      },
      "source": [
        "print(input_ids_s1)"
      ],
      "execution_count": 28,
      "outputs": [
        {
          "output_type": "stream",
          "text": [
            "tensor([[ 101, 1037, 2402,  ...,    0,    0,    0],\n",
            "        [ 101, 1037, 2450,  ...,    0,    0,    0],\n",
            "        [ 101, 2408, 1996,  ...,    0,    0,    0],\n",
            "        ...,\n",
            "        [ 101, 2048, 2273,  ...,    0,    0,    0],\n",
            "        [ 101, 2019, 2019,  ...,    0,    0,    0],\n",
            "        [ 101, 6927, 3917,  ...,    0,    0,    0]])\n"
          ],
          "name": "stdout"
        }
      ]
    },
    {
      "cell_type": "code",
      "metadata": {
        "id": "XaEZacmq-7dK"
      },
      "source": [
        "with torch.no_grad():\r\n",
        "    last_hidden_state_s1 = model(input_ids_s1, attention_mask=attention_mask)"
      ],
      "execution_count": 29,
      "outputs": []
    },
    {
      "cell_type": "code",
      "metadata": {
        "id": "Fo39V1GACvCF"
      },
      "source": [
        "with torch.no_grad():\r\n",
        "    last_hidden_state_s2 = model(input_ids_s2, attention_mask=attention_mask)"
      ],
      "execution_count": 30,
      "outputs": []
    },
    {
      "cell_type": "code",
      "metadata": {
        "id": "Xuh1Cca1yVfG"
      },
      "source": [
        "features_s1 = last_hidden_state_s1[0][:,0,:].numpy()\r\n",
        "features_s2 = last_hidden_state_s2[0][:,0,:].numpy()"
      ],
      "execution_count": 31,
      "outputs": []
    },
    {
      "cell_type": "code",
      "metadata": {
        "id": "LgCk_D3InmCc"
      },
      "source": [
        "diff_features = features_s1 - features_s2 # Simple substraction"
      ],
      "execution_count": 32,
      "outputs": []
    },
    {
      "cell_type": "code",
      "metadata": {
        "id": "BP8R2uvHrq-G"
      },
      "source": [
        "cosine_diff_features = [1 - spatial.distance.cosine(features_s1[i], features_s2[i]) for i in range(len(features_s2))]\r\n",
        "cosine_diff_features = np.asarray(cosine_diff_features).reshape(-1, 1)"
      ],
      "execution_count": 33,
      "outputs": []
    },
    {
      "cell_type": "code",
      "metadata": {
        "colab": {
          "base_uri": "https://localhost:8080/"
        },
        "id": "-xO7ci510pgA",
        "outputId": "d5e25fb6-e048-4719-c688-ebd100c7d21e"
      },
      "source": [
        "print('features_s1 shape:', features_s1.shape)\r\n",
        "print('diff_features shape:', diff_features.shape)\r\n",
        "print('cosine_diff_features shape:', cosine_diff_features.shape)"
      ],
      "execution_count": 34,
      "outputs": [
        {
          "output_type": "stream",
          "text": [
            "features_s1 shape: (4000, 768)\n",
            "diff_features shape: (4000, 768)\n",
            "cosine_diff_features shape: (4000, 1)\n"
          ],
          "name": "stdout"
        }
      ]
    },
    {
      "cell_type": "code",
      "metadata": {
        "id": "PA91iOaZ1XjM"
      },
      "source": [
        "features = np.concatenate((features_s1, features_s2), axis=1)"
      ],
      "execution_count": 35,
      "outputs": []
    },
    {
      "cell_type": "code",
      "metadata": {
        "colab": {
          "base_uri": "https://localhost:8080/"
        },
        "id": "4EVI2-6r1k2_",
        "outputId": "711f7063-170c-441a-ebd4-2ddf61495767"
      },
      "source": [
        "features.shape"
      ],
      "execution_count": 36,
      "outputs": [
        {
          "output_type": "execute_result",
          "data": {
            "text/plain": [
              "(4000, 1536)"
            ]
          },
          "metadata": {
            "tags": []
          },
          "execution_count": 36
        }
      ]
    },
    {
      "cell_type": "code",
      "metadata": {
        "id": "APNir3wLygb6"
      },
      "source": [
        "labels = batch_1.gold_label"
      ],
      "execution_count": 37,
      "outputs": []
    },
    {
      "cell_type": "code",
      "metadata": {
        "colab": {
          "base_uri": "https://localhost:8080/",
          "height": 265
        },
        "id": "BHfC_JKctxX1",
        "outputId": "1cc9beba-7e06-4321-d042-2f643b2a5776"
      },
      "source": [
        "plt.scatter(labels, cosine_diff_features);"
      ],
      "execution_count": 38,
      "outputs": [
        {
          "output_type": "display_data",
          "data": {
            "image/png": "[encoded data removed]",
            "text/plain": [
              "<Figure size 432x288 with 1 Axes>"
            ]
          },
          "metadata": {
            "tags": [],
            "needs_background": "light"
          }
        }
      ]
    },
    {
      "cell_type": "markdown",
      "metadata": {
        "id": "DbSonv-3ysM1"
      },
      "source": [
        "Creating Logistic regression:"
      ]
    },
    {
      "cell_type": "markdown",
      "metadata": {
        "id": "RYjIre1xoFvg"
      },
      "source": [
        "First try using concatenate of the fetures and Logisitic Regression Classifier:"
      ]
    },
    {
      "cell_type": "code",
      "metadata": {
        "id": "OLln5Urg0GTk"
      },
      "source": [
        "train_features, test_features, train_labels, test_labels = train_test_split(features, labels, random_state=1)"
      ],
      "execution_count": 39,
      "outputs": []
    },
    {
      "cell_type": "code",
      "metadata": {
        "colab": {
          "base_uri": "https://localhost:8080/"
        },
        "id": "dKIw2N2f2IA1",
        "outputId": "a50c3289-aec1-45e8-b32a-228772bb69d1"
      },
      "source": [
        "lr_clf = LogisticRegression()\r\n",
        "lr_clf.fit(train_features, train_labels)"
      ],
      "execution_count": 40,
      "outputs": [
        {
          "output_type": "execute_result",
          "data": {
            "text/plain": [
              "LogisticRegression(C=1.0, class_weight=None, dual=False, fit_intercept=True,\n",
              "                   intercept_scaling=1, l1_ratio=None, max_iter=100,\n",
              "                   multi_class='auto', n_jobs=None, penalty='l2',\n",
              "                   random_state=None, solver='lbfgs', tol=0.0001, verbose=0,\n",
              "                   warm_start=False)"
            ]
          },
          "metadata": {
            "tags": []
          },
          "execution_count": 40
        }
      ]
    },
    {
      "cell_type": "code",
      "metadata": {
        "colab": {
          "base_uri": "https://localhost:8080/"
        },
        "id": "WsX1QIoN2jHk",
        "outputId": "53914a27-bca0-4868-aa09-607af7b24fdc"
      },
      "source": [
        "# Evaluating model's results:\r\n",
        "lr_clf.score(test_features, test_labels)"
      ],
      "execution_count": 41,
      "outputs": [
        {
          "output_type": "execute_result",
          "data": {
            "text/plain": [
              "0.512"
            ]
          },
          "metadata": {
            "tags": []
          },
          "execution_count": 41
        }
      ]
    },
    {
      "cell_type": "code",
      "metadata": {
        "colab": {
          "base_uri": "https://localhost:8080/"
        },
        "id": "ucnukOFIekA9",
        "outputId": "b40d0c23-fabb-44a7-f9ec-61b1596fa0c2"
      },
      "source": [
        "# Using cross validation:\r\n",
        "np.mean(cross_val_score(lr_clf, test_features, test_labels, cv=7))"
      ],
      "execution_count": 42,
      "outputs": [
        {
          "output_type": "execute_result",
          "data": {
            "text/plain": [
              "0.49605324253211575"
            ]
          },
          "metadata": {
            "tags": []
          },
          "execution_count": 42
        }
      ]
    },
    {
      "cell_type": "markdown",
      "metadata": {
        "id": "84tjyjADoRaR"
      },
      "source": [
        "Second try using the difference of the features and Logisitic Regression Classifier:"
      ]
    },
    {
      "cell_type": "code",
      "metadata": {
        "id": "_0wD52nSoXXu"
      },
      "source": [
        "train_features, test_features, train_labels, test_labels = train_test_split(diff_features, labels, random_state=1)"
      ],
      "execution_count": 43,
      "outputs": []
    },
    {
      "cell_type": "code",
      "metadata": {
        "colab": {
          "base_uri": "https://localhost:8080/"
        },
        "id": "_lzzx16zoifd",
        "outputId": "9e6971d9-b1b9-401b-d6c7-c4fab059f9ad"
      },
      "source": [
        "lr_clf = LogisticRegression()\r\n",
        "lr_clf.fit(train_features, train_labels)"
      ],
      "execution_count": 44,
      "outputs": [
        {
          "output_type": "execute_result",
          "data": {
            "text/plain": [
              "LogisticRegression(C=1.0, class_weight=None, dual=False, fit_intercept=True,\n",
              "                   intercept_scaling=1, l1_ratio=None, max_iter=100,\n",
              "                   multi_class='auto', n_jobs=None, penalty='l2',\n",
              "                   random_state=None, solver='lbfgs', tol=0.0001, verbose=0,\n",
              "                   warm_start=False)"
            ]
          },
          "metadata": {
            "tags": []
          },
          "execution_count": 44
        }
      ]
    },
    {
      "cell_type": "code",
      "metadata": {
        "colab": {
          "base_uri": "https://localhost:8080/"
        },
        "id": "g8VgeeG9ojKX",
        "outputId": "93f56463-1514-46b5-81ba-5668f0e0a706"
      },
      "source": [
        "# Evaluating model's results:\r\n",
        "lr_clf.score(test_features, test_labels)"
      ],
      "execution_count": 45,
      "outputs": [
        {
          "output_type": "execute_result",
          "data": {
            "text/plain": [
              "0.491"
            ]
          },
          "metadata": {
            "tags": []
          },
          "execution_count": 45
        }
      ]
    },
    {
      "cell_type": "code",
      "metadata": {
        "colab": {
          "base_uri": "https://localhost:8080/"
        },
        "id": "u04AVWC8eEm2",
        "outputId": "0ac8fdca-4ef4-4d03-e7f2-5ced20f7bf3a"
      },
      "source": [
        "# Using cross validation:\r\n",
        "np.mean(cross_val_score(lr_clf, test_features, test_labels, cv=7))"
      ],
      "execution_count": 46,
      "outputs": [
        {
          "output_type": "execute_result",
          "data": {
            "text/plain": [
              "0.46502792981666224"
            ]
          },
          "metadata": {
            "tags": []
          },
          "execution_count": 46
        }
      ]
    },
    {
      "cell_type": "markdown",
      "metadata": {
        "id": "owZq70vDhP84"
      },
      "source": [
        "Third try using concatenate of the fetures and SVC Classifier:"
      ]
    },
    {
      "cell_type": "code",
      "metadata": {
        "id": "mvbKwrFNhsoE"
      },
      "source": [
        "train_features, test_features, train_labels, test_labels = train_test_split(features, labels, random_state=1)"
      ],
      "execution_count": 47,
      "outputs": []
    },
    {
      "cell_type": "code",
      "metadata": {
        "id": "57E79L2phkc9"
      },
      "source": [
        "svc_clf = svc(kernel='linear', C=1).fit(train_features, train_labels)"
      ],
      "execution_count": 48,
      "outputs": []
    },
    {
      "cell_type": "code",
      "metadata": {
        "colab": {
          "base_uri": "https://localhost:8080/"
        },
        "id": "3U752TRoiOjE",
        "outputId": "f0bc578d-bfb1-457c-f73a-d6844cff7909"
      },
      "source": [
        "# Evaluating model's results:\r\n",
        "svc_clf.score(test_features, test_labels)"
      ],
      "execution_count": 49,
      "outputs": [
        {
          "output_type": "execute_result",
          "data": {
            "text/plain": [
              "0.487"
            ]
          },
          "metadata": {
            "tags": []
          },
          "execution_count": 49
        }
      ]
    },
    {
      "cell_type": "code",
      "metadata": {
        "colab": {
          "base_uri": "https://localhost:8080/"
        },
        "id": "JF16ngzKiVMt",
        "outputId": "6959c3c8-2955-43d2-81ac-2e805b08952e"
      },
      "source": [
        "# Using cross validation:\r\n",
        "np.mean(cross_val_score(svc_clf, test_features, test_labels, cv=7))"
      ],
      "execution_count": 50,
      "outputs": [
        {
          "output_type": "execute_result",
          "data": {
            "text/plain": [
              "0.4680671441234822"
            ]
          },
          "metadata": {
            "tags": []
          },
          "execution_count": 50
        }
      ]
    },
    {
      "cell_type": "markdown",
      "metadata": {
        "id": "a8Z1RnFuiVmd"
      },
      "source": [
        "Forth try using the difference of the features and SVC Classifier:"
      ]
    },
    {
      "cell_type": "code",
      "metadata": {
        "id": "KzzCngfcjEiy"
      },
      "source": [
        "train_features, test_features, train_labels, test_labels = train_test_split(diff_features, labels, random_state=1)"
      ],
      "execution_count": 51,
      "outputs": []
    },
    {
      "cell_type": "code",
      "metadata": {
        "id": "RNmhCgy0kOeQ"
      },
      "source": [
        "svc_clf = svc(kernel='linear', C=1).fit(train_features, train_labels)"
      ],
      "execution_count": 52,
      "outputs": []
    },
    {
      "cell_type": "code",
      "metadata": {
        "colab": {
          "base_uri": "https://localhost:8080/"
        },
        "id": "Qq0FfzO0kRqE",
        "outputId": "ba74c58b-7e66-4827-a2d7-b7a3b2193595"
      },
      "source": [
        "# Evaluating model's results:\r\n",
        "svc_clf.score(test_features, test_labels)"
      ],
      "execution_count": 53,
      "outputs": [
        {
          "output_type": "execute_result",
          "data": {
            "text/plain": [
              "0.467"
            ]
          },
          "metadata": {
            "tags": []
          },
          "execution_count": 53
        }
      ]
    },
    {
      "cell_type": "code",
      "metadata": {
        "colab": {
          "base_uri": "https://localhost:8080/"
        },
        "id": "ou01FYmPkVJw",
        "outputId": "5fe052a3-51fb-4841-aeac-d0456c586f74"
      },
      "source": [
        "# Using cross validation:\r\n",
        "np.mean(cross_val_score(svc_clf, test_features, test_labels, cv=7))"
      ],
      "execution_count": 54,
      "outputs": [
        {
          "output_type": "execute_result",
          "data": {
            "text/plain": [
              "0.415007527683584"
            ]
          },
          "metadata": {
            "tags": []
          },
          "execution_count": 54
        }
      ]
    },
    {
      "cell_type": "markdown",
      "metadata": {
        "id": "xFu251mHkthc"
      },
      "source": [
        "Fifth try using the difference of the features and majority voting classifier (ensembles) :"
      ]
    },
    {
      "cell_type": "code",
      "metadata": {
        "id": "Gj5n41tVoICs"
      },
      "source": [
        "ecf = VotingClassifier(estimators=[('lr', lr_clf), ('svc', svc_clf)], voting='hard').fit(train_features, train_labels)"
      ],
      "execution_count": 55,
      "outputs": []
    },
    {
      "cell_type": "code",
      "metadata": {
        "colab": {
          "base_uri": "https://localhost:8080/"
        },
        "id": "WPqGNNnGoTK4",
        "outputId": "08e4c754-be2e-4dca-da74-9c20e7d8fbf8"
      },
      "source": [
        "ecf.score(test_features, test_labels)"
      ],
      "execution_count": 56,
      "outputs": [
        {
          "output_type": "execute_result",
          "data": {
            "text/plain": [
              "0.47"
            ]
          },
          "metadata": {
            "tags": []
          },
          "execution_count": 56
        }
      ]
    },
    {
      "cell_type": "code",
      "metadata": {
        "colab": {
          "base_uri": "https://localhost:8080/"
        },
        "id": "Om1SKHEDobZi",
        "outputId": "a687c586-6c2e-4858-9c1a-a7955c42593b"
      },
      "source": [
        "# Using cross validation:\r\n",
        "np.mean(cross_val_score(ecf, test_features, test_labels, cv=7))"
      ],
      "execution_count": 57,
      "outputs": [
        {
          "output_type": "execute_result",
          "data": {
            "text/plain": [
              "0.4370207257531202"
            ]
          },
          "metadata": {
            "tags": []
          },
          "execution_count": 57
        }
      ]
    }
  ]
}