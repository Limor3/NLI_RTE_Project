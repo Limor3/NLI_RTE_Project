{
  "nbformat": 4,
  "nbformat_minor": 0,
  "metadata": {
    "colab": {
      "name": "NLI_v2.ipynb",
      "provenance": [],
      "collapsed_sections": []
    },
    "kernelspec": {
      "name": "python3",
      "display_name": "Python 3"
    },
    "widgets": {
      "application/vnd.jupyter.widget-state+json": {
        "31d44f025df742ebb674674badf93ae3": {
          "model_module": "@jupyter-widgets/controls",
          "model_name": "HBoxModel",
          "state": {
            "_view_name": "HBoxView",
            "_dom_classes": [],
            "_model_name": "HBoxModel",
            "_view_module": "@jupyter-widgets/controls",
            "_model_module_version": "1.5.0",
            "_view_count": null,
            "_view_module_version": "1.5.0",
            "box_style": "",
            "layout": "IPY_MODEL_de9f9d5fa9304ab49f13d5bd4ad13c48",
            "_model_module": "@jupyter-widgets/controls",
            "children": [
              "IPY_MODEL_d6e66ad0ad004163a67d76005b9fadcf",
              "IPY_MODEL_8067f70c346c4165ad39c4af331dcb55"
            ]
          }
        },
        "de9f9d5fa9304ab49f13d5bd4ad13c48": {
          "model_module": "@jupyter-widgets/base",
          "model_name": "LayoutModel",
          "state": {
            "_view_name": "LayoutView",
            "grid_template_rows": null,
            "right": null,
            "justify_content": null,
            "_view_module": "@jupyter-widgets/base",
            "overflow": null,
            "_model_module_version": "1.2.0",
            "_view_count": null,
            "flex_flow": null,
            "width": null,
            "min_width": null,
            "border": null,
            "align_items": null,
            "bottom": null,
            "_model_module": "@jupyter-widgets/base",
            "top": null,
            "grid_column": null,
            "overflow_y": null,
            "overflow_x": null,
            "grid_auto_flow": null,
            "grid_area": null,
            "grid_template_columns": null,
            "flex": null,
            "_model_name": "LayoutModel",
            "justify_items": null,
            "grid_row": null,
            "max_height": null,
            "align_content": null,
            "visibility": null,
            "align_self": null,
            "height": null,
            "min_height": null,
            "padding": null,
            "grid_auto_rows": null,
            "grid_gap": null,
            "max_width": null,
            "order": null,
            "_view_module_version": "1.2.0",
            "grid_template_areas": null,
            "object_position": null,
            "object_fit": null,
            "grid_auto_columns": null,
            "margin": null,
            "display": null,
            "left": null
          }
        },
        "d6e66ad0ad004163a67d76005b9fadcf": {
          "model_module": "@jupyter-widgets/controls",
          "model_name": "FloatProgressModel",
          "state": {
            "_view_name": "ProgressView",
            "style": "IPY_MODEL_287d2c9f2c214c38ae9d219b6c9fb850",
            "_dom_classes": [],
            "description": "Downloading: 100%",
            "_model_name": "FloatProgressModel",
            "bar_style": "success",
            "max": 231508,
            "_view_module": "@jupyter-widgets/controls",
            "_model_module_version": "1.5.0",
            "value": 231508,
            "_view_count": null,
            "_view_module_version": "1.5.0",
            "orientation": "horizontal",
            "min": 0,
            "description_tooltip": null,
            "_model_module": "@jupyter-widgets/controls",
            "layout": "IPY_MODEL_1d5d4bde8c734addaf0b79bb5066d543"
          }
        },
        "8067f70c346c4165ad39c4af331dcb55": {
          "model_module": "@jupyter-widgets/controls",
          "model_name": "HTMLModel",
          "state": {
            "_view_name": "HTMLView",
            "style": "IPY_MODEL_424c04755059440189fc3eec6cffba50",
            "_dom_classes": [],
            "description": "",
            "_model_name": "HTMLModel",
            "placeholder": "​",
            "_view_module": "@jupyter-widgets/controls",
            "_model_module_version": "1.5.0",
            "value": " 232k/232k [00:00&lt;00:00, 1.42MB/s]",
            "_view_count": null,
            "_view_module_version": "1.5.0",
            "description_tooltip": null,
            "_model_module": "@jupyter-widgets/controls",
            "layout": "IPY_MODEL_5ca04b6da9a54fc3a025c5a4aed0ab90"
          }
        },
        "287d2c9f2c214c38ae9d219b6c9fb850": {
          "model_module": "@jupyter-widgets/controls",
          "model_name": "ProgressStyleModel",
          "state": {
            "_view_name": "StyleView",
            "_model_name": "ProgressStyleModel",
            "description_width": "initial",
            "_view_module": "@jupyter-widgets/base",
            "_model_module_version": "1.5.0",
            "_view_count": null,
            "_view_module_version": "1.2.0",
            "bar_color": null,
            "_model_module": "@jupyter-widgets/controls"
          }
        },
        "1d5d4bde8c734addaf0b79bb5066d543": {
          "model_module": "@jupyter-widgets/base",
          "model_name": "LayoutModel",
          "state": {
            "_view_name": "LayoutView",
            "grid_template_rows": null,
            "right": null,
            "justify_content": null,
            "_view_module": "@jupyter-widgets/base",
            "overflow": null,
            "_model_module_version": "1.2.0",
            "_view_count": null,
            "flex_flow": null,
            "width": null,
            "min_width": null,
            "border": null,
            "align_items": null,
            "bottom": null,
            "_model_module": "@jupyter-widgets/base",
            "top": null,
            "grid_column": null,
            "overflow_y": null,
            "overflow_x": null,
            "grid_auto_flow": null,
            "grid_area": null,
            "grid_template_columns": null,
            "flex": null,
            "_model_name": "LayoutModel",
            "justify_items": null,
            "grid_row": null,
            "max_height": null,
            "align_content": null,
            "visibility": null,
            "align_self": null,
            "height": null,
            "min_height": null,
            "padding": null,
            "grid_auto_rows": null,
            "grid_gap": null,
            "max_width": null,
            "order": null,
            "_view_module_version": "1.2.0",
            "grid_template_areas": null,
            "object_position": null,
            "object_fit": null,
            "grid_auto_columns": null,
            "margin": null,
            "display": null,
            "left": null
          }
        },
        "424c04755059440189fc3eec6cffba50": {
          "model_module": "@jupyter-widgets/controls",
          "model_name": "DescriptionStyleModel",
          "state": {
            "_view_name": "StyleView",
            "_model_name": "DescriptionStyleModel",
            "description_width": "",
            "_view_module": "@jupyter-widgets/base",
            "_model_module_version": "1.5.0",
            "_view_count": null,
            "_view_module_version": "1.2.0",
            "_model_module": "@jupyter-widgets/controls"
          }
        },
        "5ca04b6da9a54fc3a025c5a4aed0ab90": {
          "model_module": "@jupyter-widgets/base",
          "model_name": "LayoutModel",
          "state": {
            "_view_name": "LayoutView",
            "grid_template_rows": null,
            "right": null,
            "justify_content": null,
            "_view_module": "@jupyter-widgets/base",
            "overflow": null,
            "_model_module_version": "1.2.0",
            "_view_count": null,
            "flex_flow": null,
            "width": null,
            "min_width": null,
            "border": null,
            "align_items": null,
            "bottom": null,
            "_model_module": "@jupyter-widgets/base",
            "top": null,
            "grid_column": null,
            "overflow_y": null,
            "overflow_x": null,
            "grid_auto_flow": null,
            "grid_area": null,
            "grid_template_columns": null,
            "flex": null,
            "_model_name": "LayoutModel",
            "justify_items": null,
            "grid_row": null,
            "max_height": null,
            "align_content": null,
            "visibility": null,
            "align_self": null,
            "height": null,
            "min_height": null,
            "padding": null,
            "grid_auto_rows": null,
            "grid_gap": null,
            "max_width": null,
            "order": null,
            "_view_module_version": "1.2.0",
            "grid_template_areas": null,
            "object_position": null,
            "object_fit": null,
            "grid_auto_columns": null,
            "margin": null,
            "display": null,
            "left": null
          }
        },
        "0f3715f500a04d8784353b242576aaba": {
          "model_module": "@jupyter-widgets/controls",
          "model_name": "HBoxModel",
          "state": {
            "_view_name": "HBoxView",
            "_dom_classes": [],
            "_model_name": "HBoxModel",
            "_view_module": "@jupyter-widgets/controls",
            "_model_module_version": "1.5.0",
            "_view_count": null,
            "_view_module_version": "1.5.0",
            "box_style": "",
            "layout": "IPY_MODEL_da133ba01060446fa34bce58194cc0f2",
            "_model_module": "@jupyter-widgets/controls",
            "children": [
              "IPY_MODEL_385ec5558d5843cca58a7a16877e927c",
              "IPY_MODEL_6867203a1caf48e298653f516dbefe83"
            ]
          }
        },
        "da133ba01060446fa34bce58194cc0f2": {
          "model_module": "@jupyter-widgets/base",
          "model_name": "LayoutModel",
          "state": {
            "_view_name": "LayoutView",
            "grid_template_rows": null,
            "right": null,
            "justify_content": null,
            "_view_module": "@jupyter-widgets/base",
            "overflow": null,
            "_model_module_version": "1.2.0",
            "_view_count": null,
            "flex_flow": null,
            "width": null,
            "min_width": null,
            "border": null,
            "align_items": null,
            "bottom": null,
            "_model_module": "@jupyter-widgets/base",
            "top": null,
            "grid_column": null,
            "overflow_y": null,
            "overflow_x": null,
            "grid_auto_flow": null,
            "grid_area": null,
            "grid_template_columns": null,
            "flex": null,
            "_model_name": "LayoutModel",
            "justify_items": null,
            "grid_row": null,
            "max_height": null,
            "align_content": null,
            "visibility": null,
            "align_self": null,
            "height": null,
            "min_height": null,
            "padding": null,
            "grid_auto_rows": null,
            "grid_gap": null,
            "max_width": null,
            "order": null,
            "_view_module_version": "1.2.0",
            "grid_template_areas": null,
            "object_position": null,
            "object_fit": null,
            "grid_auto_columns": null,
            "margin": null,
            "display": null,
            "left": null
          }
        },
        "385ec5558d5843cca58a7a16877e927c": {
          "model_module": "@jupyter-widgets/controls",
          "model_name": "FloatProgressModel",
          "state": {
            "_view_name": "ProgressView",
            "style": "IPY_MODEL_e72441369df5438d920aa7fa36029c8f",
            "_dom_classes": [],
            "description": "Downloading: 100%",
            "_model_name": "FloatProgressModel",
            "bar_style": "success",
            "max": 442,
            "_view_module": "@jupyter-widgets/controls",
            "_model_module_version": "1.5.0",
            "value": 442,
            "_view_count": null,
            "_view_module_version": "1.5.0",
            "orientation": "horizontal",
            "min": 0,
            "description_tooltip": null,
            "_model_module": "@jupyter-widgets/controls",
            "layout": "IPY_MODEL_60ba5a958d2b4b46b422f06aaca5e56e"
          }
        },
        "6867203a1caf48e298653f516dbefe83": {
          "model_module": "@jupyter-widgets/controls",
          "model_name": "HTMLModel",
          "state": {
            "_view_name": "HTMLView",
            "style": "IPY_MODEL_c51712ea933c46cd88cb36d80f594b32",
            "_dom_classes": [],
            "description": "",
            "_model_name": "HTMLModel",
            "placeholder": "​",
            "_view_module": "@jupyter-widgets/controls",
            "_model_module_version": "1.5.0",
            "value": " 442/442 [00:00&lt;00:00, 751B/s]",
            "_view_count": null,
            "_view_module_version": "1.5.0",
            "description_tooltip": null,
            "_model_module": "@jupyter-widgets/controls",
            "layout": "IPY_MODEL_f1b0357720214246bd4a6b90baef129d"
          }
        },
        "e72441369df5438d920aa7fa36029c8f": {
          "model_module": "@jupyter-widgets/controls",
          "model_name": "ProgressStyleModel",
          "state": {
            "_view_name": "StyleView",
            "_model_name": "ProgressStyleModel",
            "description_width": "initial",
            "_view_module": "@jupyter-widgets/base",
            "_model_module_version": "1.5.0",
            "_view_count": null,
            "_view_module_version": "1.2.0",
            "bar_color": null,
            "_model_module": "@jupyter-widgets/controls"
          }
        },
        "60ba5a958d2b4b46b422f06aaca5e56e": {
          "model_module": "@jupyter-widgets/base",
          "model_name": "LayoutModel",
          "state": {
            "_view_name": "LayoutView",
            "grid_template_rows": null,
            "right": null,
            "justify_content": null,
            "_view_module": "@jupyter-widgets/base",
            "overflow": null,
            "_model_module_version": "1.2.0",
            "_view_count": null,
            "flex_flow": null,
            "width": null,
            "min_width": null,
            "border": null,
            "align_items": null,
            "bottom": null,
            "_model_module": "@jupyter-widgets/base",
            "top": null,
            "grid_column": null,
            "overflow_y": null,
            "overflow_x": null,
            "grid_auto_flow": null,
            "grid_area": null,
            "grid_template_columns": null,
            "flex": null,
            "_model_name": "LayoutModel",
            "justify_items": null,
            "grid_row": null,
            "max_height": null,
            "align_content": null,
            "visibility": null,
            "align_self": null,
            "height": null,
            "min_height": null,
            "padding": null,
            "grid_auto_rows": null,
            "grid_gap": null,
            "max_width": null,
            "order": null,
            "_view_module_version": "1.2.0",
            "grid_template_areas": null,
            "object_position": null,
            "object_fit": null,
            "grid_auto_columns": null,
            "margin": null,
            "display": null,
            "left": null
          }
        },
        "c51712ea933c46cd88cb36d80f594b32": {
          "model_module": "@jupyter-widgets/controls",
          "model_name": "DescriptionStyleModel",
          "state": {
            "_view_name": "StyleView",
            "_model_name": "DescriptionStyleModel",
            "description_width": "",
            "_view_module": "@jupyter-widgets/base",
            "_model_module_version": "1.5.0",
            "_view_count": null,
            "_view_module_version": "1.2.0",
            "_model_module": "@jupyter-widgets/controls"
          }
        },
        "f1b0357720214246bd4a6b90baef129d": {
          "model_module": "@jupyter-widgets/base",
          "model_name": "LayoutModel",
          "state": {
            "_view_name": "LayoutView",
            "grid_template_rows": null,
            "right": null,
            "justify_content": null,
            "_view_module": "@jupyter-widgets/base",
            "overflow": null,
            "_model_module_version": "1.2.0",
            "_view_count": null,
            "flex_flow": null,
            "width": null,
            "min_width": null,
            "border": null,
            "align_items": null,
            "bottom": null,
            "_model_module": "@jupyter-widgets/base",
            "top": null,
            "grid_column": null,
            "overflow_y": null,
            "overflow_x": null,
            "grid_auto_flow": null,
            "grid_area": null,
            "grid_template_columns": null,
            "flex": null,
            "_model_name": "LayoutModel",
            "justify_items": null,
            "grid_row": null,
            "max_height": null,
            "align_content": null,
            "visibility": null,
            "align_self": null,
            "height": null,
            "min_height": null,
            "padding": null,
            "grid_auto_rows": null,
            "grid_gap": null,
            "max_width": null,
            "order": null,
            "_view_module_version": "1.2.0",
            "grid_template_areas": null,
            "object_position": null,
            "object_fit": null,
            "grid_auto_columns": null,
            "margin": null,
            "display": null,
            "left": null
          }
        },
        "a1aa372f98e948bc8f9fb8338d615ca4": {
          "model_module": "@jupyter-widgets/controls",
          "model_name": "HBoxModel",
          "state": {
            "_view_name": "HBoxView",
            "_dom_classes": [],
            "_model_name": "HBoxModel",
            "_view_module": "@jupyter-widgets/controls",
            "_model_module_version": "1.5.0",
            "_view_count": null,
            "_view_module_version": "1.5.0",
            "box_style": "",
            "layout": "IPY_MODEL_e2568919195342b880eb57ff9700823e",
            "_model_module": "@jupyter-widgets/controls",
            "children": [
              "IPY_MODEL_f360dcb0df0f41cf81475692239e3e89",
              "IPY_MODEL_a96f85414fe04e1fb802b740f9c1ced3"
            ]
          }
        },
        "e2568919195342b880eb57ff9700823e": {
          "model_module": "@jupyter-widgets/base",
          "model_name": "LayoutModel",
          "state": {
            "_view_name": "LayoutView",
            "grid_template_rows": null,
            "right": null,
            "justify_content": null,
            "_view_module": "@jupyter-widgets/base",
            "overflow": null,
            "_model_module_version": "1.2.0",
            "_view_count": null,
            "flex_flow": null,
            "width": null,
            "min_width": null,
            "border": null,
            "align_items": null,
            "bottom": null,
            "_model_module": "@jupyter-widgets/base",
            "top": null,
            "grid_column": null,
            "overflow_y": null,
            "overflow_x": null,
            "grid_auto_flow": null,
            "grid_area": null,
            "grid_template_columns": null,
            "flex": null,
            "_model_name": "LayoutModel",
            "justify_items": null,
            "grid_row": null,
            "max_height": null,
            "align_content": null,
            "visibility": null,
            "align_self": null,
            "height": null,
            "min_height": null,
            "padding": null,
            "grid_auto_rows": null,
            "grid_gap": null,
            "max_width": null,
            "order": null,
            "_view_module_version": "1.2.0",
            "grid_template_areas": null,
            "object_position": null,
            "object_fit": null,
            "grid_auto_columns": null,
            "margin": null,
            "display": null,
            "left": null
          }
        },
        "f360dcb0df0f41cf81475692239e3e89": {
          "model_module": "@jupyter-widgets/controls",
          "model_name": "FloatProgressModel",
          "state": {
            "_view_name": "ProgressView",
            "style": "IPY_MODEL_b2b98fa19fce44778c36ec761d36a56e",
            "_dom_classes": [],
            "description": "Downloading: 100%",
            "_model_name": "FloatProgressModel",
            "bar_style": "success",
            "max": 267967963,
            "_view_module": "@jupyter-widgets/controls",
            "_model_module_version": "1.5.0",
            "value": 267967963,
            "_view_count": null,
            "_view_module_version": "1.5.0",
            "orientation": "horizontal",
            "min": 0,
            "description_tooltip": null,
            "_model_module": "@jupyter-widgets/controls",
            "layout": "IPY_MODEL_d21c1b9d9a9d4253b49852c0490fb46d"
          }
        },
        "a96f85414fe04e1fb802b740f9c1ced3": {
          "model_module": "@jupyter-widgets/controls",
          "model_name": "HTMLModel",
          "state": {
            "_view_name": "HTMLView",
            "style": "IPY_MODEL_5212fdbbdc2c4af4b47ae66227ce6022",
            "_dom_classes": [],
            "description": "",
            "_model_name": "HTMLModel",
            "placeholder": "​",
            "_view_module": "@jupyter-widgets/controls",
            "_model_module_version": "1.5.0",
            "value": " 268M/268M [00:07&lt;00:00, 36.2MB/s]",
            "_view_count": null,
            "_view_module_version": "1.5.0",
            "description_tooltip": null,
            "_model_module": "@jupyter-widgets/controls",
            "layout": "IPY_MODEL_57f1fa0c052746a7b8cdbf2f478f6533"
          }
        },
        "b2b98fa19fce44778c36ec761d36a56e": {
          "model_module": "@jupyter-widgets/controls",
          "model_name": "ProgressStyleModel",
          "state": {
            "_view_name": "StyleView",
            "_model_name": "ProgressStyleModel",
            "description_width": "initial",
            "_view_module": "@jupyter-widgets/base",
            "_model_module_version": "1.5.0",
            "_view_count": null,
            "_view_module_version": "1.2.0",
            "bar_color": null,
            "_model_module": "@jupyter-widgets/controls"
          }
        },
        "d21c1b9d9a9d4253b49852c0490fb46d": {
          "model_module": "@jupyter-widgets/base",
          "model_name": "LayoutModel",
          "state": {
            "_view_name": "LayoutView",
            "grid_template_rows": null,
            "right": null,
            "justify_content": null,
            "_view_module": "@jupyter-widgets/base",
            "overflow": null,
            "_model_module_version": "1.2.0",
            "_view_count": null,
            "flex_flow": null,
            "width": null,
            "min_width": null,
            "border": null,
            "align_items": null,
            "bottom": null,
            "_model_module": "@jupyter-widgets/base",
            "top": null,
            "grid_column": null,
            "overflow_y": null,
            "overflow_x": null,
            "grid_auto_flow": null,
            "grid_area": null,
            "grid_template_columns": null,
            "flex": null,
            "_model_name": "LayoutModel",
            "justify_items": null,
            "grid_row": null,
            "max_height": null,
            "align_content": null,
            "visibility": null,
            "align_self": null,
            "height": null,
            "min_height": null,
            "padding": null,
            "grid_auto_rows": null,
            "grid_gap": null,
            "max_width": null,
            "order": null,
            "_view_module_version": "1.2.0",
            "grid_template_areas": null,
            "object_position": null,
            "object_fit": null,
            "grid_auto_columns": null,
            "margin": null,
            "display": null,
            "left": null
          }
        },
        "5212fdbbdc2c4af4b47ae66227ce6022": {
          "model_module": "@jupyter-widgets/controls",
          "model_name": "DescriptionStyleModel",
          "state": {
            "_view_name": "StyleView",
            "_model_name": "DescriptionStyleModel",
            "description_width": "",
            "_view_module": "@jupyter-widgets/base",
            "_model_module_version": "1.5.0",
            "_view_count": null,
            "_view_module_version": "1.2.0",
            "_model_module": "@jupyter-widgets/controls"
          }
        },
        "57f1fa0c052746a7b8cdbf2f478f6533": {
          "model_module": "@jupyter-widgets/base",
          "model_name": "LayoutModel",
          "state": {
            "_view_name": "LayoutView",
            "grid_template_rows": null,
            "right": null,
            "justify_content": null,
            "_view_module": "@jupyter-widgets/base",
            "overflow": null,
            "_model_module_version": "1.2.0",
            "_view_count": null,
            "flex_flow": null,
            "width": null,
            "min_width": null,
            "border": null,
            "align_items": null,
            "bottom": null,
            "_model_module": "@jupyter-widgets/base",
            "top": null,
            "grid_column": null,
            "overflow_y": null,
            "overflow_x": null,
            "grid_auto_flow": null,
            "grid_area": null,
            "grid_template_columns": null,
            "flex": null,
            "_model_name": "LayoutModel",
            "justify_items": null,
            "grid_row": null,
            "max_height": null,
            "align_content": null,
            "visibility": null,
            "align_self": null,
            "height": null,
            "min_height": null,
            "padding": null,
            "grid_auto_rows": null,
            "grid_gap": null,
            "max_width": null,
            "order": null,
            "_view_module_version": "1.2.0",
            "grid_template_areas": null,
            "object_position": null,
            "object_fit": null,
            "grid_auto_columns": null,
            "margin": null,
            "display": null,
            "left": null
          }
        },
        "1405dbeb2dc542f98c7cba67a139f046": {
          "model_module": "@jupyter-widgets/controls",
          "model_name": "HBoxModel",
          "state": {
            "_view_name": "HBoxView",
            "_dom_classes": [],
            "_model_name": "HBoxModel",
            "_view_module": "@jupyter-widgets/controls",
            "_model_module_version": "1.5.0",
            "_view_count": null,
            "_view_module_version": "1.5.0",
            "box_style": "",
            "layout": "IPY_MODEL_196f936269764e3c9ef4075adab1c063",
            "_model_module": "@jupyter-widgets/controls",
            "children": [
              "IPY_MODEL_bb883cba602d4ce6a57f005963ce5fee",
              "IPY_MODEL_52987ce2106048d8b1b6be17ce5eda41"
            ]
          }
        },
        "196f936269764e3c9ef4075adab1c063": {
          "model_module": "@jupyter-widgets/base",
          "model_name": "LayoutModel",
          "state": {
            "_view_name": "LayoutView",
            "grid_template_rows": null,
            "right": null,
            "justify_content": null,
            "_view_module": "@jupyter-widgets/base",
            "overflow": null,
            "_model_module_version": "1.2.0",
            "_view_count": null,
            "flex_flow": null,
            "width": null,
            "min_width": null,
            "border": null,
            "align_items": null,
            "bottom": null,
            "_model_module": "@jupyter-widgets/base",
            "top": null,
            "grid_column": null,
            "overflow_y": null,
            "overflow_x": null,
            "grid_auto_flow": null,
            "grid_area": null,
            "grid_template_columns": null,
            "flex": null,
            "_model_name": "LayoutModel",
            "justify_items": null,
            "grid_row": null,
            "max_height": null,
            "align_content": null,
            "visibility": null,
            "align_self": null,
            "height": null,
            "min_height": null,
            "padding": null,
            "grid_auto_rows": null,
            "grid_gap": null,
            "max_width": null,
            "order": null,
            "_view_module_version": "1.2.0",
            "grid_template_areas": null,
            "object_position": null,
            "object_fit": null,
            "grid_auto_columns": null,
            "margin": null,
            "display": null,
            "left": null
          }
        },
        "bb883cba602d4ce6a57f005963ce5fee": {
          "model_module": "@jupyter-widgets/controls",
          "model_name": "FloatProgressModel",
          "state": {
            "_view_name": "ProgressView",
            "style": "IPY_MODEL_578cd2cd56454a85a8eb1067c6bbe5f9",
            "_dom_classes": [],
            "description": "100%",
            "_model_name": "FloatProgressModel",
            "bar_style": "success",
            "max": 3,
            "_view_module": "@jupyter-widgets/controls",
            "_model_module_version": "1.5.0",
            "value": 3,
            "_view_count": null,
            "_view_module_version": "1.5.0",
            "orientation": "horizontal",
            "min": 0,
            "description_tooltip": null,
            "_model_module": "@jupyter-widgets/controls",
            "layout": "IPY_MODEL_b25233118231494ab634ed206ce4b246"
          }
        },
        "52987ce2106048d8b1b6be17ce5eda41": {
          "model_module": "@jupyter-widgets/controls",
          "model_name": "HTMLModel",
          "state": {
            "_view_name": "HTMLView",
            "style": "IPY_MODEL_80092939dc144c54b38cdae12b20fa43",
            "_dom_classes": [],
            "description": "",
            "_model_name": "HTMLModel",
            "placeholder": "​",
            "_view_module": "@jupyter-widgets/controls",
            "_model_module_version": "1.5.0",
            "value": " 3/3 [44:37&lt;00:00, 892.44s/it]",
            "_view_count": null,
            "_view_module_version": "1.5.0",
            "description_tooltip": null,
            "_model_module": "@jupyter-widgets/controls",
            "layout": "IPY_MODEL_bfc32c9981104c718c241930862295d7"
          }
        },
        "578cd2cd56454a85a8eb1067c6bbe5f9": {
          "model_module": "@jupyter-widgets/controls",
          "model_name": "ProgressStyleModel",
          "state": {
            "_view_name": "StyleView",
            "_model_name": "ProgressStyleModel",
            "description_width": "initial",
            "_view_module": "@jupyter-widgets/base",
            "_model_module_version": "1.5.0",
            "_view_count": null,
            "_view_module_version": "1.2.0",
            "bar_color": null,
            "_model_module": "@jupyter-widgets/controls"
          }
        },
        "b25233118231494ab634ed206ce4b246": {
          "model_module": "@jupyter-widgets/base",
          "model_name": "LayoutModel",
          "state": {
            "_view_name": "LayoutView",
            "grid_template_rows": null,
            "right": null,
            "justify_content": null,
            "_view_module": "@jupyter-widgets/base",
            "overflow": null,
            "_model_module_version": "1.2.0",
            "_view_count": null,
            "flex_flow": null,
            "width": null,
            "min_width": null,
            "border": null,
            "align_items": null,
            "bottom": null,
            "_model_module": "@jupyter-widgets/base",
            "top": null,
            "grid_column": null,
            "overflow_y": null,
            "overflow_x": null,
            "grid_auto_flow": null,
            "grid_area": null,
            "grid_template_columns": null,
            "flex": null,
            "_model_name": "LayoutModel",
            "justify_items": null,
            "grid_row": null,
            "max_height": null,
            "align_content": null,
            "visibility": null,
            "align_self": null,
            "height": null,
            "min_height": null,
            "padding": null,
            "grid_auto_rows": null,
            "grid_gap": null,
            "max_width": null,
            "order": null,
            "_view_module_version": "1.2.0",
            "grid_template_areas": null,
            "object_position": null,
            "object_fit": null,
            "grid_auto_columns": null,
            "margin": null,
            "display": null,
            "left": null
          }
        },
        "80092939dc144c54b38cdae12b20fa43": {
          "model_module": "@jupyter-widgets/controls",
          "model_name": "DescriptionStyleModel",
          "state": {
            "_view_name": "StyleView",
            "_model_name": "DescriptionStyleModel",
            "description_width": "",
            "_view_module": "@jupyter-widgets/base",
            "_model_module_version": "1.5.0",
            "_view_count": null,
            "_view_module_version": "1.2.0",
            "_model_module": "@jupyter-widgets/controls"
          }
        },
        "bfc32c9981104c718c241930862295d7": {
          "model_module": "@jupyter-widgets/base",
          "model_name": "LayoutModel",
          "state": {
            "_view_name": "LayoutView",
            "grid_template_rows": null,
            "right": null,
            "justify_content": null,
            "_view_module": "@jupyter-widgets/base",
            "overflow": null,
            "_model_module_version": "1.2.0",
            "_view_count": null,
            "flex_flow": null,
            "width": null,
            "min_width": null,
            "border": null,
            "align_items": null,
            "bottom": null,
            "_model_module": "@jupyter-widgets/base",
            "top": null,
            "grid_column": null,
            "overflow_y": null,
            "overflow_x": null,
            "grid_auto_flow": null,
            "grid_area": null,
            "grid_template_columns": null,
            "flex": null,
            "_model_name": "LayoutModel",
            "justify_items": null,
            "grid_row": null,
            "max_height": null,
            "align_content": null,
            "visibility": null,
            "align_self": null,
            "height": null,
            "min_height": null,
            "padding": null,
            "grid_auto_rows": null,
            "grid_gap": null,
            "max_width": null,
            "order": null,
            "_view_module_version": "1.2.0",
            "grid_template_areas": null,
            "object_position": null,
            "object_fit": null,
            "grid_auto_columns": null,
            "margin": null,
            "display": null,
            "left": null
          }
        },
        "e2517367ac2643eca83454e2a0f4abaf": {
          "model_module": "@jupyter-widgets/controls",
          "model_name": "HBoxModel",
          "state": {
            "_view_name": "HBoxView",
            "_dom_classes": [],
            "_model_name": "HBoxModel",
            "_view_module": "@jupyter-widgets/controls",
            "_model_module_version": "1.5.0",
            "_view_count": null,
            "_view_module_version": "1.5.0",
            "box_style": "",
            "layout": "IPY_MODEL_5579e4e31ff548b8a77865f880ffaabb",
            "_model_module": "@jupyter-widgets/controls",
            "children": [
              "IPY_MODEL_e926a0a00954410286ece2e230a146a4",
              "IPY_MODEL_0bc090c332124d0e8917c28d789ea621"
            ]
          }
        },
        "5579e4e31ff548b8a77865f880ffaabb": {
          "model_module": "@jupyter-widgets/base",
          "model_name": "LayoutModel",
          "state": {
            "_view_name": "LayoutView",
            "grid_template_rows": null,
            "right": null,
            "justify_content": null,
            "_view_module": "@jupyter-widgets/base",
            "overflow": null,
            "_model_module_version": "1.2.0",
            "_view_count": null,
            "flex_flow": null,
            "width": null,
            "min_width": null,
            "border": null,
            "align_items": null,
            "bottom": null,
            "_model_module": "@jupyter-widgets/base",
            "top": null,
            "grid_column": null,
            "overflow_y": null,
            "overflow_x": null,
            "grid_auto_flow": null,
            "grid_area": null,
            "grid_template_columns": null,
            "flex": null,
            "_model_name": "LayoutModel",
            "justify_items": null,
            "grid_row": null,
            "max_height": null,
            "align_content": null,
            "visibility": null,
            "align_self": null,
            "height": null,
            "min_height": null,
            "padding": null,
            "grid_auto_rows": null,
            "grid_gap": null,
            "max_width": null,
            "order": null,
            "_view_module_version": "1.2.0",
            "grid_template_areas": null,
            "object_position": null,
            "object_fit": null,
            "grid_auto_columns": null,
            "margin": null,
            "display": null,
            "left": null
          }
        },
        "e926a0a00954410286ece2e230a146a4": {
          "model_module": "@jupyter-widgets/controls",
          "model_name": "FloatProgressModel",
          "state": {
            "_view_name": "ProgressView",
            "style": "IPY_MODEL_0133ee111afd4b96bad1eb9f34523a64",
            "_dom_classes": [],
            "description": "100%",
            "_model_name": "FloatProgressModel",
            "bar_style": "success",
            "max": 1,
            "_view_module": "@jupyter-widgets/controls",
            "_model_module_version": "1.5.0",
            "value": 1,
            "_view_count": null,
            "_view_module_version": "1.5.0",
            "orientation": "horizontal",
            "min": 0,
            "description_tooltip": null,
            "_model_module": "@jupyter-widgets/controls",
            "layout": "IPY_MODEL_0c31b0766dad49419a8d8e7fef47ec22"
          }
        },
        "0bc090c332124d0e8917c28d789ea621": {
          "model_module": "@jupyter-widgets/controls",
          "model_name": "HTMLModel",
          "state": {
            "_view_name": "HTMLView",
            "style": "IPY_MODEL_de60365573e14bada1b9ff3d0df09131",
            "_dom_classes": [],
            "description": "",
            "_model_name": "HTMLModel",
            "placeholder": "​",
            "_view_module": "@jupyter-widgets/controls",
            "_model_module_version": "1.5.0",
            "value": " 1/1 [10:28&lt;00:00, 628.49s/it]",
            "_view_count": null,
            "_view_module_version": "1.5.0",
            "description_tooltip": null,
            "_model_module": "@jupyter-widgets/controls",
            "layout": "IPY_MODEL_e9a763be0f014c64b2811a561ffdcd4d"
          }
        },
        "0133ee111afd4b96bad1eb9f34523a64": {
          "model_module": "@jupyter-widgets/controls",
          "model_name": "ProgressStyleModel",
          "state": {
            "_view_name": "StyleView",
            "_model_name": "ProgressStyleModel",
            "description_width": "initial",
            "_view_module": "@jupyter-widgets/base",
            "_model_module_version": "1.5.0",
            "_view_count": null,
            "_view_module_version": "1.2.0",
            "bar_color": null,
            "_model_module": "@jupyter-widgets/controls"
          }
        },
        "0c31b0766dad49419a8d8e7fef47ec22": {
          "model_module": "@jupyter-widgets/base",
          "model_name": "LayoutModel",
          "state": {
            "_view_name": "LayoutView",
            "grid_template_rows": null,
            "right": null,
            "justify_content": null,
            "_view_module": "@jupyter-widgets/base",
            "overflow": null,
            "_model_module_version": "1.2.0",
            "_view_count": null,
            "flex_flow": null,
            "width": null,
            "min_width": null,
            "border": null,
            "align_items": null,
            "bottom": null,
            "_model_module": "@jupyter-widgets/base",
            "top": null,
            "grid_column": null,
            "overflow_y": null,
            "overflow_x": null,
            "grid_auto_flow": null,
            "grid_area": null,
            "grid_template_columns": null,
            "flex": null,
            "_model_name": "LayoutModel",
            "justify_items": null,
            "grid_row": null,
            "max_height": null,
            "align_content": null,
            "visibility": null,
            "align_self": null,
            "height": null,
            "min_height": null,
            "padding": null,
            "grid_auto_rows": null,
            "grid_gap": null,
            "max_width": null,
            "order": null,
            "_view_module_version": "1.2.0",
            "grid_template_areas": null,
            "object_position": null,
            "object_fit": null,
            "grid_auto_columns": null,
            "margin": null,
            "display": null,
            "left": null
          }
        },
        "de60365573e14bada1b9ff3d0df09131": {
          "model_module": "@jupyter-widgets/controls",
          "model_name": "DescriptionStyleModel",
          "state": {
            "_view_name": "StyleView",
            "_model_name": "DescriptionStyleModel",
            "description_width": "",
            "_view_module": "@jupyter-widgets/base",
            "_model_module_version": "1.5.0",
            "_view_count": null,
            "_view_module_version": "1.2.0",
            "_model_module": "@jupyter-widgets/controls"
          }
        },
        "e9a763be0f014c64b2811a561ffdcd4d": {
          "model_module": "@jupyter-widgets/base",
          "model_name": "LayoutModel",
          "state": {
            "_view_name": "LayoutView",
            "grid_template_rows": null,
            "right": null,
            "justify_content": null,
            "_view_module": "@jupyter-widgets/base",
            "overflow": null,
            "_model_module_version": "1.2.0",
            "_view_count": null,
            "flex_flow": null,
            "width": null,
            "min_width": null,
            "border": null,
            "align_items": null,
            "bottom": null,
            "_model_module": "@jupyter-widgets/base",
            "top": null,
            "grid_column": null,
            "overflow_y": null,
            "overflow_x": null,
            "grid_auto_flow": null,
            "grid_area": null,
            "grid_template_columns": null,
            "flex": null,
            "_model_name": "LayoutModel",
            "justify_items": null,
            "grid_row": null,
            "max_height": null,
            "align_content": null,
            "visibility": null,
            "align_self": null,
            "height": null,
            "min_height": null,
            "padding": null,
            "grid_auto_rows": null,
            "grid_gap": null,
            "max_width": null,
            "order": null,
            "_view_module_version": "1.2.0",
            "grid_template_areas": null,
            "object_position": null,
            "object_fit": null,
            "grid_auto_columns": null,
            "margin": null,
            "display": null,
            "left": null
          }
        }
      }
    }
  },
  "cells": [
    {
      "cell_type": "markdown",
      "metadata": {
        "id": "ojp_DJaEe5nM"
      },
      "source": [
        "# Natural Language Inference Project"
      ]
    },
    {
      "cell_type": "markdown",
      "metadata": {
        "id": "qcuswKSXUhtf"
      },
      "source": [
        "## Intro:"
      ]
    },
    {
      "cell_type": "markdown",
      "metadata": {
        "id": "FowHEiluUmAt"
      },
      "source": [
        "I wanted to see how different newspapers reviews the same event. \r\n",
        "\r\n",
        "Is there any difference in the titles of the articles? \r\n",
        "\r\n",
        "To check this I worked on this project.\r\n",
        "\r\n",
        "This task is part of language inference, that called recognizing textual entailment (RTE).\r\n",
        "\r\n"
      ]
    },
    {
      "cell_type": "markdown",
      "metadata": {
        "id": "dsxDPBqsWrwz"
      },
      "source": [
        "So my project goal: determining how pairs of English sentences are related (entailment connection / contradict / neutral)\r\n",
        "\r\n",
        "**Example:**\r\n",
        "\r\n",
        "*Sentence 1*: \"The kids are sad\"\r\n",
        "\r\n",
        "*Sentence 2*: \"Children smiling and waiving at the camera\"\r\n",
        "\r\n",
        "*Conclusion*: Those sentence are contradict ('sad' is the opposite of 'smiling')"
      ]
    },
    {
      "cell_type": "markdown",
      "metadata": {
        "id": "IHe0v0bVaGBw"
      },
      "source": [
        "**How I tried to do that?**\r\n",
        "\r\n",
        "I used pre-trained Bert model (DistilBert) to get sentences' embeddings;\r\n",
        "then I trained Machine Learning models to do the classification task (Logistic Regression, Support Vector Classification and Ensembles)"
      ]
    },
    {
      "cell_type": "markdown",
      "metadata": {
        "id": "K1MBjWaBYOZJ"
      },
      "source": [
        "*Let's get started:*"
      ]
    },
    {
      "cell_type": "markdown",
      "metadata": {
        "id": "J4M5WSGDe_3G"
      },
      "source": [
        "##Loading the Data:"
      ]
    },
    {
      "cell_type": "markdown",
      "metadata": {
        "id": "c1NY2CxluxB6"
      },
      "source": [
        "For minimal viable product (MVP) I'll implement my project on prepared dataset of Stanford University, named SNLI: "
      ]
    },
    {
      "cell_type": "markdown",
      "metadata": {
        "id": "WG6gT4DiYeds"
      },
      "source": [
        "Dataset source: https://nlp.stanford.edu/projects/snli/\r\n",
        "\r\n",
        "Download the dataset: https://nlp.stanford.edu/projects/snli/snli_1.0.zip"
      ]
    },
    {
      "cell_type": "markdown",
      "metadata": {
        "id": "AzDA3vTFYjes"
      },
      "source": [
        "I mounted the dataset into my google drive and loaded it from there:\r\n"
      ]
    },
    {
      "cell_type": "code",
      "metadata": {
        "colab": {
          "base_uri": "https://localhost:8080/"
        },
        "id": "xMXBBo97fpsZ",
        "outputId": "ac6388ab-97f2-4f45-f894-8f5710ae4b28"
      },
      "source": [
        "from google.colab import drive\r\n",
        "drive.mount('/content/drive')"
      ],
      "execution_count": 1,
      "outputs": [
        {
          "output_type": "stream",
          "text": [
            "Mounted at /content/drive\n"
          ],
          "name": "stdout"
        }
      ]
    },
    {
      "cell_type": "markdown",
      "metadata": {
        "id": "Lri0xNZEZ5Ir"
      },
      "source": [
        "Navigating into the folder I saved in the dataset:"
      ]
    },
    {
      "cell_type": "code",
      "metadata": {
        "colab": {
          "base_uri": "https://localhost:8080/"
        },
        "id": "YTk6nfRvfvMx",
        "outputId": "8ac4054c-8565-4e0e-c535-0432adb3e7cb"
      },
      "source": [
        "%cd drive/MyDrive/Colab Notebooks/NLP_Project/"
      ],
      "execution_count": 2,
      "outputs": [
        {
          "output_type": "stream",
          "text": [
            "/content/drive/MyDrive/Colab Notebooks/NLP_Project\n"
          ],
          "name": "stdout"
        }
      ]
    },
    {
      "cell_type": "markdown",
      "metadata": {
        "id": "6_6fZfW2fK3A"
      },
      "source": [
        "##Importing packages:"
      ]
    },
    {
      "cell_type": "markdown",
      "metadata": {
        "id": "0AIeqEJkZwhF"
      },
      "source": [
        "Installing transformers package:"
      ]
    },
    {
      "cell_type": "code",
      "metadata": {
        "colab": {
          "base_uri": "https://localhost:8080/"
        },
        "id": "lLzeuspqf8kZ",
        "outputId": "564fb28a-94a6-4d17-d1aa-93fa8414f06f"
      },
      "source": [
        "!pip install transformers"
      ],
      "execution_count": 3,
      "outputs": [
        {
          "output_type": "stream",
          "text": [
            "Collecting transformers\n",
            "\u001b[?25l  Downloading https://files.pythonhosted.org/packages/88/b1/41130a228dd656a1a31ba281598a968320283f48d42782845f6ba567f00b/transformers-4.2.2-py3-none-any.whl (1.8MB)\n",
            "\u001b[K     |████████████████████████████████| 1.8MB 6.9MB/s \n",
            "\u001b[?25hRequirement already satisfied: packaging in /usr/local/lib/python3.6/dist-packages (from transformers) (20.8)\n",
            "Requirement already satisfied: tqdm>=4.27 in /usr/local/lib/python3.6/dist-packages (from transformers) (4.41.1)\n",
            "Requirement already satisfied: dataclasses; python_version < \"3.7\" in /usr/local/lib/python3.6/dist-packages (from transformers) (0.8)\n",
            "Requirement already satisfied: importlib-metadata; python_version < \"3.8\" in /usr/local/lib/python3.6/dist-packages (from transformers) (3.4.0)\n",
            "Requirement already satisfied: filelock in /usr/local/lib/python3.6/dist-packages (from transformers) (3.0.12)\n",
            "Collecting tokenizers==0.9.4\n",
            "\u001b[?25l  Downloading https://files.pythonhosted.org/packages/0f/1c/e789a8b12e28be5bc1ce2156cf87cb522b379be9cadc7ad8091a4cc107c4/tokenizers-0.9.4-cp36-cp36m-manylinux2010_x86_64.whl (2.9MB)\n",
            "\u001b[K     |████████████████████████████████| 2.9MB 29.5MB/s \n",
            "\u001b[?25hRequirement already satisfied: regex!=2019.12.17 in /usr/local/lib/python3.6/dist-packages (from transformers) (2019.12.20)\n",
            "Collecting sacremoses\n",
            "\u001b[?25l  Downloading https://files.pythonhosted.org/packages/7d/34/09d19aff26edcc8eb2a01bed8e98f13a1537005d31e95233fd48216eed10/sacremoses-0.0.43.tar.gz (883kB)\n",
            "\u001b[K     |████████████████████████████████| 890kB 21.6MB/s \n",
            "\u001b[?25hRequirement already satisfied: requests in /usr/local/lib/python3.6/dist-packages (from transformers) (2.23.0)\n",
            "Requirement already satisfied: numpy in /usr/local/lib/python3.6/dist-packages (from transformers) (1.19.5)\n",
            "Requirement already satisfied: pyparsing>=2.0.2 in /usr/local/lib/python3.6/dist-packages (from packaging->transformers) (2.4.7)\n",
            "Requirement already satisfied: typing-extensions>=3.6.4; python_version < \"3.8\" in /usr/local/lib/python3.6/dist-packages (from importlib-metadata; python_version < \"3.8\"->transformers) (3.7.4.3)\n",
            "Requirement already satisfied: zipp>=0.5 in /usr/local/lib/python3.6/dist-packages (from importlib-metadata; python_version < \"3.8\"->transformers) (3.4.0)\n",
            "Requirement already satisfied: six in /usr/local/lib/python3.6/dist-packages (from sacremoses->transformers) (1.15.0)\n",
            "Requirement already satisfied: click in /usr/local/lib/python3.6/dist-packages (from sacremoses->transformers) (7.1.2)\n",
            "Requirement already satisfied: joblib in /usr/local/lib/python3.6/dist-packages (from sacremoses->transformers) (1.0.0)\n",
            "Requirement already satisfied: idna<3,>=2.5 in /usr/local/lib/python3.6/dist-packages (from requests->transformers) (2.10)\n",
            "Requirement already satisfied: urllib3!=1.25.0,!=1.25.1,<1.26,>=1.21.1 in /usr/local/lib/python3.6/dist-packages (from requests->transformers) (1.24.3)\n",
            "Requirement already satisfied: chardet<4,>=3.0.2 in /usr/local/lib/python3.6/dist-packages (from requests->transformers) (3.0.4)\n",
            "Requirement already satisfied: certifi>=2017.4.17 in /usr/local/lib/python3.6/dist-packages (from requests->transformers) (2020.12.5)\n",
            "Building wheels for collected packages: sacremoses\n",
            "  Building wheel for sacremoses (setup.py) ... \u001b[?25l\u001b[?25hdone\n",
            "  Created wheel for sacremoses: filename=sacremoses-0.0.43-cp36-none-any.whl size=893261 sha256=8ca43f9f18f8e2a698ba4dace3ebce3d6f71a4073610157567c18dd79374b992\n",
            "  Stored in directory: /root/.cache/pip/wheels/29/3c/fd/7ce5c3f0666dab31a50123635e6fb5e19ceb42ce38d4e58f45\n",
            "Successfully built sacremoses\n",
            "Installing collected packages: tokenizers, sacremoses, transformers\n",
            "Successfully installed sacremoses-0.0.43 tokenizers-0.9.4 transformers-4.2.2\n"
          ],
          "name": "stdout"
        }
      ]
    },
    {
      "cell_type": "code",
      "metadata": {
        "id": "20slSaFvu1CJ"
      },
      "source": [
        "import numpy as np\r\n",
        "import pandas as pd\r\n",
        "import matplotlib.pyplot as plt\r\n",
        "from scipy import spatial\r\n",
        "from sklearn.model_selection import train_test_split\r\n",
        "from sklearn.linear_model import LogisticRegression\r\n",
        "from sklearn.svm import SVC as svc\r\n",
        "from sklearn.ensemble import VotingClassifier\r\n",
        "from sklearn.model_selection import cross_val_score\r\n",
        "from sklearn.metrics import confusion_matrix\r\n",
        "from sklearn.metrics import plot_confusion_matrix\r\n",
        "from tqdm.notebook import tqdm\r\n",
        "import torch\r\n",
        "import transformers as trnsf\r\n",
        "import warnings\r\n",
        "warnings.filterwarnings('ignore')"
      ],
      "execution_count": 88,
      "outputs": []
    },
    {
      "cell_type": "markdown",
      "metadata": {
        "id": "DqEb75WBpdB1"
      },
      "source": [
        "## Exploring the dataset:"
      ]
    },
    {
      "cell_type": "markdown",
      "metadata": {
        "id": "Z2kjMJLTg9QQ"
      },
      "source": [
        "I took the 'snli_1.0_train.csv' dataset for training and testing before using newspapers titles"
      ]
    },
    {
      "cell_type": "markdown",
      "metadata": {
        "id": "-ud0WRc8hUnQ"
      },
      "source": [
        "Loading the sentences and their label:"
      ]
    },
    {
      "cell_type": "code",
      "metadata": {
        "id": "cofI9M4Bf5sp"
      },
      "source": [
        "cols = ['gold_label', 'sentence1', 'sentence2']\r\n",
        "df = pd.read_csv('snli_1.0_train.csv', engine='python', usecols=cols)"
      ],
      "execution_count": 5,
      "outputs": []
    },
    {
      "cell_type": "markdown",
      "metadata": {
        "id": "DQNhkBu0hS_T"
      },
      "source": [
        "Taking a look at the dataset information:"
      ]
    },
    {
      "cell_type": "code",
      "metadata": {
        "colab": {
          "base_uri": "https://localhost:8080/"
        },
        "id": "OoIvqqV3pFBl",
        "outputId": "4df8cacd-b9a6-457c-e612-90d87c55d75f"
      },
      "source": [
        "df.info()"
      ],
      "execution_count": 6,
      "outputs": [
        {
          "output_type": "stream",
          "text": [
            "<class 'pandas.core.frame.DataFrame'>\n",
            "RangeIndex: 550152 entries, 0 to 550151\n",
            "Data columns (total 3 columns):\n",
            " #   Column      Non-Null Count   Dtype \n",
            "---  ------      --------------   ----- \n",
            " 0   gold_label  550152 non-null  object\n",
            " 1   sentence1   550152 non-null  object\n",
            " 2   sentence2   550146 non-null  object\n",
            "dtypes: object(3)\n",
            "memory usage: 12.6+ MB\n"
          ],
          "name": "stdout"
        }
      ]
    },
    {
      "cell_type": "markdown",
      "metadata": {
        "id": "o4mljFiL6G0y"
      },
      "source": [
        "Some sentences in the \"sentence2\" column are missing, so we need to drop those rows."
      ]
    },
    {
      "cell_type": "code",
      "metadata": {
        "id": "6F5bMM98pNDC"
      },
      "source": [
        "df = df[~df['sentence2'].isnull()]"
      ],
      "execution_count": 7,
      "outputs": []
    },
    {
      "cell_type": "markdown",
      "metadata": {
        "id": "yHM4HwybiHRt"
      },
      "source": [
        "Let's check again the dataset information:"
      ]
    },
    {
      "cell_type": "code",
      "metadata": {
        "colab": {
          "base_uri": "https://localhost:8080/"
        },
        "id": "5WnH6EBEpQdy",
        "outputId": "02a59926-c8a5-4c75-89c9-0eeecd0174e4"
      },
      "source": [
        "df.info()"
      ],
      "execution_count": 8,
      "outputs": [
        {
          "output_type": "stream",
          "text": [
            "<class 'pandas.core.frame.DataFrame'>\n",
            "Int64Index: 550146 entries, 0 to 550151\n",
            "Data columns (total 3 columns):\n",
            " #   Column      Non-Null Count   Dtype \n",
            "---  ------      --------------   ----- \n",
            " 0   gold_label  550146 non-null  object\n",
            " 1   sentence1   550146 non-null  object\n",
            " 2   sentence2   550146 non-null  object\n",
            "dtypes: object(3)\n",
            "memory usage: 16.8+ MB\n"
          ],
          "name": "stdout"
        }
      ]
    },
    {
      "cell_type": "markdown",
      "metadata": {
        "id": "AY6W8-EIiMDw"
      },
      "source": [
        "Problem fixed! the count in all the columns is the same."
      ]
    },
    {
      "cell_type": "markdown",
      "metadata": {
        "id": "mkfN2emOiZiq"
      },
      "source": [
        "Now let's check if there are weird labels:"
      ]
    },
    {
      "cell_type": "code",
      "metadata": {
        "colab": {
          "base_uri": "https://localhost:8080/"
        },
        "id": "vM2T47-9r6yg",
        "outputId": "3c5f065f-625f-4edd-aad8-df4871ae3366"
      },
      "source": [
        "df.gold_label.value_counts()"
      ],
      "execution_count": 9,
      "outputs": [
        {
          "output_type": "execute_result",
          "data": {
            "text/plain": [
              "entailment       183414\n",
              "contradiction    183185\n",
              "neutral          182762\n",
              "-                   785\n",
              "Name: gold_label, dtype: int64"
            ]
          },
          "metadata": {
            "tags": []
          },
          "execution_count": 9
        }
      ]
    },
    {
      "cell_type": "markdown",
      "metadata": {
        "id": "V7bMX6_sie8c"
      },
      "source": [
        "There are 785 rows with undifined category, for convenience, let's drop them too."
      ]
    },
    {
      "cell_type": "code",
      "metadata": {
        "id": "_tJ3J1dtsTtf"
      },
      "source": [
        "df = df[(df.gold_label != \"-\")]"
      ],
      "execution_count": 10,
      "outputs": []
    },
    {
      "cell_type": "markdown",
      "metadata": {
        "id": "TkUtOHhGijYI"
      },
      "source": [
        "Checking:"
      ]
    },
    {
      "cell_type": "code",
      "metadata": {
        "colab": {
          "base_uri": "https://localhost:8080/"
        },
        "id": "C1vQmLUNsprh",
        "outputId": "b2a951c6-01f1-4483-d7f1-337eb9171d38"
      },
      "source": [
        "df.gold_label.value_counts()"
      ],
      "execution_count": 11,
      "outputs": [
        {
          "output_type": "execute_result",
          "data": {
            "text/plain": [
              "entailment       183414\n",
              "contradiction    183185\n",
              "neutral          182762\n",
              "Name: gold_label, dtype: int64"
            ]
          },
          "metadata": {
            "tags": []
          },
          "execution_count": 11
        }
      ]
    },
    {
      "cell_type": "markdown",
      "metadata": {
        "id": "yqyxxPzoinrd"
      },
      "source": [
        " Problem fixed!"
      ]
    },
    {
      "cell_type": "markdown",
      "metadata": {
        "id": "ys1eAcpOizVp"
      },
      "source": [
        "Now let's plot the distribution of the categories:"
      ]
    },
    {
      "cell_type": "code",
      "metadata": {
        "colab": {
          "base_uri": "https://localhost:8080/",
          "height": 295
        },
        "id": "DfI_zPfpf5ST",
        "outputId": "969a3d4e-3b88-485c-8849-d02bb147b126"
      },
      "source": [
        "plt.bar(df.gold_label.unique(),df.gold_label.value_counts())\r\n",
        "plt.ylabel('Count')\r\n",
        "plt.xlabel('Category')\r\n",
        "plt.title('Labels Distribution')\r\n",
        "plt.show()"
      ],
      "execution_count": 12,
      "outputs": [
        {
          "output_type": "display_data",
          "data": {
            "image/png": "[encoded data removed]",
            "text/plain": [
              "<Figure size 432x288 with 1 Axes>"
            ]
          },
          "metadata": {
            "tags": [],
            "needs_background": "light"
          }
        }
      ]
    },
    {
      "cell_type": "markdown",
      "metadata": {
        "id": "nGlp1LxIi73J"
      },
      "source": [
        "The categories distribute equally."
      ]
    },
    {
      "cell_type": "markdown",
      "metadata": {
        "id": "U3WeX4JijC34"
      },
      "source": [
        "Printing the shape of the dataset:"
      ]
    },
    {
      "cell_type": "code",
      "metadata": {
        "colab": {
          "base_uri": "https://localhost:8080/"
        },
        "id": "RZQoIWvEpV0c",
        "outputId": "54921fc8-5a39-4f81-ee99-37522ab7d73f"
      },
      "source": [
        "print(df.shape)"
      ],
      "execution_count": 13,
      "outputs": [
        {
          "output_type": "stream",
          "text": [
            "(549361, 3)\n"
          ],
          "name": "stdout"
        }
      ]
    },
    {
      "cell_type": "markdown",
      "metadata": {
        "id": "Sc3vXfrxjIPI"
      },
      "source": [
        "Let's take a look how our dataset looks like:"
      ]
    },
    {
      "cell_type": "code",
      "metadata": {
        "colab": {
          "base_uri": "https://localhost:8080/",
          "height": 195
        },
        "id": "h8Q-UleepZOF",
        "outputId": "676b2b73-9480-49b8-f9d3-3c27b173a359"
      },
      "source": [
        "df.head()"
      ],
      "execution_count": 14,
      "outputs": [
        {
          "output_type": "execute_result",
          "data": {
            "text/html": [
              "<div>\n",
              "<style scoped>\n",
              "    .dataframe tbody tr th:only-of-type {\n",
              "        vertical-align: middle;\n",
              "    }\n",
              "\n",
              "    .dataframe tbody tr th {\n",
              "        vertical-align: top;\n",
              "    }\n",
              "\n",
              "    .dataframe thead th {\n",
              "        text-align: right;\n",
              "    }\n",
              "</style>\n",
              "<table border=\"1\" class=\"dataframe\">\n",
              "  <thead>\n",
              "    <tr style=\"text-align: right;\">\n",
              "      <th></th>\n",
              "      <th>gold_label</th>\n",
              "      <th>sentence1</th>\n",
              "      <th>sentence2</th>\n",
              "    </tr>\n",
              "  </thead>\n",
              "  <tbody>\n",
              "    <tr>\n",
              "      <th>0</th>\n",
              "      <td>neutral</td>\n",
              "      <td>A person on a horse jumps over a broken down a...</td>\n",
              "      <td>A person is training his horse for a competition.</td>\n",
              "    </tr>\n",
              "    <tr>\n",
              "      <th>1</th>\n",
              "      <td>contradiction</td>\n",
              "      <td>A person on a horse jumps over a broken down a...</td>\n",
              "      <td>A person is at a diner, ordering an omelette.</td>\n",
              "    </tr>\n",
              "    <tr>\n",
              "      <th>2</th>\n",
              "      <td>entailment</td>\n",
              "      <td>A person on a horse jumps over a broken down a...</td>\n",
              "      <td>A person is outdoors, on a horse.</td>\n",
              "    </tr>\n",
              "    <tr>\n",
              "      <th>3</th>\n",
              "      <td>neutral</td>\n",
              "      <td>Children smiling and waving at camera</td>\n",
              "      <td>They are smiling at their parents</td>\n",
              "    </tr>\n",
              "    <tr>\n",
              "      <th>4</th>\n",
              "      <td>entailment</td>\n",
              "      <td>Children smiling and waving at camera</td>\n",
              "      <td>There are children present</td>\n",
              "    </tr>\n",
              "  </tbody>\n",
              "</table>\n",
              "</div>"
            ],
            "text/plain": [
              "      gold_label  ...                                          sentence2\n",
              "0        neutral  ...  A person is training his horse for a competition.\n",
              "1  contradiction  ...      A person is at a diner, ordering an omelette.\n",
              "2     entailment  ...                  A person is outdoors, on a horse.\n",
              "3        neutral  ...                  They are smiling at their parents\n",
              "4     entailment  ...                         There are children present\n",
              "\n",
              "[5 rows x 3 columns]"
            ]
          },
          "metadata": {
            "tags": []
          },
          "execution_count": 14
        }
      ]
    },
    {
      "cell_type": "markdown",
      "metadata": {
        "id": "R1dQS17TjQMg"
      },
      "source": [
        "We can see the bunch of sentences with similar varient. We want the model expose to different sentences and won't learn things by this order so, let's shuffle the dataset and increase the variance:"
      ]
    },
    {
      "cell_type": "code",
      "metadata": {
        "id": "WRc8Vz4Uiptr"
      },
      "source": [
        "df = df.sample(frac=1, random_state=1).reset_index(drop=True)"
      ],
      "execution_count": 15,
      "outputs": []
    },
    {
      "cell_type": "markdown",
      "metadata": {
        "id": "p1hCup__kvhK"
      },
      "source": [
        "Taking another look at the dataset:"
      ]
    },
    {
      "cell_type": "code",
      "metadata": {
        "colab": {
          "base_uri": "https://localhost:8080/",
          "height": 195
        },
        "id": "1MB71uSWi73H",
        "outputId": "c0337ef6-5f91-4ea3-9779-16caf8225261"
      },
      "source": [
        "df.head()"
      ],
      "execution_count": 16,
      "outputs": [
        {
          "output_type": "execute_result",
          "data": {
            "text/html": [
              "<div>\n",
              "<style scoped>\n",
              "    .dataframe tbody tr th:only-of-type {\n",
              "        vertical-align: middle;\n",
              "    }\n",
              "\n",
              "    .dataframe tbody tr th {\n",
              "        vertical-align: top;\n",
              "    }\n",
              "\n",
              "    .dataframe thead th {\n",
              "        text-align: right;\n",
              "    }\n",
              "</style>\n",
              "<table border=\"1\" class=\"dataframe\">\n",
              "  <thead>\n",
              "    <tr style=\"text-align: right;\">\n",
              "      <th></th>\n",
              "      <th>gold_label</th>\n",
              "      <th>sentence1</th>\n",
              "      <th>sentence2</th>\n",
              "    </tr>\n",
              "  </thead>\n",
              "  <tbody>\n",
              "    <tr>\n",
              "      <th>0</th>\n",
              "      <td>neutral</td>\n",
              "      <td>A young girl in a pink shirt sitting on a dock...</td>\n",
              "      <td>A young girl watching the sunset over the water.</td>\n",
              "    </tr>\n",
              "    <tr>\n",
              "      <th>1</th>\n",
              "      <td>entailment</td>\n",
              "      <td>A woman is smiling while the man next to her i...</td>\n",
              "      <td>Two people are next to each other.</td>\n",
              "    </tr>\n",
              "    <tr>\n",
              "      <th>2</th>\n",
              "      <td>neutral</td>\n",
              "      <td>Across the river, you can see a large building.</td>\n",
              "      <td>The large building is full of apartments and t...</td>\n",
              "    </tr>\n",
              "    <tr>\n",
              "      <th>3</th>\n",
              "      <td>contradiction</td>\n",
              "      <td>a man in white shorts and a black shirt is par...</td>\n",
              "      <td>A man is riding a jetski on the ocean.</td>\n",
              "    </tr>\n",
              "    <tr>\n",
              "      <th>4</th>\n",
              "      <td>contradiction</td>\n",
              "      <td>Four black dogs run together on bright green g...</td>\n",
              "      <td>Four dogs are preparing to be launched into sp...</td>\n",
              "    </tr>\n",
              "  </tbody>\n",
              "</table>\n",
              "</div>"
            ],
            "text/plain": [
              "      gold_label  ...                                          sentence2\n",
              "0        neutral  ...   A young girl watching the sunset over the water.\n",
              "1     entailment  ...                 Two people are next to each other.\n",
              "2        neutral  ...  The large building is full of apartments and t...\n",
              "3  contradiction  ...             A man is riding a jetski on the ocean.\n",
              "4  contradiction  ...  Four dogs are preparing to be launched into sp...\n",
              "\n",
              "[5 rows x 3 columns]"
            ]
          },
          "metadata": {
            "tags": []
          },
          "execution_count": 16
        }
      ]
    },
    {
      "cell_type": "markdown",
      "metadata": {
        "id": "Bypg8yZTk2kg"
      },
      "source": [
        "Great! "
      ]
    },
    {
      "cell_type": "markdown",
      "metadata": {
        "id": "6-1f0dMdOt6M"
      },
      "source": [
        "---"
      ]
    },
    {
      "cell_type": "markdown",
      "metadata": {
        "id": "I9rmkNcUogfx"
      },
      "source": [
        "## Pre-trained BERT model"
      ]
    },
    {
      "cell_type": "markdown",
      "metadata": {
        "id": "Sj0aXKC9QXkm"
      },
      "source": [
        "### Why I chose BERT model? and why I chose to use DistilBERT version?"
      ]
    },
    {
      "cell_type": "markdown",
      "metadata": {
        "id": "incbkIDl7bxL"
      },
      "source": [
        "\r\n",
        "* BERT is bidirectional model - it can read a text (or a sequence of words) all at once, with no specific direction (it's not limited only to left-to-right or right-to-left).\r\n",
        "Because of that, BERT can understand the meaning of each word based on context both to the right and to the left of the word.\r\n",
        "\r\n",
        "* DistilBERT is a small, fast, cheap and light Transformer model trained by distilling BERT base.\r\n",
        "This allows me to train greater amount of sentences in google colab environment."
      ]
    },
    {
      "cell_type": "markdown",
      "metadata": {
        "id": "wiocRQiHT6nm"
      },
      "source": [
        "### Loading BERT model:"
      ]
    },
    {
      "cell_type": "code",
      "metadata": {
        "colab": {
          "base_uri": "https://localhost:8080/",
          "height": 163,
          "referenced_widgets": [
            "31d44f025df742ebb674674badf93ae3",
            "de9f9d5fa9304ab49f13d5bd4ad13c48",
            "d6e66ad0ad004163a67d76005b9fadcf",
            "8067f70c346c4165ad39c4af331dcb55",
            "287d2c9f2c214c38ae9d219b6c9fb850",
            "1d5d4bde8c734addaf0b79bb5066d543",
            "424c04755059440189fc3eec6cffba50",
            "5ca04b6da9a54fc3a025c5a4aed0ab90",
            "0f3715f500a04d8784353b242576aaba",
            "da133ba01060446fa34bce58194cc0f2",
            "385ec5558d5843cca58a7a16877e927c",
            "6867203a1caf48e298653f516dbefe83",
            "e72441369df5438d920aa7fa36029c8f",
            "60ba5a958d2b4b46b422f06aaca5e56e",
            "c51712ea933c46cd88cb36d80f594b32",
            "f1b0357720214246bd4a6b90baef129d",
            "a1aa372f98e948bc8f9fb8338d615ca4",
            "e2568919195342b880eb57ff9700823e",
            "f360dcb0df0f41cf81475692239e3e89",
            "a96f85414fe04e1fb802b740f9c1ced3",
            "b2b98fa19fce44778c36ec761d36a56e",
            "d21c1b9d9a9d4253b49852c0490fb46d",
            "5212fdbbdc2c4af4b47ae66227ce6022",
            "57f1fa0c052746a7b8cdbf2f478f6533"
          ]
        },
        "id": "N441wrDcoluT",
        "outputId": "614946a7-a00c-486f-d36d-4221410d1407"
      },
      "source": [
        "# For DistilBERT:\r\n",
        "model_class, tokenizer_class, pretrained_weights = (trnsf.DistilBertModel, trnsf.DistilBertTokenizer, 'distilbert-base-uncased')\r\n",
        "\r\n",
        "# For Bert:\r\n",
        "#model_class, tokenizer_class, pretrained_weights = (trnsf.BertModel, trnsf.BertTokenizer, 'bert-base-uncased')\r\n",
        "\r\n",
        "# Load pretrained model/tokenizer\r\n",
        "tokenizer = tokenizer_class.from_pretrained(pretrained_weights)\r\n",
        "model = model_class.from_pretrained(pretrained_weights)"
      ],
      "execution_count": 17,
      "outputs": [
        {
          "output_type": "display_data",
          "data": {
            "application/vnd.jupyter.widget-view+json": {
              "model_id": "31d44f025df742ebb674674badf93ae3",
              "version_minor": 0,
              "version_major": 2
            },
            "text/plain": [
              "HBox(children=(FloatProgress(value=0.0, description='Downloading', max=231508.0, style=ProgressStyle(descripti…"
            ]
          },
          "metadata": {
            "tags": []
          }
        },
        {
          "output_type": "stream",
          "text": [
            "\n"
          ],
          "name": "stdout"
        },
        {
          "output_type": "display_data",
          "data": {
            "application/vnd.jupyter.widget-view+json": {
              "model_id": "0f3715f500a04d8784353b242576aaba",
              "version_minor": 0,
              "version_major": 2
            },
            "text/plain": [
              "HBox(children=(FloatProgress(value=0.0, description='Downloading', max=442.0, style=ProgressStyle(description_…"
            ]
          },
          "metadata": {
            "tags": []
          }
        },
        {
          "output_type": "stream",
          "text": [
            "\n"
          ],
          "name": "stdout"
        },
        {
          "output_type": "display_data",
          "data": {
            "application/vnd.jupyter.widget-view+json": {
              "model_id": "a1aa372f98e948bc8f9fb8338d615ca4",
              "version_minor": 0,
              "version_major": 2
            },
            "text/plain": [
              "HBox(children=(FloatProgress(value=0.0, description='Downloading', max=267967963.0, style=ProgressStyle(descri…"
            ]
          },
          "metadata": {
            "tags": []
          }
        },
        {
          "output_type": "stream",
          "text": [
            "\n"
          ],
          "name": "stdout"
        }
      ]
    },
    {
      "cell_type": "markdown",
      "metadata": {
        "id": "zuuDjYqwWrW_"
      },
      "source": [
        "### Creating functions for future use:"
      ]
    },
    {
      "cell_type": "markdown",
      "metadata": {
        "id": "9kxlYM_SbEsN"
      },
      "source": [
        "*Tokenizing and Padding*"
      ]
    },
    {
      "cell_type": "markdown",
      "metadata": {
        "id": "Gr699gQGWzob"
      },
      "source": [
        "Tokenizing is the process of transfering the sentences into a vectors.\r\n",
        "Computers and specifically BERT model doesn't understand words, so we need to \"translate\" them into numbers that can be processed. \r\n",
        "In the tokenizing process every word (or part of it) get id number and it enters into a vector of the sentence. "
      ]
    },
    {
      "cell_type": "markdown",
      "metadata": {
        "id": "NG9U4YMbeATv"
      },
      "source": [
        "Padding is adding zeros at the end of the sentences (padding id is zero).\r\n",
        "We use it to make sure all the sentences have the same length. "
      ]
    },
    {
      "cell_type": "code",
      "metadata": {
        "id": "JNTRIK07UmGy"
      },
      "source": [
        "def get_tokenized_sentences(sentences):\r\n",
        "    \"\"\"\r\n",
        "    This function tokenizing and padding the sentences.\r\n",
        "    sentences parameter is a pandas series of sentences.\r\n",
        "    max_length parameter is the limit for how much padding to add to the sentence vector.\r\n",
        "    \"\"\"\r\n",
        "    tokenized_sen = sentences.apply((lambda x: tokenizer.encode(x, add_special_tokens=True)))\r\n",
        "    return tokenized_sen\r\n",
        "\r\n",
        "\r\n",
        "def find_max_len(tokenized_sen):\r\n",
        "    \"\"\"\r\n",
        "    This function finds the max length of the tokenized sentences\r\n",
        "    tokenized_sen parameter is a pandas series of tokenized sentences.\r\n",
        "    \"\"\"\r\n",
        "    max_len = 0\r\n",
        "    for i in tokenized_sen.values:\r\n",
        "        if len(i) > max_len:\r\n",
        "            max_len = len(i)\r\n",
        "    return max_len\r\n",
        "\r\n",
        "\r\n",
        "def padding(tokenized_sen, max_len):\r\n",
        "    \"\"\"\r\n",
        "    tokenized_sen parameter is a pandas series of tokenized sentences.\r\n",
        "    max_len parameter defines the length of the tokenized sentences after padding.\r\n",
        "    \"\"\"\r\n",
        "    padded_sentences = np.array([i + [0]*(max_len-len(i)) for i in tokenized_sen.values])\r\n",
        "    return padded_sentences"
      ],
      "execution_count": 18,
      "outputs": []
    },
    {
      "cell_type": "markdown",
      "metadata": {
        "id": "t71ZfH0kY_Gk"
      },
      "source": [
        "Example:\r\n",
        "\r\n",
        "I took a sentence and transfered it into pandas series (so the function can use it) and printed the tokenized form of it and the padded form with max_len of 10."
      ]
    },
    {
      "cell_type": "code",
      "metadata": {
        "colab": {
          "base_uri": "https://localhost:8080/"
        },
        "id": "WFzntV9gYHYY",
        "outputId": "6eed2fa2-f573-4631-8da4-7e0c69677272"
      },
      "source": [
        "my_sentence = \"Hello world\"\r\n",
        "my_sentence = pd.Series(my_sentence)\r\n",
        "\r\n",
        "my_sentence_tokenized = get_tokenized_sentences(my_sentence)\r\n",
        "print(\"tokenized:\", my_sentence_tokenized)\r\n",
        "\r\n",
        "my_sentence_padded = padding(my_sentence_tokenized, 10) \r\n",
        "print(\"padded:\", my_sentence_padded)"
      ],
      "execution_count": 19,
      "outputs": [
        {
          "output_type": "stream",
          "text": [
            "tokenized: 0    [101, 7592, 2088, 102]\n",
            "dtype: object\n",
            "padded: [[ 101 7592 2088  102    0    0    0    0    0    0]]\n"
          ],
          "name": "stdout"
        }
      ]
    },
    {
      "cell_type": "markdown",
      "metadata": {
        "id": "YiidI54tZL2m"
      },
      "source": [
        "To understand what we got let's use convert_ids_to_tokens method: "
      ]
    },
    {
      "cell_type": "code",
      "metadata": {
        "colab": {
          "base_uri": "https://localhost:8080/"
        },
        "id": "2EwADulPZ8tb",
        "outputId": "85fcddb0-a63a-42f6-ad47-963311c217e0"
      },
      "source": [
        "print('101 id is: ', tokenizer.convert_ids_to_tokens(101))\r\n",
        "print('7592 id is: ',tokenizer.convert_ids_to_tokens(7592))\r\n",
        "print('2088 id is: ',tokenizer.convert_ids_to_tokens(2088))\r\n",
        "print('102 id is: ',tokenizer.convert_ids_to_tokens(102))\r\n",
        "print('0 id is: ',tokenizer.convert_ids_to_tokens(0))"
      ],
      "execution_count": 20,
      "outputs": [
        {
          "output_type": "stream",
          "text": [
            "101 id is:  [CLS]\n",
            "7592 id is:  hello\n",
            "2088 id is:  world\n",
            "102 id is:  [SEP]\n",
            "0 id is:  [PAD]\n"
          ],
          "name": "stdout"
        }
      ]
    },
    {
      "cell_type": "markdown",
      "metadata": {
        "id": "zNzBxsHLackE"
      },
      "source": [
        "[CLS] and [SEP] are tokens to indicate the model where the sentence begins and ends.\r\n",
        "[PAD] is for padding."
      ]
    },
    {
      "cell_type": "markdown",
      "metadata": {
        "id": "q6Fb_Q5la_rq"
      },
      "source": [
        "*Masking*\r\n",
        "\r\n"
      ]
    },
    {
      "cell_type": "markdown",
      "metadata": {
        "id": "keMnEwPdjuDW"
      },
      "source": [
        "Masking or attention mask tells BERT to ignore (mask) the padding we have added and focus only at thhe sentence itself. "
      ]
    },
    {
      "cell_type": "code",
      "metadata": {
        "id": "uTYrC2WAa_XJ"
      },
      "source": [
        "def masking(padded_sentences):\r\n",
        "    \"\"\"\r\n",
        "    This function creates attention_mask.\r\n",
        "    padded_sentence parameter is a pandas series of padded sentences.\r\n",
        "    \"\"\"\r\n",
        "    attention_mask = np.where(padded_sentences != 0, 1, 0)\r\n",
        "    return attention_mask"
      ],
      "execution_count": 21,
      "outputs": []
    },
    {
      "cell_type": "markdown",
      "metadata": {
        "id": "PfbfV7rXqH9s"
      },
      "source": [
        "Let's print the attention mask for out example sentence:"
      ]
    },
    {
      "cell_type": "code",
      "metadata": {
        "colab": {
          "base_uri": "https://localhost:8080/"
        },
        "id": "Hdmo1LvcklBm",
        "outputId": "f39893c2-a109-428b-d6a1-a6341707a4d1"
      },
      "source": [
        "my_attention_mask = masking(my_sentence_padded)\r\n",
        "print(my_attention_mask)"
      ],
      "execution_count": 22,
      "outputs": [
        {
          "output_type": "stream",
          "text": [
            "[[1 1 1 1 0 0 0 0 0 0]]\n"
          ],
          "name": "stdout"
        }
      ]
    },
    {
      "cell_type": "markdown",
      "metadata": {
        "id": "1ipnkKN-myDt"
      },
      "source": [
        "We can see the attention vector tells BERT to focus on the first four words and ignore the other (the padding we just added)."
      ]
    },
    {
      "cell_type": "markdown",
      "metadata": {
        "id": "3aJWzobwkgeS"
      },
      "source": [
        "*BERT model*"
      ]
    },
    {
      "cell_type": "markdown",
      "metadata": {
        "id": "ntOhtTAppJac"
      },
      "source": [
        "The next function takes the padded sentences and attention mask, put them into the BERT model and gives us embeddings vectors; vectors that represent the meaning of the sentences, those will be out features."
      ]
    },
    {
      "cell_type": "code",
      "metadata": {
        "id": "jGsYuNCCiT2a"
      },
      "source": [
        "def get_embeddings(padded_sentences, attention_mask):\r\n",
        "    \"\"\"\r\n",
        "    This function takes the padded sentences and the attention mask and creates embeddings.\r\n",
        "    \"\"\"\r\n",
        "    input_ids = torch.tensor(padded_sentences)  \r\n",
        "    attention_mask = torch.tensor(attention_mask)\r\n",
        "    with torch.no_grad():\r\n",
        "        last_hidden_state = model(input_ids, attention_mask = attention_mask)\r\n",
        "\r\n",
        "    embeddings = last_hidden_state[0][:,0,:].numpy()\r\n",
        "\r\n",
        "    return embeddings"
      ],
      "execution_count": 23,
      "outputs": []
    },
    {
      "cell_type": "markdown",
      "metadata": {
        "id": "OscWEV2kqQCK"
      },
      "source": [
        "And finally let's print the embedding vector for our example:"
      ]
    },
    {
      "cell_type": "code",
      "metadata": {
        "id": "-W3geMnwqXYi"
      },
      "source": [
        "my_sentence_embedding = get_embeddings(my_sentence_padded, my_attention_mask)"
      ],
      "execution_count": 24,
      "outputs": []
    },
    {
      "cell_type": "code",
      "metadata": {
        "colab": {
          "base_uri": "https://localhost:8080/",
          "height": 314
        },
        "id": "aFXC8G-lrdlo",
        "outputId": "6737d5c0-0a18-40fe-f30e-e0d589078d4c"
      },
      "source": [
        "plt.plot(my_sentence_embedding.reshape(-1,1))\r\n",
        "plt.title('Embedding Representation');\r\n",
        "\r\n",
        "print(\"The shape of the vector:\", my_sentence_embedding.shape, \"\\n\")"
      ],
      "execution_count": 25,
      "outputs": [
        {
          "output_type": "stream",
          "text": [
            "The shape of the vector: (1, 768) \n",
            "\n"
          ],
          "name": "stdout"
        },
        {
          "output_type": "display_data",
          "data": {
            "image/png": "[encoded data removed]",
            "text/plain": [
              "<Figure size 432x288 with 1 Axes>"
            ]
          },
          "metadata": {
            "tags": [],
            "needs_background": "light"
          }
        }
      ]
    },
    {
      "cell_type": "markdown",
      "metadata": {
        "id": "LjsWBv-lrPbH"
      },
      "source": [
        "This vector represents the meaning of the sentence \"Hello World\"."
      ]
    },
    {
      "cell_type": "markdown",
      "metadata": {
        "id": "jZz1ZGqEnYE5"
      },
      "source": [
        "---"
      ]
    },
    {
      "cell_type": "markdown",
      "metadata": {
        "id": "in_GljdSAdTi"
      },
      "source": [
        "Now let's create function to run all the function I created together:"
      ]
    },
    {
      "cell_type": "code",
      "metadata": {
        "id": "kB0yVkhqAcma"
      },
      "source": [
        "def bert_model(sentence1, sentence2, max_len=100):\r\n",
        "    \"\"\"\r\n",
        "    This function receives two sentences (or pandas series of sentences) and creates embedding vectors for them.\r\n",
        "    max_len parameter is the max length of the padding vector.\r\n",
        "    \"\"\"\r\n",
        "    sentence1 = pd.Series(sentence1)\r\n",
        "    sentence2 = pd.Series(sentence2)\r\n",
        "\r\n",
        "    tokenized_sen1 = get_tokenized_sentences(sentence1)\r\n",
        "    tokenized_sen2 = get_tokenized_sentences(sentence2)\r\n",
        "\r\n",
        "    max_len_s1 = find_max_len(tokenized_sen1)\r\n",
        "    max_len_s2 = find_max_len(tokenized_sen2)\r\n",
        "    max_len = max(max_len_s1, max_len_s2, max_len)\r\n",
        "\r\n",
        "    padded_s1 = padding(tokenized_sen1, max_len)\r\n",
        "    padded_s2 = padding(tokenized_sen2, max_len)\r\n",
        "\r\n",
        "    attention_mask_s1 = masking(padded_s1)\r\n",
        "    attention_mask_s2 = masking(padded_s2)\r\n",
        "\r\n",
        "    embeddings_s1 = get_embeddings(padded_s1, attention_mask_s1)\r\n",
        "    embeddings_s2 = get_embeddings(padded_s2, attention_mask_s2)\r\n",
        "\r\n",
        "    return embeddings_s1, embeddings_s2"
      ],
      "execution_count": 26,
      "outputs": []
    },
    {
      "cell_type": "markdown",
      "metadata": {
        "id": "TPKKiZA0CuMy"
      },
      "source": [
        "And a function for plotting:"
      ]
    },
    {
      "cell_type": "code",
      "metadata": {
        "id": "0eVnnAYWCxPj"
      },
      "source": [
        "def plot_embeddings(embeddings_s1, embeddings_s2):\r\n",
        "    \"\"\"\r\n",
        "    This function receives two embedding functions and plot them together\r\n",
        "    \"\"\"\r\n",
        "    plt.figure(figsize=(10,5))\r\n",
        "    plt.plot(embeddings_s1.reshape(-1,1), label='sentence1')\r\n",
        "    plt.plot(embeddings_s2.reshape(-1,1), label='sentence2')\r\n",
        "    plt.legend(loc='lower left');"
      ],
      "execution_count": 27,
      "outputs": []
    },
    {
      "cell_type": "markdown",
      "metadata": {
        "id": "jQApNHhy8UaP"
      },
      "source": [
        "### Let's see if there is any difference in the plots of the categories:"
      ]
    },
    {
      "cell_type": "code",
      "metadata": {
        "id": "VIsGJ6WzIlry"
      },
      "source": [
        "entailment = df.loc[df['gold_label'] == 'entailment'].reset_index(drop=True)\r\n",
        "contradiction = df.loc[df['gold_label'] == 'contradiction'].reset_index(drop=True)\r\n",
        "neutral = df.loc[df['gold_label'] == 'neutral'].reset_index(drop=True)"
      ],
      "execution_count": 28,
      "outputs": []
    },
    {
      "cell_type": "markdown",
      "metadata": {
        "id": "l9dzEWd69T-G"
      },
      "source": [
        "*Entailment:*"
      ]
    },
    {
      "cell_type": "code",
      "metadata": {
        "colab": {
          "base_uri": "https://localhost:8080/"
        },
        "id": "5lcJYxm08Tj7",
        "outputId": "e61d6c1f-d2a0-4543-a30d-cb56daf2d3b0"
      },
      "source": [
        "print(\"label:\", entailment['gold_label'][0])\r\n",
        "print(\"sentence1\", entailment['sentence1'][0])\r\n",
        "print(\"sentence2\", entailment['sentence2'][0])"
      ],
      "execution_count": 29,
      "outputs": [
        {
          "output_type": "stream",
          "text": [
            "label: entailment\n",
            "sentence1 A woman is smiling while the man next to her is focused on a blue object with a pattern on it.\n",
            "sentence2 Two people are next to each other.\n"
          ],
          "name": "stdout"
        }
      ]
    },
    {
      "cell_type": "markdown",
      "metadata": {
        "id": "zaFEB69U-4dp"
      },
      "source": [
        "Running all the functions to get the embeddings and plotting:"
      ]
    },
    {
      "cell_type": "code",
      "metadata": {
        "colab": {
          "base_uri": "https://localhost:8080/",
          "height": 336
        },
        "id": "3ZoV-TRw9Xjg",
        "outputId": "a7220c28-5c19-4783-edf8-add9dae1ad0f"
      },
      "source": [
        "embeddings_s1_ent, embeddings_s2_ent = bert_model(df['sentence1'][0], df['sentence2'][0])\r\n",
        "plot_embeddings(embeddings_s1_ent, embeddings_s2_ent)\r\n",
        "plt.title('Entailment Embeddings Representation');"
      ],
      "execution_count": 30,
      "outputs": [
        {
          "output_type": "display_data",
          "data": {
            "image/png": "[encoded data removed]",
            "text/plain": [
              "<Figure size 720x360 with 1 Axes>"
            ]
          },
          "metadata": {
            "tags": [],
            "needs_background": "light"
          }
        }
      ]
    },
    {
      "cell_type": "markdown",
      "metadata": {
        "id": "l4y6SrzADmrj"
      },
      "source": [
        "*Contradiction*"
      ]
    },
    {
      "cell_type": "code",
      "metadata": {
        "colab": {
          "base_uri": "https://localhost:8080/"
        },
        "id": "oIRIiA3vDoAy",
        "outputId": "fbfbfc90-2533-43a3-9cdd-ef633d22b7a2"
      },
      "source": [
        "print(\"label:\", contradiction['gold_label'][0])\r\n",
        "print(\"sentence1\", contradiction['sentence1'][0])\r\n",
        "print(\"sentence2\", contradiction['sentence2'][0])"
      ],
      "execution_count": 31,
      "outputs": [
        {
          "output_type": "stream",
          "text": [
            "label: contradiction\n",
            "sentence1 a man in white shorts and a black shirt is paragliding on the ocean\n",
            "sentence2 A man is riding a jetski on the ocean.\n"
          ],
          "name": "stdout"
        }
      ]
    },
    {
      "cell_type": "markdown",
      "metadata": {
        "id": "UPnn2l_6D3UR"
      },
      "source": [
        "Running all the functions to get the embeddings and plotting:"
      ]
    },
    {
      "cell_type": "code",
      "metadata": {
        "colab": {
          "base_uri": "https://localhost:8080/",
          "height": 336
        },
        "id": "wc58u4AXDy0h",
        "outputId": "c4eeea97-2e58-4eab-beb7-f5f5cfefb93f"
      },
      "source": [
        "embeddings_s1_cont, embeddings_s2_cont = bert_model(df['sentence1'][0], df['sentence2'][0])\r\n",
        "plot_embeddings(embeddings_s1_cont, embeddings_s2_cont)\r\n",
        "plt.title('Contradiction Embeddings Representation');"
      ],
      "execution_count": 32,
      "outputs": [
        {
          "output_type": "display_data",
          "data": {
            "image/png": "[encoded data removed]",
            "text/plain": [
              "<Figure size 720x360 with 1 Axes>"
            ]
          },
          "metadata": {
            "tags": [],
            "needs_background": "light"
          }
        }
      ]
    },
    {
      "cell_type": "markdown",
      "metadata": {
        "id": "SwgGESuxEWOW"
      },
      "source": [
        "*Neutral*"
      ]
    },
    {
      "cell_type": "code",
      "metadata": {
        "colab": {
          "base_uri": "https://localhost:8080/"
        },
        "id": "3sVwlonVEaVT",
        "outputId": "21c1231b-2beb-413c-ae26-6af133272d0c"
      },
      "source": [
        "print(\"label:\", neutral['gold_label'][0])\r\n",
        "print(\"sentence1\", neutral['sentence1'][0])\r\n",
        "print(\"sentence2\", neutral['sentence2'][0])"
      ],
      "execution_count": 33,
      "outputs": [
        {
          "output_type": "stream",
          "text": [
            "label: neutral\n",
            "sentence1 A young girl in a pink shirt sitting on a dock viewing a body of water.\n",
            "sentence2 A young girl watching the sunset over the water.\n"
          ],
          "name": "stdout"
        }
      ]
    },
    {
      "cell_type": "markdown",
      "metadata": {
        "id": "JvttR-H-EcD_"
      },
      "source": [
        "Running all the functions to get the embeddings and plotting:"
      ]
    },
    {
      "cell_type": "code",
      "metadata": {
        "colab": {
          "base_uri": "https://localhost:8080/",
          "height": 336
        },
        "id": "-Dv7W_rzEcdR",
        "outputId": "260c14f9-c173-450c-edb0-f21fe9c1a280"
      },
      "source": [
        "embeddings_s1_neu, embeddings_s2_neu = bert_model(df['sentence1'][0], df['sentence2'][0])\r\n",
        "plot_embeddings(embeddings_s1_neu, embeddings_s2_neu)\r\n",
        "plt.title('Neutral Embeddings Representation');"
      ],
      "execution_count": 34,
      "outputs": [
        {
          "output_type": "display_data",
          "data": {
            "image/png": "[encoded data removed]",
            "text/plain": [
              "<Figure size 720x360 with 1 Axes>"
            ]
          },
          "metadata": {
            "tags": [],
            "needs_background": "light"
          }
        }
      ]
    },
    {
      "cell_type": "markdown",
      "metadata": {
        "id": "vrOMpjX4Gg5R"
      },
      "source": [
        "We can see there is some difference between the plots but we can't say by looking at them that we can distinguish between the categories only by the plot.\r\n",
        "\r\n",
        "Let's hope the models we'll train will do the work :)"
      ]
    },
    {
      "cell_type": "markdown",
      "metadata": {
        "id": "z7I06FLp8SR6"
      },
      "source": [
        "---"
      ]
    },
    {
      "cell_type": "markdown",
      "metadata": {
        "id": "8zlnny4yxQIu"
      },
      "source": [
        "## Modeling"
      ]
    },
    {
      "cell_type": "markdown",
      "metadata": {
        "id": "zgYatWCSs0P3"
      },
      "source": [
        "Let's return to our business:\r\n"
      ]
    },
    {
      "cell_type": "markdown",
      "metadata": {
        "id": "yBMLEKWqk-yA"
      },
      "source": [
        "Because of RAM and time limitations, I'll create batches and train my model on 15,000 rows and test it on 5,000 rows."
      ]
    },
    {
      "cell_type": "markdown",
      "metadata": {
        "id": "MRfNwLzhMneB"
      },
      "source": [
        "Let's split the data set into train and test subsets. I use shuffle to increase the variance and stratify to make sure the categories distribute evenly in the train and test subsets. X represents sentence1 and sentence2 columns and y represents our categories / labels."
      ]
    },
    {
      "cell_type": "code",
      "metadata": {
        "id": "Qnw-apVFLmM6"
      },
      "source": [
        "train_size = 1500\r\n",
        "test_size = 500\r\n",
        "\r\n",
        "# train_size = 15000\r\n",
        "# test_size = 5000\r\n",
        "\r\n",
        "X_train, X_test, y_train, y_test = train_test_split(df[['sentence1', 'sentence2']],\r\n",
        "                                                    df['gold_label'], test_size=test_size,\r\n",
        "                                                    train_size=train_size, random_state=1,\r\n",
        "                                                    shuffle=True, stratify=df['gold_label'])\r\n",
        "\r\n",
        "X_train = X_train.reset_index(drop=True)\r\n",
        "X_test = X_test.reset_index(drop=True)\r\n",
        "y_train = y_train.reset_index(drop=True)\r\n",
        "y_test = y_test.reset_index(drop=True)"
      ],
      "execution_count": 35,
      "outputs": []
    },
    {
      "cell_type": "markdown",
      "metadata": {
        "id": "Y6xG2KXUT4zc"
      },
      "source": [
        "I'm reseting the indices so we can loop over those datasets."
      ]
    },
    {
      "cell_type": "markdown",
      "metadata": {
        "id": "iPrQWGkHOHdB"
      },
      "source": [
        "Checking the shapes and value counts of the subsets:"
      ]
    },
    {
      "cell_type": "code",
      "metadata": {
        "colab": {
          "base_uri": "https://localhost:8080/"
        },
        "id": "cDgf7aePNEc6",
        "outputId": "a8ac1eea-be0e-4a82-e491-adb96d2bb921"
      },
      "source": [
        "print('X_train shape:', X_train.shape)\r\n",
        "print('y_train shape:', y_train.shape)\r\n",
        "print('X_test shape:', X_test.shape)\r\n",
        "print('y_test shape:', y_test.shape)"
      ],
      "execution_count": 36,
      "outputs": [
        {
          "output_type": "stream",
          "text": [
            "X_train shape: (1500, 2)\n",
            "y_train shape: (1500,)\n",
            "X_test shape: (500, 2)\n",
            "y_test shape: (500,)\n"
          ],
          "name": "stdout"
        }
      ]
    },
    {
      "cell_type": "code",
      "metadata": {
        "colab": {
          "base_uri": "https://localhost:8080/"
        },
        "id": "AwoVOAk6Ou7i",
        "outputId": "9407801b-0a1f-47df-da14-a66a6efc7b86"
      },
      "source": [
        "print(\"Train:\\n\", y_train.value_counts(), \"\\n\")\r\n",
        "print(\"Test:\\n\", y_test.value_counts())"
      ],
      "execution_count": 37,
      "outputs": [
        {
          "output_type": "stream",
          "text": [
            "Train:\n",
            " entailment       501\n",
            "contradiction    500\n",
            "neutral          499\n",
            "Name: gold_label, dtype: int64 \n",
            "\n",
            "Test:\n",
            " contradiction    167\n",
            "entailment       167\n",
            "neutral          166\n",
            "Name: gold_label, dtype: int64\n"
          ],
          "name": "stdout"
        }
      ]
    },
    {
      "cell_type": "code",
      "metadata": {
        "colab": {
          "base_uri": "https://localhost:8080/",
          "height": 295
        },
        "id": "UtNMxAlHP2CR",
        "outputId": "5bad2c9a-4fa2-40cf-9ecd-3bc77cca4a83"
      },
      "source": [
        "plt.bar(y_train.unique(),y_train.value_counts())\r\n",
        "plt.ylabel('Count')\r\n",
        "plt.xlabel('Category')\r\n",
        "plt.title('Labels Distribution of Train Set')\r\n",
        "plt.show()"
      ],
      "execution_count": 38,
      "outputs": [
        {
          "output_type": "display_data",
          "data": {
            "image/png": "[encoded data removed]",
            "text/plain": [
              "<Figure size 432x288 with 1 Axes>"
            ]
          },
          "metadata": {
            "tags": [],
            "needs_background": "light"
          }
        }
      ]
    },
    {
      "cell_type": "markdown",
      "metadata": {
        "id": "of6zXryUPKH4"
      },
      "source": [
        "Good, The shapes as defined and the distribution of the categories is quite similar."
      ]
    },
    {
      "cell_type": "markdown",
      "metadata": {
        "id": "J5rKhzuNPtj4"
      },
      "source": [
        "Let's create embeddings for \"sentence1\" and \"sentence2\" columns.\r\n",
        "\r\n",
        "It's gonna take a while..."
      ]
    },
    {
      "cell_type": "code",
      "metadata": {
        "id": "7gV0fEeDq824",
        "colab": {
          "base_uri": "https://localhost:8080/",
          "height": 66,
          "referenced_widgets": [
            "1405dbeb2dc542f98c7cba67a139f046",
            "196f936269764e3c9ef4075adab1c063",
            "bb883cba602d4ce6a57f005963ce5fee",
            "52987ce2106048d8b1b6be17ce5eda41",
            "578cd2cd56454a85a8eb1067c6bbe5f9",
            "b25233118231494ab634ed206ce4b246",
            "80092939dc144c54b38cdae12b20fa43",
            "bfc32c9981104c718c241930862295d7"
          ]
        },
        "outputId": "68eaab11-0f3c-472e-f073-6cd1be9cf134"
      },
      "source": [
        "total_embeddings_s1_train = []\r\n",
        "total_embeddings_s2_train = []\r\n",
        "\r\n",
        "for i in tqdm(range(int(train_size / 500))): \r\n",
        "    batch = X_train[i*500:i*500+500]\r\n",
        "    embeddings_s1, embeddings_s2 = bert_model(batch['sentence1'], batch['sentence2'])\r\n",
        "\r\n",
        "    total_embeddings_s1_train.extend(embeddings_s1)\r\n",
        "    total_embeddings_s2_train.extend(embeddings_s2)"
      ],
      "execution_count": 93,
      "outputs": [
        {
          "output_type": "display_data",
          "data": {
            "application/vnd.jupyter.widget-view+json": {
              "model_id": "1405dbeb2dc542f98c7cba67a139f046",
              "version_minor": 0,
              "version_major": 2
            },
            "text/plain": [
              "HBox(children=(FloatProgress(value=0.0, max=3.0), HTML(value='')))"
            ]
          },
          "metadata": {
            "tags": []
          }
        },
        {
          "output_type": "stream",
          "text": [
            "\n"
          ],
          "name": "stdout"
        }
      ]
    },
    {
      "cell_type": "code",
      "metadata": {
        "colab": {
          "base_uri": "https://localhost:8080/",
          "height": 66,
          "referenced_widgets": [
            "e2517367ac2643eca83454e2a0f4abaf",
            "5579e4e31ff548b8a77865f880ffaabb",
            "e926a0a00954410286ece2e230a146a4",
            "0bc090c332124d0e8917c28d789ea621",
            "0133ee111afd4b96bad1eb9f34523a64",
            "0c31b0766dad49419a8d8e7fef47ec22",
            "de60365573e14bada1b9ff3d0df09131",
            "e9a763be0f014c64b2811a561ffdcd4d"
          ]
        },
        "id": "jgbD7yIsuEV6",
        "outputId": "4058603b-d1c5-45b8-ae01-8f7b67b746ee"
      },
      "source": [
        "total_embeddings_s1_test = []\r\n",
        "total_embeddings_s2_test = []\r\n",
        "\r\n",
        "for i in tqdm(range(int(test_size / 500))): \r\n",
        "    batch = X_test[i*500:i*500+500]\r\n",
        "    embeddings_s1, embeddings_s2 = bert_model(batch['sentence1'], batch['sentence2'])\r\n",
        "\r\n",
        "    total_embeddings_s1_test.extend(embeddings_s1)\r\n",
        "    total_embeddings_s2_test.extend(embeddings_s2)"
      ],
      "execution_count": 95,
      "outputs": [
        {
          "output_type": "display_data",
          "data": {
            "application/vnd.jupyter.widget-view+json": {
              "model_id": "e2517367ac2643eca83454e2a0f4abaf",
              "version_minor": 0,
              "version_major": 2
            },
            "text/plain": [
              "HBox(children=(FloatProgress(value=0.0, max=1.0), HTML(value='')))"
            ]
          },
          "metadata": {
            "tags": []
          }
        },
        {
          "output_type": "stream",
          "text": [
            "\n"
          ],
          "name": "stdout"
        }
      ]
    },
    {
      "cell_type": "markdown",
      "metadata": {
        "id": "zjxQVFTNU7aD"
      },
      "source": [
        "Converting the list into numpy array:"
      ]
    },
    {
      "cell_type": "code",
      "metadata": {
        "id": "3oWp5-0hU5vi"
      },
      "source": [
        "total_embeddings_s1_train = np.asarray(total_embeddings_s1_train)\r\n",
        "total_embeddings_s2_train = np.asarray(total_embeddings_s2_train)\r\n",
        "\r\n",
        "total_embeddings_s1_test = np.asarray(total_embeddings_s1_test)\r\n",
        "total_embeddings_s2_test = np.asarray(total_embeddings_s2_test)\r\n"
      ],
      "execution_count": 96,
      "outputs": []
    },
    {
      "cell_type": "markdown",
      "metadata": {
        "id": "njfeey3xpqi6"
      },
      "source": [
        "Checking the length of the embedding vectors is equal:"
      ]
    },
    {
      "cell_type": "code",
      "metadata": {
        "colab": {
          "base_uri": "https://localhost:8080/"
        },
        "id": "0qBhMnmLFOLs",
        "outputId": "85fb2a58-d894-487d-a790-26724ec2bc03"
      },
      "source": [
        "print(len(total_embeddings_s1_train) == len(total_embeddings_s2_train))\r\n",
        "print(len(total_embeddings_s1_test) == len(total_embeddings_s2_test))"
      ],
      "execution_count": 97,
      "outputs": [
        {
          "output_type": "stream",
          "text": [
            "True\n",
            "True\n"
          ],
          "name": "stdout"
        }
      ]
    },
    {
      "cell_type": "markdown",
      "metadata": {
        "id": "16Anb2l-9ZSz"
      },
      "source": [
        "Okay, now that we have the embeddings, let's try few ways using the embeddings for classification modeling: \r\n",
        "\r\n",
        "1. calculating cosine similarity - technique to check how similar the vectors are by their angle.\r\n",
        "2. subtracting the embeddings vectors.\r\n",
        "3. concatenating the embeddings vectors."
      ]
    },
    {
      "cell_type": "markdown",
      "metadata": {
        "id": "pii2L3Kl2uV8"
      },
      "source": [
        "1. *cosine similarity*"
      ]
    },
    {
      "cell_type": "markdown",
      "metadata": {
        "id": "HAk18IjIUDGp"
      },
      "source": [
        "Calculating the cosine similarity and plotting it"
      ]
    },
    {
      "cell_type": "code",
      "metadata": {
        "id": "BP8R2uvHrq-G"
      },
      "source": [
        "cosine_similarity_embeddings = [1 - spatial.distance.cosine(total_embeddings_s1_train[i], total_embeddings_s2_train[i]) for i in range(len(total_embeddings_s1_train))]\r\n",
        "cosine_similarity_embeddings = np.asarray(cosine_similarity_embeddings)"
      ],
      "execution_count": 98,
      "outputs": []
    },
    {
      "cell_type": "code",
      "metadata": {
        "id": "BHfC_JKctxX1",
        "colab": {
          "base_uri": "https://localhost:8080/",
          "height": 265
        },
        "outputId": "46c1eec0-a401-4de2-da22-518758b9dc3f"
      },
      "source": [
        "plt.scatter(y_train, cosine_similarity_embeddings)\r\n",
        "plt.ylabel('Cosine Similarity');"
      ],
      "execution_count": 72,
      "outputs": [
        {
          "output_type": "display_data",
          "data": {
            "image/png": "[encoded data removed]",
            "text/plain": [
              "<Figure size 432x288 with 1 Axes>"
            ]
          },
          "metadata": {
            "tags": [],
            "needs_background": "light"
          }
        }
      ]
    },
    {
      "cell_type": "markdown",
      "metadata": {
        "id": "dE3PR8wEUm1x"
      },
      "source": [
        "We can see the cosine similarity value of the labels is in the same range approximately between 0.75 - 1, that means we can't distinguish by it between the labels, and therefore it's not a good technique for that case. "
      ]
    },
    {
      "cell_type": "markdown",
      "metadata": {
        "id": "24Ti1sSXXkPM"
      },
      "source": [
        "2. *subtracting the embeddings vectors.*"
      ]
    },
    {
      "cell_type": "code",
      "metadata": {
        "id": "LgCk_D3InmCc"
      },
      "source": [
        "subtract_embeddings_train = total_embeddings_s1_train - total_embeddings_s2_train \r\n",
        "subtract_embeddings_test = total_embeddings_s1_test - total_embeddings_s2_test"
      ],
      "execution_count": 99,
      "outputs": []
    },
    {
      "cell_type": "markdown",
      "metadata": {
        "id": "Af43B_RHZQdI"
      },
      "source": [
        "This one we can't plot, because it's not 2D. "
      ]
    },
    {
      "cell_type": "code",
      "metadata": {
        "colab": {
          "base_uri": "https://localhost:8080/"
        },
        "id": "T2het5TTYizh",
        "outputId": "1ef8d23d-a7ed-4a1b-897e-c3b4abc8f2b3"
      },
      "source": [
        "subtract_embeddings_train.shape"
      ],
      "execution_count": 100,
      "outputs": [
        {
          "output_type": "execute_result",
          "data": {
            "text/plain": [
              "(1500, 768)"
            ]
          },
          "metadata": {
            "tags": []
          },
          "execution_count": 100
        }
      ]
    },
    {
      "cell_type": "markdown",
      "metadata": {
        "id": "A0CUmpH0Zh5U"
      },
      "source": [
        "3. *concatenating the embeddings vectors.*\r\n"
      ]
    },
    {
      "cell_type": "code",
      "metadata": {
        "id": "PA91iOaZ1XjM"
      },
      "source": [
        "concat_embeddings_train = np.concatenate((total_embeddings_s1_train, total_embeddings_s2_train), axis=1)\r\n",
        "concat_embeddings_test = np.concatenate((total_embeddings_s1_test, total_embeddings_s2_test), axis=1)"
      ],
      "execution_count": 101,
      "outputs": []
    },
    {
      "cell_type": "markdown",
      "metadata": {
        "id": "0ARQVmvIZwJF"
      },
      "source": [
        "We can't plot this one too, also because it's not 2D."
      ]
    },
    {
      "cell_type": "code",
      "metadata": {
        "colab": {
          "base_uri": "https://localhost:8080/"
        },
        "id": "O9hA_FTYZ2O4",
        "outputId": "d2f593e8-6171-43fb-d564-f05e6255b6dc"
      },
      "source": [
        "concat_embeddings_train.shape"
      ],
      "execution_count": 102,
      "outputs": [
        {
          "output_type": "execute_result",
          "data": {
            "text/plain": [
              "(1500, 1536)"
            ]
          },
          "metadata": {
            "tags": []
          },
          "execution_count": 102
        }
      ]
    },
    {
      "cell_type": "markdown",
      "metadata": {
        "id": "hDMIaPudZ8QZ"
      },
      "source": [
        "Now we'll create functions for implementing Machine Learning models with 2+3 techniques to see if we succeed to classify the embeddings into our 3 categories: entailment, contradiction and neutral."
      ]
    },
    {
      "cell_type": "code",
      "metadata": {
        "id": "BdKr0YzJjJ1n"
      },
      "source": [
        "def classifier(clf, embeddings_train, labels_train, embeddings_test, labels_test):\r\n",
        "    \"\"\"\r\n",
        "    This function apply logistic regression model.\r\n",
        "    The function receives classifier object, the embeddings of the train & test sets and their labels.\r\n",
        "    \"\"\"\r\n",
        "    clf.fit(embeddings_train, labels_train)\r\n",
        "    score = clf.score(embeddings_test, labels_test)\r\n",
        "    predict = clf.predict(embeddings_test)\r\n",
        "    return score, predict\r\n",
        "\r\n",
        "\r\n",
        "def get_confusion_matrix(clf, embeddings_test, true_labels_test, predicted_labels_test):\r\n",
        "    \"\"\"\r\n",
        "    This function calculates the confusion matrix and plot it.\r\n",
        "    It receives the classifier object, true labels and the predicted ones.\r\n",
        "    \"\"\"\r\n",
        "    c_m = confusion_matrix(true_labels_test, predicted_labels_test, labels=true_labels_test.unique())\r\n",
        "    plot_confusion_matrix(clf, embeddings_test, true_labels_test, normalize='true')\r\n",
        "    plt.title('Confusion Matrix') \r\n",
        "    plt.show()\r\n",
        "    return c_m\r\n",
        "\r\n",
        "\r\n",
        "def cross_validation(clf, embeddings_train, labels_train, embeddings_test, labels_test, cv=7):\r\n",
        "    \"\"\"\r\n",
        "    This function calculates the cross validation score (accuracy). \r\n",
        "    It receives the classifier object, train & test embeddings, train & test lables\r\n",
        "    and 'cv' - number of groups for cross validation.\r\n",
        "    \"\"\"\r\n",
        "    embeddings = np.concatenate((embeddings_train, embeddings_test), axis=0)\r\n",
        "    labels =  np.concatenate((labels_train, labels_test), axis=0)\r\n",
        "    return np.mean(cross_val_score(clf, embeddings, labels, cv=cv))\r\n"
      ],
      "execution_count": 126,
      "outputs": []
    },
    {
      "cell_type": "markdown",
      "metadata": {
        "id": "MG7yWHecbVR6"
      },
      "source": [
        "Explantion about what we see in the functions above:\r\n",
        "\r\n",
        "- 'clf' is the classifier object\r\n",
        "- score is the accuracy of the model\r\n",
        "- predict gives us the categories the model predicted on the test set\r\n",
        "- confusion matrix tells us how well the model classified each category\r\n",
        "- cross validation is a resampling procedure used to evaluate machine learning models on a limited data sample."
      ]
    },
    {
      "cell_type": "markdown",
      "metadata": {
        "id": "2DVlILcrpOlu"
      },
      "source": [
        "To use the Machine Learning models, first we need to initiate classifier object, then we train the model using our train subset and finally evaluate the results using the test subset."
      ]
    },
    {
      "cell_type": "markdown",
      "metadata": {
        "id": "DbSonv-3ysM1"
      },
      "source": [
        "**Logistic Regression**"
      ]
    },
    {
      "cell_type": "markdown",
      "metadata": {
        "id": "s0PgcPugpwdD"
      },
      "source": [
        "Initiating Logistic Regression object:"
      ]
    },
    {
      "cell_type": "code",
      "metadata": {
        "id": "uzlSgAlvnzDr"
      },
      "source": [
        "lr_clf = LogisticRegression()"
      ],
      "execution_count": 104,
      "outputs": []
    },
    {
      "cell_type": "markdown",
      "metadata": {
        "id": "JITMipO_g4H2"
      },
      "source": [
        "**SVC (Support Vector Classification)**"
      ]
    },
    {
      "cell_type": "markdown",
      "metadata": {
        "id": "1YHwSH7Zp2pT"
      },
      "source": [
        "Initiating SVC object:"
      ]
    },
    {
      "cell_type": "code",
      "metadata": {
        "id": "XbSVzkmSmtWU"
      },
      "source": [
        "svc_clf = svc(kernel='linear', C=1)\r\n"
      ],
      "execution_count": 127,
      "outputs": []
    },
    {
      "cell_type": "markdown",
      "metadata": {
        "id": "jvMRr10hnGGD"
      },
      "source": [
        "**Ensembles**"
      ]
    },
    {
      "cell_type": "markdown",
      "metadata": {
        "id": "OH9xuAcop4w7"
      },
      "source": [
        "Initiating Ensembles object:"
      ]
    },
    {
      "cell_type": "code",
      "metadata": {
        "id": "Syq2gLicnFss"
      },
      "source": [
        "ecf = VotingClassifier(estimators=[('lr', lr_clf), ('svc', svc_clf)], voting='hard')"
      ],
      "execution_count": 106,
      "outputs": []
    },
    {
      "cell_type": "markdown",
      "metadata": {
        "id": "LLsIzAdgqXYq"
      },
      "source": [
        "Ensembles uses multiple models to obtain better predictive performance than could be obtained from any of models alone.\r\n",
        "\r\n",
        "The predictions from all of the models combined through a weighted majority vote (or sum) to produce the final prediction."
      ]
    },
    {
      "cell_type": "markdown",
      "metadata": {
        "id": "dZpEH6AHrw4D"
      },
      "source": [
        "### Applying the models:"
      ]
    },
    {
      "cell_type": "markdown",
      "metadata": {
        "id": "lxzNpuVX1Hs7"
      },
      "source": [
        "**Subtracting the embeddings vectors:**"
      ]
    },
    {
      "cell_type": "markdown",
      "metadata": {
        "id": "7iVC5jHk5di8"
      },
      "source": [
        "*Logistic Regression*"
      ]
    },
    {
      "cell_type": "code",
      "metadata": {
        "colab": {
          "base_uri": "https://localhost:8080/",
          "height": 329
        },
        "id": "Lt69M_92tzcM",
        "outputId": "402d8540-c8a4-4fdb-c5ea-bfdb257d276a"
      },
      "source": [
        "score_subt_lr, predict_subt_lr = classifier(lr_clf, subtract_embeddings_train, y_train, subtract_embeddings_test, y_test)\r\n",
        "c_m_subt_lr = get_confusion_matrix(lr_clf, subtract_embeddings_test, y_test, predict_subt_lr)\r\n",
        "cross_val_subt_lr = cross_validation(lr_clf, subtract_embeddings_train, y_train, subtract_embeddings_test, y_test, cv=7)\r\n",
        "\r\n",
        "print('Accuracy:', score_subt_lr)\r\n",
        "print('Cross Validation Accuracy:', cross_val_subt_lr)"
      ],
      "execution_count": 129,
      "outputs": [
        {
          "output_type": "display_data",
          "data": {
            "image/png": "[encoded data removed]",
            "text/plain": [
              "<Figure size 432x288 with 2 Axes>"
            ]
          },
          "metadata": {
            "tags": [],
            "needs_background": "light"
          }
        },
        {
          "output_type": "stream",
          "text": [
            "Accuracy: 0.494\n",
            "Cross Validation Accuracy: 0.5070000175263333\n"
          ],
          "name": "stdout"
        }
      ]
    },
    {
      "cell_type": "markdown",
      "metadata": {
        "id": "FQt-31IRCo-E"
      },
      "source": [
        "Explanation about what we see in the confusion matrix:\r\n",
        "\r\n",
        "In the diagram above, we see our three categories and the percentage of each case. \r\n",
        "If we look on neutral & neurtal we will see 0.48, that mean the model succeed in 48% of the times to classify neutral connection as neutral.\r\n",
        "The higher probability, the performances of the model are better.\r\n",
        "\r\n",
        "We can see that this model succeed to identify entailment cases better than neutral and contradiction.\r\n",
        "\r\n",
        "If we compare the percentages we got here with the confusion matrix of the other models, we can see which model is better than the others."
      ]
    },
    {
      "cell_type": "markdown",
      "metadata": {
        "id": "ouQmxe4J5iOO"
      },
      "source": [
        "*SVC*"
      ]
    },
    {
      "cell_type": "code",
      "metadata": {
        "colab": {
          "base_uri": "https://localhost:8080/",
          "height": 329
        },
        "id": "H2Et2X6V5h6C",
        "outputId": "c98cf396-ada3-40b2-b793-63087e67543b"
      },
      "source": [
        "score_subt_svc, predict_subt_svc = classifier(svc_clf, subtract_embeddings_train, y_train, subtract_embeddings_test, y_test)\r\n",
        "c_m_subt_svc = get_confusion_matrix(svc_clf, subtract_embeddings_test, y_test, predict_subt_svc)\r\n",
        "cross_val_subt_svc = cross_validation(svc_clf, subtract_embeddings_train, y_train, subtract_embeddings_test, y_test, cv=7)\r\n",
        "\r\n",
        "print('Accuracy:', score_subt_svc)\r\n",
        "print('Cross Validation Accuracy:', cross_val_subt_svc)\r\n"
      ],
      "execution_count": 132,
      "outputs": [
        {
          "output_type": "display_data",
          "data": {
            "image/png": "[encoded data removed]",
            "text/plain": [
              "<Figure size 432x288 with 2 Axes>"
            ]
          },
          "metadata": {
            "tags": [],
            "needs_background": "light"
          }
        },
        {
          "output_type": "stream",
          "text": [
            "Accuracy: 0.5\n",
            "Cross Validation Accuracy: 0.4925004819741662\n"
          ],
          "name": "stdout"
        }
      ]
    },
    {
      "cell_type": "markdown",
      "metadata": {
        "id": "VZZBvJd8579Q"
      },
      "source": [
        "*Ensembles*"
      ]
    },
    {
      "cell_type": "code",
      "metadata": {
        "colab": {
          "base_uri": "https://localhost:8080/",
          "height": 329
        },
        "id": "LA2YKxpO58ZC",
        "outputId": "dedc494a-96de-41df-c1b5-50623f34ed0c"
      },
      "source": [
        "score_subt_ecf, predict_subt_ecf = classifier(ecf, subtract_embeddings_train, y_train, subtract_embeddings_test, y_test)\r\n",
        "c_m_subt_ecf = get_confusion_matrix(ecf, subtract_embeddings_test, y_test, predict_subt_ecf)\r\n",
        "cross_val_subt_ecf = cross_validation(ecf, subtract_embeddings_train, y_train, subtract_embeddings_test, y_test, cv=7)\r\n",
        "\r\n",
        "print('Accuracy:', score_subt_ecf)\r\n",
        "print('Cross Validation Accuracy:', cross_val_subt_ecf)"
      ],
      "execution_count": 133,
      "outputs": [
        {
          "output_type": "display_data",
          "data": {
            "image/png": "[encoded data removed]",
            "text/plain": [
              "<Figure size 432x288 with 2 Axes>"
            ]
          },
          "metadata": {
            "tags": [],
            "needs_background": "light"
          }
        },
        {
          "output_type": "stream",
          "text": [
            "Accuracy: 0.494\n",
            "Cross Validation Accuracy: 0.49399898347266774\n"
          ],
          "name": "stdout"
        }
      ]
    },
    {
      "cell_type": "markdown",
      "metadata": {
        "id": "L6IW1vww6tf4"
      },
      "source": [
        "**Concatenating the embeddings vectors:**"
      ]
    },
    {
      "cell_type": "markdown",
      "metadata": {
        "id": "Gl2wmCQW7MBM"
      },
      "source": [
        "*Logistic Regression*"
      ]
    },
    {
      "cell_type": "code",
      "metadata": {
        "colab": {
          "base_uri": "https://localhost:8080/",
          "height": 329
        },
        "id": "lTFJnAaP7Mbm",
        "outputId": "815f6b75-8332-4996-d91a-4e52188da629"
      },
      "source": [
        "score_conc_lr, predict_conc_lr = classifier(lr_clf, concat_embeddings_train, y_train, concat_embeddings_test, y_test)\r\n",
        "c_m_conc_lr = get_confusion_matrix(lr_clf, concat_embeddings_test, y_test, predict_conc_lr)\r\n",
        "cross_val_conc_lr = cross_validation(lr_clf, concat_embeddings_train, y_train, concat_embeddings_test, y_test, cv=7)\r\n",
        "\r\n",
        "print('Accuracy:', score_conc_lr)\r\n",
        "print('Cross Validation Accuracy:', cross_val_conc_lr)"
      ],
      "execution_count": 134,
      "outputs": [
        {
          "output_type": "display_data",
          "data": {
            "image/png": "[encoded data removed]",
            "text/plain": [
              "<Figure size 432x288 with 2 Axes>"
            ]
          },
          "metadata": {
            "tags": [],
            "needs_background": "light"
          }
        },
        {
          "output_type": "stream",
          "text": [
            "Accuracy: 0.53\n",
            "Cross Validation Accuracy: 0.5210070631123263\n"
          ],
          "name": "stdout"
        }
      ]
    },
    {
      "cell_type": "markdown",
      "metadata": {
        "id": "kZnQfzZH78Je"
      },
      "source": [
        "*SVC*"
      ]
    },
    {
      "cell_type": "code",
      "metadata": {
        "colab": {
          "base_uri": "https://localhost:8080/",
          "height": 329
        },
        "id": "kMziG3DX78jp",
        "outputId": "ed9df8ed-c3b7-4a27-ad40-c796794fa093"
      },
      "source": [
        "score_conc_svc, predict_conc_svc = classifier(svc_clf, concat_embeddings_train, y_train, concat_embeddings_test, y_test)\r\n",
        "c_m_conc_svc = get_confusion_matrix(svc_clf, concat_embeddings_test, y_test, predict_conc_svc)\r\n",
        "cross_val_conc_svc = cross_validation(svc_clf, concat_embeddings_train, y_train, concat_embeddings_test, y_test, cv=7)\r\n",
        "\r\n",
        "print('Accuracy:', score_conc_svc)\r\n",
        "print('Cross Validation Accuracy:', cross_val_conc_svc)"
      ],
      "execution_count": 135,
      "outputs": [
        {
          "output_type": "display_data",
          "data": {
            "image/png": "[encoded data removed]",
            "text/plain": [
              "<Figure size 432x288 with 2 Axes>"
            ]
          },
          "metadata": {
            "tags": [],
            "needs_background": "light"
          }
        },
        {
          "output_type": "stream",
          "text": [
            "Accuracy: 0.5\n",
            "Cross Validation Accuracy: 0.49899574110100414\n"
          ],
          "name": "stdout"
        }
      ]
    },
    {
      "cell_type": "markdown",
      "metadata": {
        "id": "pLA-HZIX781t"
      },
      "source": [
        "*Ensembles*"
      ]
    },
    {
      "cell_type": "code",
      "metadata": {
        "colab": {
          "base_uri": "https://localhost:8080/",
          "height": 329
        },
        "id": "Yd0qm3ys79TO",
        "outputId": "0697ef84-9558-4c3b-b07f-b7dbc7632405"
      },
      "source": [
        "score_conc_ecf, predict_conc_ecf = classifier(ecf, concat_embeddings_train, y_train, concat_embeddings_test, y_test)\r\n",
        "c_m_conc_ecf = get_confusion_matrix(ecf, concat_embeddings_test, y_test, predict_conc_ecf)\r\n",
        "cross_val_conc_ecf = cross_validation(ecf, concat_embeddings_train, y_train, concat_embeddings_test, y_test, cv=7)\r\n",
        "\r\n",
        "print('Accuracy:', score_conc_ecf)\r\n",
        "print('Cross Validation Accuracy:', cross_val_conc_ecf)"
      ],
      "execution_count": 136,
      "outputs": [
        {
          "output_type": "display_data",
          "data": {
            "image/png": "[encoded data removed]",
            "text/plain": [
              "<Figure size 432x288 with 2 Axes>"
            ]
          },
          "metadata": {
            "tags": [],
            "needs_background": "light"
          }
        },
        {
          "output_type": "stream",
          "text": [
            "Accuracy: 0.5\n",
            "Cross Validation Accuracy: 0.5010042588989957\n"
          ],
          "name": "stdout"
        }
      ]
    },
    {
      "cell_type": "markdown",
      "metadata": {
        "id": "fCgYHuJ48hNE"
      },
      "source": [
        "## Comparing the models:"
      ]
    },
    {
      "cell_type": "code",
      "metadata": {
        "colab": {
          "base_uri": "https://localhost:8080/",
          "height": 351
        },
        "id": "BAsugc1E9d5-",
        "outputId": "586aaa3e-a316-445f-917c-59bac65ef781"
      },
      "source": [
        "subt = {'subt_lr':score_subt_lr, 'subt_cv_lr':cross_val_subt_lr,\r\n",
        "        'subt_svc':score_subt_svc, 'subt_cv_svc':cross_val_subt_svc,\r\n",
        "        'subt_efc':score_subt_ecf, 'subt_cv_efc':cross_val_subt_ecf}\r\n",
        "\r\n",
        "conc =  {'conc_lr':score_conc_lr, 'conc_cv_lr':cross_val_conc_lr,\r\n",
        "        'conc_svc':score_conc_svc, 'conc_cv_svc':cross_val_conc_svc,\r\n",
        "        'conc_efc':score_conc_ecf, 'conc_cv_efc':cross_val_conc_ecf}\r\n",
        "\r\n",
        "plt.figure(figsize=(20,5))\r\n",
        "plt.bar(*zip(*subt.items()), color='pink')\r\n",
        "plt.bar(*zip(*conc.items()), color='skyblue')\r\n",
        "plt.title('Comparing the models; Subtracting embeddings VS. Concatenating embeddings')\r\n",
        "plt.xlabel('Model')\r\n",
        "plt.ylabel('Accuracy')\r\n",
        "plt.show()"
      ],
      "execution_count": 148,
      "outputs": [
        {
          "output_type": "display_data",
          "data": {
            "image/png": "[encoded data removed]",
            "text/plain": [
              "<Figure size 1440x360 with 1 Axes>"
            ]
          },
          "metadata": {
            "tags": [],
            "needs_background": "light"
          }
        }
      ]
    },
    {
      "cell_type": "markdown",
      "metadata": {
        "id": "NEn0WYazCXYY"
      },
      "source": [
        "As we can see the logistic regression model with the concatenated embeddings gives the best result."
      ]
    },
    {
      "cell_type": "markdown",
      "metadata": {
        "id": "BKddC2jr8o7t"
      },
      "source": [
        "## Testing the models on newspapers:"
      ]
    },
    {
      "cell_type": "markdown",
      "metadata": {
        "id": "YdyGRPaq9IFi"
      },
      "source": [
        "***To complete:*** taking articles titles, get their embeddings and trying to see how the best model performs on it. (add screen-shots of the titles)"
      ]
    }
  ]
}