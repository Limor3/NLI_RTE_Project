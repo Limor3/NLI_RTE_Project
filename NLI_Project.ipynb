{
  "nbformat": 4,
  "nbformat_minor": 0,
  "metadata": {
    "colab": {
      "name": "NLI_v2.ipynb",
      "provenance": [],
      "collapsed_sections": []
    },
    "kernelspec": {
      "name": "python3",
      "display_name": "Python 3"
    },
    "widgets": {
      "application/vnd.jupyter.widget-state+json": {
        "ddcdb2b10c804b90bedca66584a024f9": {
          "model_module": "@jupyter-widgets/controls",
          "model_name": "HBoxModel",
          "state": {
            "_view_name": "HBoxView",
            "_dom_classes": [],
            "_model_name": "HBoxModel",
            "_view_module": "@jupyter-widgets/controls",
            "_model_module_version": "1.5.0",
            "_view_count": null,
            "_view_module_version": "1.5.0",
            "box_style": "",
            "layout": "IPY_MODEL_38b8d53a53bc4c828a9ad0063620e923",
            "_model_module": "@jupyter-widgets/controls",
            "children": [
              "IPY_MODEL_c5dbc68e1f03471e9f80a0aee0d64697",
              "IPY_MODEL_3743ed1de7cd475eb35477e9dd490d11"
            ]
          }
        },
        "38b8d53a53bc4c828a9ad0063620e923": {
          "model_module": "@jupyter-widgets/base",
          "model_name": "LayoutModel",
          "state": {
            "_view_name": "LayoutView",
            "grid_template_rows": null,
            "right": null,
            "justify_content": null,
            "_view_module": "@jupyter-widgets/base",
            "overflow": null,
            "_model_module_version": "1.2.0",
            "_view_count": null,
            "flex_flow": null,
            "width": null,
            "min_width": null,
            "border": null,
            "align_items": null,
            "bottom": null,
            "_model_module": "@jupyter-widgets/base",
            "top": null,
            "grid_column": null,
            "overflow_y": null,
            "overflow_x": null,
            "grid_auto_flow": null,
            "grid_area": null,
            "grid_template_columns": null,
            "flex": null,
            "_model_name": "LayoutModel",
            "justify_items": null,
            "grid_row": null,
            "max_height": null,
            "align_content": null,
            "visibility": null,
            "align_self": null,
            "height": null,
            "min_height": null,
            "padding": null,
            "grid_auto_rows": null,
            "grid_gap": null,
            "max_width": null,
            "order": null,
            "_view_module_version": "1.2.0",
            "grid_template_areas": null,
            "object_position": null,
            "object_fit": null,
            "grid_auto_columns": null,
            "margin": null,
            "display": null,
            "left": null
          }
        },
        "c5dbc68e1f03471e9f80a0aee0d64697": {
          "model_module": "@jupyter-widgets/controls",
          "model_name": "FloatProgressModel",
          "state": {
            "_view_name": "ProgressView",
            "style": "IPY_MODEL_29e2a96346804dd09309a19931af3e1e",
            "_dom_classes": [],
            "description": "Downloading: 100%",
            "_model_name": "FloatProgressModel",
            "bar_style": "success",
            "max": 231508,
            "_view_module": "@jupyter-widgets/controls",
            "_model_module_version": "1.5.0",
            "value": 231508,
            "_view_count": null,
            "_view_module_version": "1.5.0",
            "orientation": "horizontal",
            "min": 0,
            "description_tooltip": null,
            "_model_module": "@jupyter-widgets/controls",
            "layout": "IPY_MODEL_6f6bdebc45464769bc262d21c7cbee0a"
          }
        },
        "3743ed1de7cd475eb35477e9dd490d11": {
          "model_module": "@jupyter-widgets/controls",
          "model_name": "HTMLModel",
          "state": {
            "_view_name": "HTMLView",
            "style": "IPY_MODEL_638349f181b241dcbbc893d90f88c639",
            "_dom_classes": [],
            "description": "",
            "_model_name": "HTMLModel",
            "placeholder": "​",
            "_view_module": "@jupyter-widgets/controls",
            "_model_module_version": "1.5.0",
            "value": " 232k/232k [00:00&lt;00:00, 764kB/s]",
            "_view_count": null,
            "_view_module_version": "1.5.0",
            "description_tooltip": null,
            "_model_module": "@jupyter-widgets/controls",
            "layout": "IPY_MODEL_828d44f370c2442faf87cc1c869c67fb"
          }
        },
        "29e2a96346804dd09309a19931af3e1e": {
          "model_module": "@jupyter-widgets/controls",
          "model_name": "ProgressStyleModel",
          "state": {
            "_view_name": "StyleView",
            "_model_name": "ProgressStyleModel",
            "description_width": "initial",
            "_view_module": "@jupyter-widgets/base",
            "_model_module_version": "1.5.0",
            "_view_count": null,
            "_view_module_version": "1.2.0",
            "bar_color": null,
            "_model_module": "@jupyter-widgets/controls"
          }
        },
        "6f6bdebc45464769bc262d21c7cbee0a": {
          "model_module": "@jupyter-widgets/base",
          "model_name": "LayoutModel",
          "state": {
            "_view_name": "LayoutView",
            "grid_template_rows": null,
            "right": null,
            "justify_content": null,
            "_view_module": "@jupyter-widgets/base",
            "overflow": null,
            "_model_module_version": "1.2.0",
            "_view_count": null,
            "flex_flow": null,
            "width": null,
            "min_width": null,
            "border": null,
            "align_items": null,
            "bottom": null,
            "_model_module": "@jupyter-widgets/base",
            "top": null,
            "grid_column": null,
            "overflow_y": null,
            "overflow_x": null,
            "grid_auto_flow": null,
            "grid_area": null,
            "grid_template_columns": null,
            "flex": null,
            "_model_name": "LayoutModel",
            "justify_items": null,
            "grid_row": null,
            "max_height": null,
            "align_content": null,
            "visibility": null,
            "align_self": null,
            "height": null,
            "min_height": null,
            "padding": null,
            "grid_auto_rows": null,
            "grid_gap": null,
            "max_width": null,
            "order": null,
            "_view_module_version": "1.2.0",
            "grid_template_areas": null,
            "object_position": null,
            "object_fit": null,
            "grid_auto_columns": null,
            "margin": null,
            "display": null,
            "left": null
          }
        },
        "638349f181b241dcbbc893d90f88c639": {
          "model_module": "@jupyter-widgets/controls",
          "model_name": "DescriptionStyleModel",
          "state": {
            "_view_name": "StyleView",
            "_model_name": "DescriptionStyleModel",
            "description_width": "",
            "_view_module": "@jupyter-widgets/base",
            "_model_module_version": "1.5.0",
            "_view_count": null,
            "_view_module_version": "1.2.0",
            "_model_module": "@jupyter-widgets/controls"
          }
        },
        "828d44f370c2442faf87cc1c869c67fb": {
          "model_module": "@jupyter-widgets/base",
          "model_name": "LayoutModel",
          "state": {
            "_view_name": "LayoutView",
            "grid_template_rows": null,
            "right": null,
            "justify_content": null,
            "_view_module": "@jupyter-widgets/base",
            "overflow": null,
            "_model_module_version": "1.2.0",
            "_view_count": null,
            "flex_flow": null,
            "width": null,
            "min_width": null,
            "border": null,
            "align_items": null,
            "bottom": null,
            "_model_module": "@jupyter-widgets/base",
            "top": null,
            "grid_column": null,
            "overflow_y": null,
            "overflow_x": null,
            "grid_auto_flow": null,
            "grid_area": null,
            "grid_template_columns": null,
            "flex": null,
            "_model_name": "LayoutModel",
            "justify_items": null,
            "grid_row": null,
            "max_height": null,
            "align_content": null,
            "visibility": null,
            "align_self": null,
            "height": null,
            "min_height": null,
            "padding": null,
            "grid_auto_rows": null,
            "grid_gap": null,
            "max_width": null,
            "order": null,
            "_view_module_version": "1.2.0",
            "grid_template_areas": null,
            "object_position": null,
            "object_fit": null,
            "grid_auto_columns": null,
            "margin": null,
            "display": null,
            "left": null
          }
        },
        "1fd81021ebb34aed94d3478bf3c3f0f2": {
          "model_module": "@jupyter-widgets/controls",
          "model_name": "HBoxModel",
          "state": {
            "_view_name": "HBoxView",
            "_dom_classes": [],
            "_model_name": "HBoxModel",
            "_view_module": "@jupyter-widgets/controls",
            "_model_module_version": "1.5.0",
            "_view_count": null,
            "_view_module_version": "1.5.0",
            "box_style": "",
            "layout": "IPY_MODEL_889eb75d83e74dbc832a8294509797cd",
            "_model_module": "@jupyter-widgets/controls",
            "children": [
              "IPY_MODEL_894b1213b6674383a6e5bcd526d219cf",
              "IPY_MODEL_662c8409a4174a77a4558c219ecf3dc2"
            ]
          }
        },
        "889eb75d83e74dbc832a8294509797cd": {
          "model_module": "@jupyter-widgets/base",
          "model_name": "LayoutModel",
          "state": {
            "_view_name": "LayoutView",
            "grid_template_rows": null,
            "right": null,
            "justify_content": null,
            "_view_module": "@jupyter-widgets/base",
            "overflow": null,
            "_model_module_version": "1.2.0",
            "_view_count": null,
            "flex_flow": null,
            "width": null,
            "min_width": null,
            "border": null,
            "align_items": null,
            "bottom": null,
            "_model_module": "@jupyter-widgets/base",
            "top": null,
            "grid_column": null,
            "overflow_y": null,
            "overflow_x": null,
            "grid_auto_flow": null,
            "grid_area": null,
            "grid_template_columns": null,
            "flex": null,
            "_model_name": "LayoutModel",
            "justify_items": null,
            "grid_row": null,
            "max_height": null,
            "align_content": null,
            "visibility": null,
            "align_self": null,
            "height": null,
            "min_height": null,
            "padding": null,
            "grid_auto_rows": null,
            "grid_gap": null,
            "max_width": null,
            "order": null,
            "_view_module_version": "1.2.0",
            "grid_template_areas": null,
            "object_position": null,
            "object_fit": null,
            "grid_auto_columns": null,
            "margin": null,
            "display": null,
            "left": null
          }
        },
        "894b1213b6674383a6e5bcd526d219cf": {
          "model_module": "@jupyter-widgets/controls",
          "model_name": "FloatProgressModel",
          "state": {
            "_view_name": "ProgressView",
            "style": "IPY_MODEL_b71103104c89485ba26cda970a152f6f",
            "_dom_classes": [],
            "description": "Downloading: 100%",
            "_model_name": "FloatProgressModel",
            "bar_style": "success",
            "max": 442,
            "_view_module": "@jupyter-widgets/controls",
            "_model_module_version": "1.5.0",
            "value": 442,
            "_view_count": null,
            "_view_module_version": "1.5.0",
            "orientation": "horizontal",
            "min": 0,
            "description_tooltip": null,
            "_model_module": "@jupyter-widgets/controls",
            "layout": "IPY_MODEL_3504c69ed5f34cfd813d7d8aedf3cc8e"
          }
        },
        "662c8409a4174a77a4558c219ecf3dc2": {
          "model_module": "@jupyter-widgets/controls",
          "model_name": "HTMLModel",
          "state": {
            "_view_name": "HTMLView",
            "style": "IPY_MODEL_1afe6a3e54684e59bd48f86d0197c94d",
            "_dom_classes": [],
            "description": "",
            "_model_name": "HTMLModel",
            "placeholder": "​",
            "_view_module": "@jupyter-widgets/controls",
            "_model_module_version": "1.5.0",
            "value": " 442/442 [00:00&lt;00:00, 827B/s]",
            "_view_count": null,
            "_view_module_version": "1.5.0",
            "description_tooltip": null,
            "_model_module": "@jupyter-widgets/controls",
            "layout": "IPY_MODEL_302ea0482dd744c79430fe4d27a84547"
          }
        },
        "b71103104c89485ba26cda970a152f6f": {
          "model_module": "@jupyter-widgets/controls",
          "model_name": "ProgressStyleModel",
          "state": {
            "_view_name": "StyleView",
            "_model_name": "ProgressStyleModel",
            "description_width": "initial",
            "_view_module": "@jupyter-widgets/base",
            "_model_module_version": "1.5.0",
            "_view_count": null,
            "_view_module_version": "1.2.0",
            "bar_color": null,
            "_model_module": "@jupyter-widgets/controls"
          }
        },
        "3504c69ed5f34cfd813d7d8aedf3cc8e": {
          "model_module": "@jupyter-widgets/base",
          "model_name": "LayoutModel",
          "state": {
            "_view_name": "LayoutView",
            "grid_template_rows": null,
            "right": null,
            "justify_content": null,
            "_view_module": "@jupyter-widgets/base",
            "overflow": null,
            "_model_module_version": "1.2.0",
            "_view_count": null,
            "flex_flow": null,
            "width": null,
            "min_width": null,
            "border": null,
            "align_items": null,
            "bottom": null,
            "_model_module": "@jupyter-widgets/base",
            "top": null,
            "grid_column": null,
            "overflow_y": null,
            "overflow_x": null,
            "grid_auto_flow": null,
            "grid_area": null,
            "grid_template_columns": null,
            "flex": null,
            "_model_name": "LayoutModel",
            "justify_items": null,
            "grid_row": null,
            "max_height": null,
            "align_content": null,
            "visibility": null,
            "align_self": null,
            "height": null,
            "min_height": null,
            "padding": null,
            "grid_auto_rows": null,
            "grid_gap": null,
            "max_width": null,
            "order": null,
            "_view_module_version": "1.2.0",
            "grid_template_areas": null,
            "object_position": null,
            "object_fit": null,
            "grid_auto_columns": null,
            "margin": null,
            "display": null,
            "left": null
          }
        },
        "1afe6a3e54684e59bd48f86d0197c94d": {
          "model_module": "@jupyter-widgets/controls",
          "model_name": "DescriptionStyleModel",
          "state": {
            "_view_name": "StyleView",
            "_model_name": "DescriptionStyleModel",
            "description_width": "",
            "_view_module": "@jupyter-widgets/base",
            "_model_module_version": "1.5.0",
            "_view_count": null,
            "_view_module_version": "1.2.0",
            "_model_module": "@jupyter-widgets/controls"
          }
        },
        "302ea0482dd744c79430fe4d27a84547": {
          "model_module": "@jupyter-widgets/base",
          "model_name": "LayoutModel",
          "state": {
            "_view_name": "LayoutView",
            "grid_template_rows": null,
            "right": null,
            "justify_content": null,
            "_view_module": "@jupyter-widgets/base",
            "overflow": null,
            "_model_module_version": "1.2.0",
            "_view_count": null,
            "flex_flow": null,
            "width": null,
            "min_width": null,
            "border": null,
            "align_items": null,
            "bottom": null,
            "_model_module": "@jupyter-widgets/base",
            "top": null,
            "grid_column": null,
            "overflow_y": null,
            "overflow_x": null,
            "grid_auto_flow": null,
            "grid_area": null,
            "grid_template_columns": null,
            "flex": null,
            "_model_name": "LayoutModel",
            "justify_items": null,
            "grid_row": null,
            "max_height": null,
            "align_content": null,
            "visibility": null,
            "align_self": null,
            "height": null,
            "min_height": null,
            "padding": null,
            "grid_auto_rows": null,
            "grid_gap": null,
            "max_width": null,
            "order": null,
            "_view_module_version": "1.2.0",
            "grid_template_areas": null,
            "object_position": null,
            "object_fit": null,
            "grid_auto_columns": null,
            "margin": null,
            "display": null,
            "left": null
          }
        },
        "f6cb8879f7df46e1beb9eedce76e0a6e": {
          "model_module": "@jupyter-widgets/controls",
          "model_name": "HBoxModel",
          "state": {
            "_view_name": "HBoxView",
            "_dom_classes": [],
            "_model_name": "HBoxModel",
            "_view_module": "@jupyter-widgets/controls",
            "_model_module_version": "1.5.0",
            "_view_count": null,
            "_view_module_version": "1.5.0",
            "box_style": "",
            "layout": "IPY_MODEL_384e3017395b47038045c01344098aac",
            "_model_module": "@jupyter-widgets/controls",
            "children": [
              "IPY_MODEL_8f8f306df1b34c818f5298e1e5bb2f07",
              "IPY_MODEL_9b87e65b4775444aa00a777ed8293320"
            ]
          }
        },
        "384e3017395b47038045c01344098aac": {
          "model_module": "@jupyter-widgets/base",
          "model_name": "LayoutModel",
          "state": {
            "_view_name": "LayoutView",
            "grid_template_rows": null,
            "right": null,
            "justify_content": null,
            "_view_module": "@jupyter-widgets/base",
            "overflow": null,
            "_model_module_version": "1.2.0",
            "_view_count": null,
            "flex_flow": null,
            "width": null,
            "min_width": null,
            "border": null,
            "align_items": null,
            "bottom": null,
            "_model_module": "@jupyter-widgets/base",
            "top": null,
            "grid_column": null,
            "overflow_y": null,
            "overflow_x": null,
            "grid_auto_flow": null,
            "grid_area": null,
            "grid_template_columns": null,
            "flex": null,
            "_model_name": "LayoutModel",
            "justify_items": null,
            "grid_row": null,
            "max_height": null,
            "align_content": null,
            "visibility": null,
            "align_self": null,
            "height": null,
            "min_height": null,
            "padding": null,
            "grid_auto_rows": null,
            "grid_gap": null,
            "max_width": null,
            "order": null,
            "_view_module_version": "1.2.0",
            "grid_template_areas": null,
            "object_position": null,
            "object_fit": null,
            "grid_auto_columns": null,
            "margin": null,
            "display": null,
            "left": null
          }
        },
        "8f8f306df1b34c818f5298e1e5bb2f07": {
          "model_module": "@jupyter-widgets/controls",
          "model_name": "FloatProgressModel",
          "state": {
            "_view_name": "ProgressView",
            "style": "IPY_MODEL_ea888b512156478abe012bfcfd0ae9cb",
            "_dom_classes": [],
            "description": "Downloading: 100%",
            "_model_name": "FloatProgressModel",
            "bar_style": "success",
            "max": 267967963,
            "_view_module": "@jupyter-widgets/controls",
            "_model_module_version": "1.5.0",
            "value": 267967963,
            "_view_count": null,
            "_view_module_version": "1.5.0",
            "orientation": "horizontal",
            "min": 0,
            "description_tooltip": null,
            "_model_module": "@jupyter-widgets/controls",
            "layout": "IPY_MODEL_a7e5eb7a6d2348b296cd87ab9b7ead07"
          }
        },
        "9b87e65b4775444aa00a777ed8293320": {
          "model_module": "@jupyter-widgets/controls",
          "model_name": "HTMLModel",
          "state": {
            "_view_name": "HTMLView",
            "style": "IPY_MODEL_65f2f47ebb2640c19d6a3a7702de88b1",
            "_dom_classes": [],
            "description": "",
            "_model_name": "HTMLModel",
            "placeholder": "​",
            "_view_module": "@jupyter-widgets/controls",
            "_model_module_version": "1.5.0",
            "value": " 268M/268M [00:15&lt;00:00, 16.8MB/s]",
            "_view_count": null,
            "_view_module_version": "1.5.0",
            "description_tooltip": null,
            "_model_module": "@jupyter-widgets/controls",
            "layout": "IPY_MODEL_2a26f94c67154ca393fc6799972d6b2e"
          }
        },
        "ea888b512156478abe012bfcfd0ae9cb": {
          "model_module": "@jupyter-widgets/controls",
          "model_name": "ProgressStyleModel",
          "state": {
            "_view_name": "StyleView",
            "_model_name": "ProgressStyleModel",
            "description_width": "initial",
            "_view_module": "@jupyter-widgets/base",
            "_model_module_version": "1.5.0",
            "_view_count": null,
            "_view_module_version": "1.2.0",
            "bar_color": null,
            "_model_module": "@jupyter-widgets/controls"
          }
        },
        "a7e5eb7a6d2348b296cd87ab9b7ead07": {
          "model_module": "@jupyter-widgets/base",
          "model_name": "LayoutModel",
          "state": {
            "_view_name": "LayoutView",
            "grid_template_rows": null,
            "right": null,
            "justify_content": null,
            "_view_module": "@jupyter-widgets/base",
            "overflow": null,
            "_model_module_version": "1.2.0",
            "_view_count": null,
            "flex_flow": null,
            "width": null,
            "min_width": null,
            "border": null,
            "align_items": null,
            "bottom": null,
            "_model_module": "@jupyter-widgets/base",
            "top": null,
            "grid_column": null,
            "overflow_y": null,
            "overflow_x": null,
            "grid_auto_flow": null,
            "grid_area": null,
            "grid_template_columns": null,
            "flex": null,
            "_model_name": "LayoutModel",
            "justify_items": null,
            "grid_row": null,
            "max_height": null,
            "align_content": null,
            "visibility": null,
            "align_self": null,
            "height": null,
            "min_height": null,
            "padding": null,
            "grid_auto_rows": null,
            "grid_gap": null,
            "max_width": null,
            "order": null,
            "_view_module_version": "1.2.0",
            "grid_template_areas": null,
            "object_position": null,
            "object_fit": null,
            "grid_auto_columns": null,
            "margin": null,
            "display": null,
            "left": null
          }
        },
        "65f2f47ebb2640c19d6a3a7702de88b1": {
          "model_module": "@jupyter-widgets/controls",
          "model_name": "DescriptionStyleModel",
          "state": {
            "_view_name": "StyleView",
            "_model_name": "DescriptionStyleModel",
            "description_width": "",
            "_view_module": "@jupyter-widgets/base",
            "_model_module_version": "1.5.0",
            "_view_count": null,
            "_view_module_version": "1.2.0",
            "_model_module": "@jupyter-widgets/controls"
          }
        },
        "2a26f94c67154ca393fc6799972d6b2e": {
          "model_module": "@jupyter-widgets/base",
          "model_name": "LayoutModel",
          "state": {
            "_view_name": "LayoutView",
            "grid_template_rows": null,
            "right": null,
            "justify_content": null,
            "_view_module": "@jupyter-widgets/base",
            "overflow": null,
            "_model_module_version": "1.2.0",
            "_view_count": null,
            "flex_flow": null,
            "width": null,
            "min_width": null,
            "border": null,
            "align_items": null,
            "bottom": null,
            "_model_module": "@jupyter-widgets/base",
            "top": null,
            "grid_column": null,
            "overflow_y": null,
            "overflow_x": null,
            "grid_auto_flow": null,
            "grid_area": null,
            "grid_template_columns": null,
            "flex": null,
            "_model_name": "LayoutModel",
            "justify_items": null,
            "grid_row": null,
            "max_height": null,
            "align_content": null,
            "visibility": null,
            "align_self": null,
            "height": null,
            "min_height": null,
            "padding": null,
            "grid_auto_rows": null,
            "grid_gap": null,
            "max_width": null,
            "order": null,
            "_view_module_version": "1.2.0",
            "grid_template_areas": null,
            "object_position": null,
            "object_fit": null,
            "grid_auto_columns": null,
            "margin": null,
            "display": null,
            "left": null
          }
        },
        "1d9e57ebb6124f178f9bdce1a3c88200": {
          "model_module": "@jupyter-widgets/controls",
          "model_name": "HBoxModel",
          "state": {
            "_view_name": "HBoxView",
            "_dom_classes": [],
            "_model_name": "HBoxModel",
            "_view_module": "@jupyter-widgets/controls",
            "_model_module_version": "1.5.0",
            "_view_count": null,
            "_view_module_version": "1.5.0",
            "box_style": "",
            "layout": "IPY_MODEL_b338955d8004448e99cdb91ee68ed47d",
            "_model_module": "@jupyter-widgets/controls",
            "children": [
              "IPY_MODEL_a8efd51e351343c48095d4061da914c7",
              "IPY_MODEL_86bfe734b1684c6781b0291ae2a6c43a"
            ]
          }
        },
        "b338955d8004448e99cdb91ee68ed47d": {
          "model_module": "@jupyter-widgets/base",
          "model_name": "LayoutModel",
          "state": {
            "_view_name": "LayoutView",
            "grid_template_rows": null,
            "right": null,
            "justify_content": null,
            "_view_module": "@jupyter-widgets/base",
            "overflow": null,
            "_model_module_version": "1.2.0",
            "_view_count": null,
            "flex_flow": null,
            "width": null,
            "min_width": null,
            "border": null,
            "align_items": null,
            "bottom": null,
            "_model_module": "@jupyter-widgets/base",
            "top": null,
            "grid_column": null,
            "overflow_y": null,
            "overflow_x": null,
            "grid_auto_flow": null,
            "grid_area": null,
            "grid_template_columns": null,
            "flex": null,
            "_model_name": "LayoutModel",
            "justify_items": null,
            "grid_row": null,
            "max_height": null,
            "align_content": null,
            "visibility": null,
            "align_self": null,
            "height": null,
            "min_height": null,
            "padding": null,
            "grid_auto_rows": null,
            "grid_gap": null,
            "max_width": null,
            "order": null,
            "_view_module_version": "1.2.0",
            "grid_template_areas": null,
            "object_position": null,
            "object_fit": null,
            "grid_auto_columns": null,
            "margin": null,
            "display": null,
            "left": null
          }
        },
        "a8efd51e351343c48095d4061da914c7": {
          "model_module": "@jupyter-widgets/controls",
          "model_name": "FloatProgressModel",
          "state": {
            "_view_name": "ProgressView",
            "style": "IPY_MODEL_aa60010b5b8649d7966fce8030b14e07",
            "_dom_classes": [],
            "description": "100%",
            "_model_name": "FloatProgressModel",
            "bar_style": "success",
            "max": 24,
            "_view_module": "@jupyter-widgets/controls",
            "_model_module_version": "1.5.0",
            "value": 24,
            "_view_count": null,
            "_view_module_version": "1.5.0",
            "orientation": "horizontal",
            "min": 0,
            "description_tooltip": null,
            "_model_module": "@jupyter-widgets/controls",
            "layout": "IPY_MODEL_b0873ef5ef604a299bfb55510c7d4e4f"
          }
        },
        "86bfe734b1684c6781b0291ae2a6c43a": {
          "model_module": "@jupyter-widgets/controls",
          "model_name": "HTMLModel",
          "state": {
            "_view_name": "HTMLView",
            "style": "IPY_MODEL_f8eb734e34854151aa9690beccd15907",
            "_dom_classes": [],
            "description": "",
            "_model_name": "HTMLModel",
            "placeholder": "​",
            "_view_module": "@jupyter-widgets/controls",
            "_model_module_version": "1.5.0",
            "value": " 24/24 [1:15:29&lt;00:00, 188.71s/it]",
            "_view_count": null,
            "_view_module_version": "1.5.0",
            "description_tooltip": null,
            "_model_module": "@jupyter-widgets/controls",
            "layout": "IPY_MODEL_06b0db5fb9d841c48c06c33505128b98"
          }
        },
        "aa60010b5b8649d7966fce8030b14e07": {
          "model_module": "@jupyter-widgets/controls",
          "model_name": "ProgressStyleModel",
          "state": {
            "_view_name": "StyleView",
            "_model_name": "ProgressStyleModel",
            "description_width": "initial",
            "_view_module": "@jupyter-widgets/base",
            "_model_module_version": "1.5.0",
            "_view_count": null,
            "_view_module_version": "1.2.0",
            "bar_color": null,
            "_model_module": "@jupyter-widgets/controls"
          }
        },
        "b0873ef5ef604a299bfb55510c7d4e4f": {
          "model_module": "@jupyter-widgets/base",
          "model_name": "LayoutModel",
          "state": {
            "_view_name": "LayoutView",
            "grid_template_rows": null,
            "right": null,
            "justify_content": null,
            "_view_module": "@jupyter-widgets/base",
            "overflow": null,
            "_model_module_version": "1.2.0",
            "_view_count": null,
            "flex_flow": null,
            "width": null,
            "min_width": null,
            "border": null,
            "align_items": null,
            "bottom": null,
            "_model_module": "@jupyter-widgets/base",
            "top": null,
            "grid_column": null,
            "overflow_y": null,
            "overflow_x": null,
            "grid_auto_flow": null,
            "grid_area": null,
            "grid_template_columns": null,
            "flex": null,
            "_model_name": "LayoutModel",
            "justify_items": null,
            "grid_row": null,
            "max_height": null,
            "align_content": null,
            "visibility": null,
            "align_self": null,
            "height": null,
            "min_height": null,
            "padding": null,
            "grid_auto_rows": null,
            "grid_gap": null,
            "max_width": null,
            "order": null,
            "_view_module_version": "1.2.0",
            "grid_template_areas": null,
            "object_position": null,
            "object_fit": null,
            "grid_auto_columns": null,
            "margin": null,
            "display": null,
            "left": null
          }
        },
        "f8eb734e34854151aa9690beccd15907": {
          "model_module": "@jupyter-widgets/controls",
          "model_name": "DescriptionStyleModel",
          "state": {
            "_view_name": "StyleView",
            "_model_name": "DescriptionStyleModel",
            "description_width": "",
            "_view_module": "@jupyter-widgets/base",
            "_model_module_version": "1.5.0",
            "_view_count": null,
            "_view_module_version": "1.2.0",
            "_model_module": "@jupyter-widgets/controls"
          }
        },
        "06b0db5fb9d841c48c06c33505128b98": {
          "model_module": "@jupyter-widgets/base",
          "model_name": "LayoutModel",
          "state": {
            "_view_name": "LayoutView",
            "grid_template_rows": null,
            "right": null,
            "justify_content": null,
            "_view_module": "@jupyter-widgets/base",
            "overflow": null,
            "_model_module_version": "1.2.0",
            "_view_count": null,
            "flex_flow": null,
            "width": null,
            "min_width": null,
            "border": null,
            "align_items": null,
            "bottom": null,
            "_model_module": "@jupyter-widgets/base",
            "top": null,
            "grid_column": null,
            "overflow_y": null,
            "overflow_x": null,
            "grid_auto_flow": null,
            "grid_area": null,
            "grid_template_columns": null,
            "flex": null,
            "_model_name": "LayoutModel",
            "justify_items": null,
            "grid_row": null,
            "max_height": null,
            "align_content": null,
            "visibility": null,
            "align_self": null,
            "height": null,
            "min_height": null,
            "padding": null,
            "grid_auto_rows": null,
            "grid_gap": null,
            "max_width": null,
            "order": null,
            "_view_module_version": "1.2.0",
            "grid_template_areas": null,
            "object_position": null,
            "object_fit": null,
            "grid_auto_columns": null,
            "margin": null,
            "display": null,
            "left": null
          }
        },
        "c68c0aba460545adb24e783ce2c13439": {
          "model_module": "@jupyter-widgets/controls",
          "model_name": "HBoxModel",
          "state": {
            "_view_name": "HBoxView",
            "_dom_classes": [],
            "_model_name": "HBoxModel",
            "_view_module": "@jupyter-widgets/controls",
            "_model_module_version": "1.5.0",
            "_view_count": null,
            "_view_module_version": "1.5.0",
            "box_style": "",
            "layout": "IPY_MODEL_12efb155fa194934b72554783b72d5e3",
            "_model_module": "@jupyter-widgets/controls",
            "children": [
              "IPY_MODEL_2d3af0a313d34cd1bc0c8692ad5b389f",
              "IPY_MODEL_53228762ec4b4750bfdfdbe2498bea74"
            ]
          }
        },
        "12efb155fa194934b72554783b72d5e3": {
          "model_module": "@jupyter-widgets/base",
          "model_name": "LayoutModel",
          "state": {
            "_view_name": "LayoutView",
            "grid_template_rows": null,
            "right": null,
            "justify_content": null,
            "_view_module": "@jupyter-widgets/base",
            "overflow": null,
            "_model_module_version": "1.2.0",
            "_view_count": null,
            "flex_flow": null,
            "width": null,
            "min_width": null,
            "border": null,
            "align_items": null,
            "bottom": null,
            "_model_module": "@jupyter-widgets/base",
            "top": null,
            "grid_column": null,
            "overflow_y": null,
            "overflow_x": null,
            "grid_auto_flow": null,
            "grid_area": null,
            "grid_template_columns": null,
            "flex": null,
            "_model_name": "LayoutModel",
            "justify_items": null,
            "grid_row": null,
            "max_height": null,
            "align_content": null,
            "visibility": null,
            "align_self": null,
            "height": null,
            "min_height": null,
            "padding": null,
            "grid_auto_rows": null,
            "grid_gap": null,
            "max_width": null,
            "order": null,
            "_view_module_version": "1.2.0",
            "grid_template_areas": null,
            "object_position": null,
            "object_fit": null,
            "grid_auto_columns": null,
            "margin": null,
            "display": null,
            "left": null
          }
        },
        "2d3af0a313d34cd1bc0c8692ad5b389f": {
          "model_module": "@jupyter-widgets/controls",
          "model_name": "FloatProgressModel",
          "state": {
            "_view_name": "ProgressView",
            "style": "IPY_MODEL_d91289862e784b899bd631ea7f62eaa0",
            "_dom_classes": [],
            "description": "100%",
            "_model_name": "FloatProgressModel",
            "bar_style": "success",
            "max": 6,
            "_view_module": "@jupyter-widgets/controls",
            "_model_module_version": "1.5.0",
            "value": 6,
            "_view_count": null,
            "_view_module_version": "1.5.0",
            "orientation": "horizontal",
            "min": 0,
            "description_tooltip": null,
            "_model_module": "@jupyter-widgets/controls",
            "layout": "IPY_MODEL_5dcd1f0d86ad4f99b4d02c2f2fc5de97"
          }
        },
        "53228762ec4b4750bfdfdbe2498bea74": {
          "model_module": "@jupyter-widgets/controls",
          "model_name": "HTMLModel",
          "state": {
            "_view_name": "HTMLView",
            "style": "IPY_MODEL_6db5353aee134036adb427bb1ee24c28",
            "_dom_classes": [],
            "description": "",
            "_model_name": "HTMLModel",
            "placeholder": "​",
            "_view_module": "@jupyter-widgets/controls",
            "_model_module_version": "1.5.0",
            "value": " 6/6 [41:04&lt;00:00, 410.82s/it]",
            "_view_count": null,
            "_view_module_version": "1.5.0",
            "description_tooltip": null,
            "_model_module": "@jupyter-widgets/controls",
            "layout": "IPY_MODEL_973759733f2743148725af8d9a21de39"
          }
        },
        "d91289862e784b899bd631ea7f62eaa0": {
          "model_module": "@jupyter-widgets/controls",
          "model_name": "ProgressStyleModel",
          "state": {
            "_view_name": "StyleView",
            "_model_name": "ProgressStyleModel",
            "description_width": "initial",
            "_view_module": "@jupyter-widgets/base",
            "_model_module_version": "1.5.0",
            "_view_count": null,
            "_view_module_version": "1.2.0",
            "bar_color": null,
            "_model_module": "@jupyter-widgets/controls"
          }
        },
        "5dcd1f0d86ad4f99b4d02c2f2fc5de97": {
          "model_module": "@jupyter-widgets/base",
          "model_name": "LayoutModel",
          "state": {
            "_view_name": "LayoutView",
            "grid_template_rows": null,
            "right": null,
            "justify_content": null,
            "_view_module": "@jupyter-widgets/base",
            "overflow": null,
            "_model_module_version": "1.2.0",
            "_view_count": null,
            "flex_flow": null,
            "width": null,
            "min_width": null,
            "border": null,
            "align_items": null,
            "bottom": null,
            "_model_module": "@jupyter-widgets/base",
            "top": null,
            "grid_column": null,
            "overflow_y": null,
            "overflow_x": null,
            "grid_auto_flow": null,
            "grid_area": null,
            "grid_template_columns": null,
            "flex": null,
            "_model_name": "LayoutModel",
            "justify_items": null,
            "grid_row": null,
            "max_height": null,
            "align_content": null,
            "visibility": null,
            "align_self": null,
            "height": null,
            "min_height": null,
            "padding": null,
            "grid_auto_rows": null,
            "grid_gap": null,
            "max_width": null,
            "order": null,
            "_view_module_version": "1.2.0",
            "grid_template_areas": null,
            "object_position": null,
            "object_fit": null,
            "grid_auto_columns": null,
            "margin": null,
            "display": null,
            "left": null
          }
        },
        "6db5353aee134036adb427bb1ee24c28": {
          "model_module": "@jupyter-widgets/controls",
          "model_name": "DescriptionStyleModel",
          "state": {
            "_view_name": "StyleView",
            "_model_name": "DescriptionStyleModel",
            "description_width": "",
            "_view_module": "@jupyter-widgets/base",
            "_model_module_version": "1.5.0",
            "_view_count": null,
            "_view_module_version": "1.2.0",
            "_model_module": "@jupyter-widgets/controls"
          }
        },
        "973759733f2743148725af8d9a21de39": {
          "model_module": "@jupyter-widgets/base",
          "model_name": "LayoutModel",
          "state": {
            "_view_name": "LayoutView",
            "grid_template_rows": null,
            "right": null,
            "justify_content": null,
            "_view_module": "@jupyter-widgets/base",
            "overflow": null,
            "_model_module_version": "1.2.0",
            "_view_count": null,
            "flex_flow": null,
            "width": null,
            "min_width": null,
            "border": null,
            "align_items": null,
            "bottom": null,
            "_model_module": "@jupyter-widgets/base",
            "top": null,
            "grid_column": null,
            "overflow_y": null,
            "overflow_x": null,
            "grid_auto_flow": null,
            "grid_area": null,
            "grid_template_columns": null,
            "flex": null,
            "_model_name": "LayoutModel",
            "justify_items": null,
            "grid_row": null,
            "max_height": null,
            "align_content": null,
            "visibility": null,
            "align_self": null,
            "height": null,
            "min_height": null,
            "padding": null,
            "grid_auto_rows": null,
            "grid_gap": null,
            "max_width": null,
            "order": null,
            "_view_module_version": "1.2.0",
            "grid_template_areas": null,
            "object_position": null,
            "object_fit": null,
            "grid_auto_columns": null,
            "margin": null,
            "display": null,
            "left": null
          }
        }
      }
    }
  },
  "cells": [
    {
      "cell_type": "markdown",
      "metadata": {
        "id": "ojp_DJaEe5nM"
      },
      "source": [
        "# Natural Language Inference Project"
      ]
    },
    {
      "cell_type": "markdown",
      "metadata": {
        "id": "qcuswKSXUhtf"
      },
      "source": [
        "## Intro:"
      ]
    },
    {
      "cell_type": "markdown",
      "metadata": {
        "id": "FowHEiluUmAt"
      },
      "source": [
        "I wanted to see how different newspapers review the same event.\r\n",
        "\r\n",
        "Are there any differences in the titles of the articles? \r\n",
        "\r\n",
        "In this project I wanted to check that.\r\n",
        "\r\n",
        "This task is part of language inference field, which is called Recognizing Textual Entailment (RTE).\r\n",
        "\r\n"
      ]
    },
    {
      "cell_type": "markdown",
      "metadata": {
        "id": "dsxDPBqsWrwz"
      },
      "source": [
        "So my project goal: determining how pairs of English sentences are related (entailment connection / contradict / neutral)\r\n",
        "\r\n",
        "**Example:**\r\n",
        "\r\n",
        "*Sentence 1*: \"The kids are sad\"\r\n",
        "\r\n",
        "*Sentence 2*: \"Children smiling and waiving at the camera\"\r\n",
        "\r\n",
        "*Conclusion*: Those sentence are contradict ('sad' is the opposite of 'smiling')"
      ]
    },
    {
      "cell_type": "markdown",
      "metadata": {
        "id": "IHe0v0bVaGBw"
      },
      "source": [
        "**How I tried to do that?**\r\n",
        "\r\n",
        "I used pre-trained Bert model (DistilBert) to get sentences' embeddings;\r\n",
        "then I trained Machine Learning models to do the classification task (Logistic Regression, Support Vector Classification and Ensembles)"
      ]
    },
    {
      "cell_type": "markdown",
      "metadata": {
        "id": "K1MBjWaBYOZJ"
      },
      "source": [
        "*Let's get started:*"
      ]
    },
    {
      "cell_type": "markdown",
      "metadata": {
        "id": "J4M5WSGDe_3G"
      },
      "source": [
        "##Loading the Data:"
      ]
    },
    {
      "cell_type": "markdown",
      "metadata": {
        "id": "c1NY2CxluxB6"
      },
      "source": [
        "For minimal viable product (MVP) I'll implement my project on prepared dataset of Stanford University, named SNLI: "
      ]
    },
    {
      "cell_type": "markdown",
      "metadata": {
        "id": "WG6gT4DiYeds"
      },
      "source": [
        "Dataset source: https://nlp.stanford.edu/projects/snli/\r\n",
        "\r\n",
        "Download the dataset: https://nlp.stanford.edu/projects/snli/snli_1.0.zip"
      ]
    },
    {
      "cell_type": "markdown",
      "metadata": {
        "id": "AzDA3vTFYjes"
      },
      "source": [
        "I mounted the dataset into my google drive and loaded it from there:\r\n"
      ]
    },
    {
      "cell_type": "code",
      "metadata": {
        "colab": {
          "base_uri": "https://localhost:8080/"
        },
        "id": "xMXBBo97fpsZ",
        "outputId": "da1be7c2-2ffc-44e6-9642-f363b0e056c9"
      },
      "source": [
        "from google.colab import drive\r\n",
        "drive.mount('/content/drive')"
      ],
      "execution_count": 1,
      "outputs": [
        {
          "output_type": "stream",
          "text": [
            "Mounted at /content/drive\n"
          ],
          "name": "stdout"
        }
      ]
    },
    {
      "cell_type": "markdown",
      "metadata": {
        "id": "Lri0xNZEZ5Ir"
      },
      "source": [
        "Navigating into the folder I saved in the dataset:"
      ]
    },
    {
      "cell_type": "code",
      "metadata": {
        "colab": {
          "base_uri": "https://localhost:8080/"
        },
        "id": "YTk6nfRvfvMx",
        "outputId": "0e145fb5-7233-4fe4-afd2-18641b525838"
      },
      "source": [
        "%cd drive/MyDrive/Colab Notebooks/NLP_Project/"
      ],
      "execution_count": 2,
      "outputs": [
        {
          "output_type": "stream",
          "text": [
            "/content/drive/MyDrive/Colab Notebooks/NLP_Project\n"
          ],
          "name": "stdout"
        }
      ]
    },
    {
      "cell_type": "markdown",
      "metadata": {
        "id": "6_6fZfW2fK3A"
      },
      "source": [
        "##Importing packages:"
      ]
    },
    {
      "cell_type": "markdown",
      "metadata": {
        "id": "0AIeqEJkZwhF"
      },
      "source": [
        "Installing transformers package:"
      ]
    },
    {
      "cell_type": "code",
      "metadata": {
        "colab": {
          "base_uri": "https://localhost:8080/"
        },
        "id": "lLzeuspqf8kZ",
        "outputId": "8cb59186-d37d-4f7c-e42b-4540ea8089a3"
      },
      "source": [
        "!pip install transformers"
      ],
      "execution_count": 3,
      "outputs": [
        {
          "output_type": "stream",
          "text": [
            "Collecting transformers\n",
            "\u001b[?25l  Downloading https://files.pythonhosted.org/packages/88/b1/41130a228dd656a1a31ba281598a968320283f48d42782845f6ba567f00b/transformers-4.2.2-py3-none-any.whl (1.8MB)\n",
            "\u001b[K     |████████████████████████████████| 1.8MB 7.6MB/s \n",
            "\u001b[?25hRequirement already satisfied: regex!=2019.12.17 in /usr/local/lib/python3.6/dist-packages (from transformers) (2019.12.20)\n",
            "Requirement already satisfied: dataclasses; python_version < \"3.7\" in /usr/local/lib/python3.6/dist-packages (from transformers) (0.8)\n",
            "Collecting tokenizers==0.9.4\n",
            "\u001b[?25l  Downloading https://files.pythonhosted.org/packages/0f/1c/e789a8b12e28be5bc1ce2156cf87cb522b379be9cadc7ad8091a4cc107c4/tokenizers-0.9.4-cp36-cp36m-manylinux2010_x86_64.whl (2.9MB)\n",
            "\u001b[K     |████████████████████████████████| 2.9MB 30.3MB/s \n",
            "\u001b[?25hRequirement already satisfied: packaging in /usr/local/lib/python3.6/dist-packages (from transformers) (20.9)\n",
            "Requirement already satisfied: requests in /usr/local/lib/python3.6/dist-packages (from transformers) (2.23.0)\n",
            "Requirement already satisfied: filelock in /usr/local/lib/python3.6/dist-packages (from transformers) (3.0.12)\n",
            "Requirement already satisfied: numpy in /usr/local/lib/python3.6/dist-packages (from transformers) (1.19.5)\n",
            "Requirement already satisfied: tqdm>=4.27 in /usr/local/lib/python3.6/dist-packages (from transformers) (4.41.1)\n",
            "Requirement already satisfied: importlib-metadata; python_version < \"3.8\" in /usr/local/lib/python3.6/dist-packages (from transformers) (3.4.0)\n",
            "Collecting sacremoses\n",
            "\u001b[?25l  Downloading https://files.pythonhosted.org/packages/7d/34/09d19aff26edcc8eb2a01bed8e98f13a1537005d31e95233fd48216eed10/sacremoses-0.0.43.tar.gz (883kB)\n",
            "\u001b[K     |████████████████████████████████| 890kB 30.7MB/s \n",
            "\u001b[?25hRequirement already satisfied: pyparsing>=2.0.2 in /usr/local/lib/python3.6/dist-packages (from packaging->transformers) (2.4.7)\n",
            "Requirement already satisfied: idna<3,>=2.5 in /usr/local/lib/python3.6/dist-packages (from requests->transformers) (2.10)\n",
            "Requirement already satisfied: chardet<4,>=3.0.2 in /usr/local/lib/python3.6/dist-packages (from requests->transformers) (3.0.4)\n",
            "Requirement already satisfied: certifi>=2017.4.17 in /usr/local/lib/python3.6/dist-packages (from requests->transformers) (2020.12.5)\n",
            "Requirement already satisfied: urllib3!=1.25.0,!=1.25.1,<1.26,>=1.21.1 in /usr/local/lib/python3.6/dist-packages (from requests->transformers) (1.24.3)\n",
            "Requirement already satisfied: zipp>=0.5 in /usr/local/lib/python3.6/dist-packages (from importlib-metadata; python_version < \"3.8\"->transformers) (3.4.0)\n",
            "Requirement already satisfied: typing-extensions>=3.6.4; python_version < \"3.8\" in /usr/local/lib/python3.6/dist-packages (from importlib-metadata; python_version < \"3.8\"->transformers) (3.7.4.3)\n",
            "Requirement already satisfied: six in /usr/local/lib/python3.6/dist-packages (from sacremoses->transformers) (1.15.0)\n",
            "Requirement already satisfied: click in /usr/local/lib/python3.6/dist-packages (from sacremoses->transformers) (7.1.2)\n",
            "Requirement already satisfied: joblib in /usr/local/lib/python3.6/dist-packages (from sacremoses->transformers) (1.0.0)\n",
            "Building wheels for collected packages: sacremoses\n",
            "  Building wheel for sacremoses (setup.py) ... \u001b[?25l\u001b[?25hdone\n",
            "  Created wheel for sacremoses: filename=sacremoses-0.0.43-cp36-none-any.whl size=893261 sha256=74c35bef3f3437bff7edb9679a86f1f8d315c806742bb709b5a7cb1c0dd473b4\n",
            "  Stored in directory: /root/.cache/pip/wheels/29/3c/fd/7ce5c3f0666dab31a50123635e6fb5e19ceb42ce38d4e58f45\n",
            "Successfully built sacremoses\n",
            "Installing collected packages: tokenizers, sacremoses, transformers\n",
            "Successfully installed sacremoses-0.0.43 tokenizers-0.9.4 transformers-4.2.2\n"
          ],
          "name": "stdout"
        }
      ]
    },
    {
      "cell_type": "code",
      "metadata": {
        "id": "20slSaFvu1CJ"
      },
      "source": [
        "import numpy as np\r\n",
        "import pandas as pd\r\n",
        "import matplotlib.pyplot as plt\r\n",
        "from scipy import spatial\r\n",
        "from sklearn.model_selection import train_test_split\r\n",
        "from sklearn.linear_model import LogisticRegression\r\n",
        "from sklearn.svm import SVC as svc\r\n",
        "from sklearn.ensemble import VotingClassifier\r\n",
        "from sklearn.model_selection import cross_val_score\r\n",
        "from sklearn.metrics import confusion_matrix\r\n",
        "from sklearn.metrics import plot_confusion_matrix\r\n",
        "from tqdm.notebook import tqdm\r\n",
        "import torch\r\n",
        "import transformers as trnsf\r\n",
        "import warnings\r\n",
        "warnings.filterwarnings('ignore')"
      ],
      "execution_count": 4,
      "outputs": []
    },
    {
      "cell_type": "markdown",
      "metadata": {
        "id": "DqEb75WBpdB1"
      },
      "source": [
        "## Exploring the dataset:"
      ]
    },
    {
      "cell_type": "markdown",
      "metadata": {
        "id": "Z2kjMJLTg9QQ"
      },
      "source": [
        "I took the 'snli_1.0_train.csv' dataset for training and testing before using newspapers titles"
      ]
    },
    {
      "cell_type": "markdown",
      "metadata": {
        "id": "-ud0WRc8hUnQ"
      },
      "source": [
        "Loading the sentences and their label:"
      ]
    },
    {
      "cell_type": "code",
      "metadata": {
        "id": "cofI9M4Bf5sp"
      },
      "source": [
        "cols = ['gold_label', 'sentence1', 'sentence2']\r\n",
        "df = pd.read_csv('snli_1.0_train.csv', engine='python', usecols=cols)"
      ],
      "execution_count": 5,
      "outputs": []
    },
    {
      "cell_type": "markdown",
      "metadata": {
        "id": "DQNhkBu0hS_T"
      },
      "source": [
        "Taking a look at the dataset information:"
      ]
    },
    {
      "cell_type": "code",
      "metadata": {
        "colab": {
          "base_uri": "https://localhost:8080/"
        },
        "id": "OoIvqqV3pFBl",
        "outputId": "88d683c5-ae37-4be5-e9a7-31a2160e4583"
      },
      "source": [
        "df.info()"
      ],
      "execution_count": 6,
      "outputs": [
        {
          "output_type": "stream",
          "text": [
            "<class 'pandas.core.frame.DataFrame'>\n",
            "RangeIndex: 550152 entries, 0 to 550151\n",
            "Data columns (total 3 columns):\n",
            " #   Column      Non-Null Count   Dtype \n",
            "---  ------      --------------   ----- \n",
            " 0   gold_label  550152 non-null  object\n",
            " 1   sentence1   550152 non-null  object\n",
            " 2   sentence2   550146 non-null  object\n",
            "dtypes: object(3)\n",
            "memory usage: 12.6+ MB\n"
          ],
          "name": "stdout"
        }
      ]
    },
    {
      "cell_type": "markdown",
      "metadata": {
        "id": "o4mljFiL6G0y"
      },
      "source": [
        "Some sentences in the \"sentence2\" column are missing, so we need to drop those rows."
      ]
    },
    {
      "cell_type": "code",
      "metadata": {
        "id": "6F5bMM98pNDC"
      },
      "source": [
        "df = df[~df['sentence2'].isnull()]"
      ],
      "execution_count": 7,
      "outputs": []
    },
    {
      "cell_type": "markdown",
      "metadata": {
        "id": "yHM4HwybiHRt"
      },
      "source": [
        "Let's check again the dataset information:"
      ]
    },
    {
      "cell_type": "code",
      "metadata": {
        "colab": {
          "base_uri": "https://localhost:8080/"
        },
        "id": "5WnH6EBEpQdy",
        "outputId": "a7b163a1-7073-46ae-b14b-bd790c83b4f3"
      },
      "source": [
        "df.info()"
      ],
      "execution_count": 8,
      "outputs": [
        {
          "output_type": "stream",
          "text": [
            "<class 'pandas.core.frame.DataFrame'>\n",
            "Int64Index: 550146 entries, 0 to 550151\n",
            "Data columns (total 3 columns):\n",
            " #   Column      Non-Null Count   Dtype \n",
            "---  ------      --------------   ----- \n",
            " 0   gold_label  550146 non-null  object\n",
            " 1   sentence1   550146 non-null  object\n",
            " 2   sentence2   550146 non-null  object\n",
            "dtypes: object(3)\n",
            "memory usage: 16.8+ MB\n"
          ],
          "name": "stdout"
        }
      ]
    },
    {
      "cell_type": "markdown",
      "metadata": {
        "id": "AY6W8-EIiMDw"
      },
      "source": [
        "Problem fixed! the count in all the columns is the same."
      ]
    },
    {
      "cell_type": "markdown",
      "metadata": {
        "id": "mkfN2emOiZiq"
      },
      "source": [
        "Now let's check if there are weird labels:"
      ]
    },
    {
      "cell_type": "code",
      "metadata": {
        "colab": {
          "base_uri": "https://localhost:8080/"
        },
        "id": "vM2T47-9r6yg",
        "outputId": "5cf19b4a-de52-4f7a-afac-b0dd661162ef"
      },
      "source": [
        "df.gold_label.value_counts()"
      ],
      "execution_count": 9,
      "outputs": [
        {
          "output_type": "execute_result",
          "data": {
            "text/plain": [
              "entailment       183414\n",
              "contradiction    183185\n",
              "neutral          182762\n",
              "-                   785\n",
              "Name: gold_label, dtype: int64"
            ]
          },
          "metadata": {
            "tags": []
          },
          "execution_count": 9
        }
      ]
    },
    {
      "cell_type": "markdown",
      "metadata": {
        "id": "V7bMX6_sie8c"
      },
      "source": [
        "There are 785 rows with undefined category, for convenience, let's drop them too."
      ]
    },
    {
      "cell_type": "code",
      "metadata": {
        "id": "_tJ3J1dtsTtf"
      },
      "source": [
        "df = df[(df.gold_label != \"-\")]"
      ],
      "execution_count": 10,
      "outputs": []
    },
    {
      "cell_type": "markdown",
      "metadata": {
        "id": "TkUtOHhGijYI"
      },
      "source": [
        "Checking:"
      ]
    },
    {
      "cell_type": "code",
      "metadata": {
        "colab": {
          "base_uri": "https://localhost:8080/"
        },
        "id": "C1vQmLUNsprh",
        "outputId": "2fb29085-e749-46a5-d6b7-0fbc18b051d5"
      },
      "source": [
        "df.gold_label.value_counts()"
      ],
      "execution_count": 11,
      "outputs": [
        {
          "output_type": "execute_result",
          "data": {
            "text/plain": [
              "entailment       183414\n",
              "contradiction    183185\n",
              "neutral          182762\n",
              "Name: gold_label, dtype: int64"
            ]
          },
          "metadata": {
            "tags": []
          },
          "execution_count": 11
        }
      ]
    },
    {
      "cell_type": "markdown",
      "metadata": {
        "id": "yqyxxPzoinrd"
      },
      "source": [
        " Problem fixed!"
      ]
    },
    {
      "cell_type": "markdown",
      "metadata": {
        "id": "ys1eAcpOizVp"
      },
      "source": [
        "Now let's plot the distribution of the categories:"
      ]
    },
    {
      "cell_type": "code",
      "metadata": {
        "colab": {
          "base_uri": "https://localhost:8080/",
          "height": 295
        },
        "id": "DfI_zPfpf5ST",
        "outputId": "c52c9deb-ae67-451c-ef59-f3d86116398e"
      },
      "source": [
        "plt.bar(df.gold_label.unique(),df.gold_label.value_counts())\r\n",
        "plt.ylabel('Count')\r\n",
        "plt.xlabel('Category')\r\n",
        "plt.title('Labels Distribution')\r\n",
        "plt.show()"
      ],
      "execution_count": 12,
      "outputs": [
        {
          "output_type": "display_data",
          "data": {
            "image/png": "[encoded data removed]",
            "text/plain": [
              "<Figure size 432x288 with 1 Axes>"
            ]
          },
          "metadata": {
            "tags": [],
            "needs_background": "light"
          }
        }
      ]
    },
    {
      "cell_type": "markdown",
      "metadata": {
        "id": "nGlp1LxIi73J"
      },
      "source": [
        "The categories distribute equally."
      ]
    },
    {
      "cell_type": "markdown",
      "metadata": {
        "id": "U3WeX4JijC34"
      },
      "source": [
        "Printing the shape of the dataset:"
      ]
    },
    {
      "cell_type": "code",
      "metadata": {
        "colab": {
          "base_uri": "https://localhost:8080/"
        },
        "id": "RZQoIWvEpV0c",
        "outputId": "6a3b0ac1-1c2e-45a0-c421-76d66c2e834c"
      },
      "source": [
        "print(df.shape)"
      ],
      "execution_count": 13,
      "outputs": [
        {
          "output_type": "stream",
          "text": [
            "(549361, 3)\n"
          ],
          "name": "stdout"
        }
      ]
    },
    {
      "cell_type": "markdown",
      "metadata": {
        "id": "Sc3vXfrxjIPI"
      },
      "source": [
        "Let's take a look on how our dataset looks like:"
      ]
    },
    {
      "cell_type": "code",
      "metadata": {
        "colab": {
          "base_uri": "https://localhost:8080/",
          "height": 195
        },
        "id": "h8Q-UleepZOF",
        "outputId": "7d38af4f-b3fe-4729-8248-d7c9a413eb28"
      },
      "source": [
        "df.head()"
      ],
      "execution_count": 14,
      "outputs": [
        {
          "output_type": "execute_result",
          "data": {
            "text/html": [
              "<div>\n",
              "<style scoped>\n",
              "    .dataframe tbody tr th:only-of-type {\n",
              "        vertical-align: middle;\n",
              "    }\n",
              "\n",
              "    .dataframe tbody tr th {\n",
              "        vertical-align: top;\n",
              "    }\n",
              "\n",
              "    .dataframe thead th {\n",
              "        text-align: right;\n",
              "    }\n",
              "</style>\n",
              "<table border=\"1\" class=\"dataframe\">\n",
              "  <thead>\n",
              "    <tr style=\"text-align: right;\">\n",
              "      <th></th>\n",
              "      <th>gold_label</th>\n",
              "      <th>sentence1</th>\n",
              "      <th>sentence2</th>\n",
              "    </tr>\n",
              "  </thead>\n",
              "  <tbody>\n",
              "    <tr>\n",
              "      <th>0</th>\n",
              "      <td>neutral</td>\n",
              "      <td>A person on a horse jumps over a broken down a...</td>\n",
              "      <td>A person is training his horse for a competition.</td>\n",
              "    </tr>\n",
              "    <tr>\n",
              "      <th>1</th>\n",
              "      <td>contradiction</td>\n",
              "      <td>A person on a horse jumps over a broken down a...</td>\n",
              "      <td>A person is at a diner, ordering an omelette.</td>\n",
              "    </tr>\n",
              "    <tr>\n",
              "      <th>2</th>\n",
              "      <td>entailment</td>\n",
              "      <td>A person on a horse jumps over a broken down a...</td>\n",
              "      <td>A person is outdoors, on a horse.</td>\n",
              "    </tr>\n",
              "    <tr>\n",
              "      <th>3</th>\n",
              "      <td>neutral</td>\n",
              "      <td>Children smiling and waving at camera</td>\n",
              "      <td>They are smiling at their parents</td>\n",
              "    </tr>\n",
              "    <tr>\n",
              "      <th>4</th>\n",
              "      <td>entailment</td>\n",
              "      <td>Children smiling and waving at camera</td>\n",
              "      <td>There are children present</td>\n",
              "    </tr>\n",
              "  </tbody>\n",
              "</table>\n",
              "</div>"
            ],
            "text/plain": [
              "      gold_label  ...                                          sentence2\n",
              "0        neutral  ...  A person is training his horse for a competition.\n",
              "1  contradiction  ...      A person is at a diner, ordering an omelette.\n",
              "2     entailment  ...                  A person is outdoors, on a horse.\n",
              "3        neutral  ...                  They are smiling at their parents\n",
              "4     entailment  ...                         There are children present\n",
              "\n",
              "[5 rows x 3 columns]"
            ]
          },
          "metadata": {
            "tags": []
          },
          "execution_count": 14
        }
      ]
    },
    {
      "cell_type": "markdown",
      "metadata": {
        "id": "R1dQS17TjQMg"
      },
      "source": [
        "We can see the bunch of sentences with similar varient. We want the model to expose to different sentences and won't learn things by this specific order. So, let's shuffle the dataset and increase the variance:"
      ]
    },
    {
      "cell_type": "code",
      "metadata": {
        "id": "WRc8Vz4Uiptr"
      },
      "source": [
        "df = df.sample(frac=1, random_state=1).reset_index(drop=True)"
      ],
      "execution_count": 15,
      "outputs": []
    },
    {
      "cell_type": "markdown",
      "metadata": {
        "id": "p1hCup__kvhK"
      },
      "source": [
        "Taking another look at the dataset:"
      ]
    },
    {
      "cell_type": "code",
      "metadata": {
        "colab": {
          "base_uri": "https://localhost:8080/",
          "height": 195
        },
        "id": "1MB71uSWi73H",
        "outputId": "2f70c575-2705-447e-9e3a-9190a6d6a639"
      },
      "source": [
        "df.head()"
      ],
      "execution_count": 16,
      "outputs": [
        {
          "output_type": "execute_result",
          "data": {
            "text/html": [
              "<div>\n",
              "<style scoped>\n",
              "    .dataframe tbody tr th:only-of-type {\n",
              "        vertical-align: middle;\n",
              "    }\n",
              "\n",
              "    .dataframe tbody tr th {\n",
              "        vertical-align: top;\n",
              "    }\n",
              "\n",
              "    .dataframe thead th {\n",
              "        text-align: right;\n",
              "    }\n",
              "</style>\n",
              "<table border=\"1\" class=\"dataframe\">\n",
              "  <thead>\n",
              "    <tr style=\"text-align: right;\">\n",
              "      <th></th>\n",
              "      <th>gold_label</th>\n",
              "      <th>sentence1</th>\n",
              "      <th>sentence2</th>\n",
              "    </tr>\n",
              "  </thead>\n",
              "  <tbody>\n",
              "    <tr>\n",
              "      <th>0</th>\n",
              "      <td>neutral</td>\n",
              "      <td>A young girl in a pink shirt sitting on a dock...</td>\n",
              "      <td>A young girl watching the sunset over the water.</td>\n",
              "    </tr>\n",
              "    <tr>\n",
              "      <th>1</th>\n",
              "      <td>entailment</td>\n",
              "      <td>A woman is smiling while the man next to her i...</td>\n",
              "      <td>Two people are next to each other.</td>\n",
              "    </tr>\n",
              "    <tr>\n",
              "      <th>2</th>\n",
              "      <td>neutral</td>\n",
              "      <td>Across the river, you can see a large building.</td>\n",
              "      <td>The large building is full of apartments and t...</td>\n",
              "    </tr>\n",
              "    <tr>\n",
              "      <th>3</th>\n",
              "      <td>contradiction</td>\n",
              "      <td>a man in white shorts and a black shirt is par...</td>\n",
              "      <td>A man is riding a jetski on the ocean.</td>\n",
              "    </tr>\n",
              "    <tr>\n",
              "      <th>4</th>\n",
              "      <td>contradiction</td>\n",
              "      <td>Four black dogs run together on bright green g...</td>\n",
              "      <td>Four dogs are preparing to be launched into sp...</td>\n",
              "    </tr>\n",
              "  </tbody>\n",
              "</table>\n",
              "</div>"
            ],
            "text/plain": [
              "      gold_label  ...                                          sentence2\n",
              "0        neutral  ...   A young girl watching the sunset over the water.\n",
              "1     entailment  ...                 Two people are next to each other.\n",
              "2        neutral  ...  The large building is full of apartments and t...\n",
              "3  contradiction  ...             A man is riding a jetski on the ocean.\n",
              "4  contradiction  ...  Four dogs are preparing to be launched into sp...\n",
              "\n",
              "[5 rows x 3 columns]"
            ]
          },
          "metadata": {
            "tags": []
          },
          "execution_count": 16
        }
      ]
    },
    {
      "cell_type": "markdown",
      "metadata": {
        "id": "Bypg8yZTk2kg"
      },
      "source": [
        "Great! "
      ]
    },
    {
      "cell_type": "markdown",
      "metadata": {
        "id": "6-1f0dMdOt6M"
      },
      "source": [
        "---"
      ]
    },
    {
      "cell_type": "markdown",
      "metadata": {
        "id": "I9rmkNcUogfx"
      },
      "source": [
        "## Pre-trained BERT model"
      ]
    },
    {
      "cell_type": "markdown",
      "metadata": {
        "id": "Sj0aXKC9QXkm"
      },
      "source": [
        "### Why did I choose BERT model? and why did I choose to use DistilBERT version?"
      ]
    },
    {
      "cell_type": "markdown",
      "metadata": {
        "id": "incbkIDl7bxL"
      },
      "source": [
        "\r\n",
        "* BERT is bidirectional model - it can read a text (or a sequence of words) all at once, with no specific direction (it's not limited only to left-to-right or right-to-left).\r\n",
        "Because of that, BERT can understand the meaning of each word based on context both to the right and to the left of the word.\r\n",
        "\r\n",
        "* DistilBERT is a small, fast, cheap and light Transformer model trained by distilling BERT base.\r\n",
        "This allows me to train greater amount of sentences in google colab environment."
      ]
    },
    {
      "cell_type": "markdown",
      "metadata": {
        "id": "wiocRQiHT6nm"
      },
      "source": [
        "### Loading BERT model:"
      ]
    },
    {
      "cell_type": "code",
      "metadata": {
        "colab": {
          "base_uri": "https://localhost:8080/",
          "height": 163,
          "referenced_widgets": [
            "ddcdb2b10c804b90bedca66584a024f9",
            "38b8d53a53bc4c828a9ad0063620e923",
            "c5dbc68e1f03471e9f80a0aee0d64697",
            "3743ed1de7cd475eb35477e9dd490d11",
            "29e2a96346804dd09309a19931af3e1e",
            "6f6bdebc45464769bc262d21c7cbee0a",
            "638349f181b241dcbbc893d90f88c639",
            "828d44f370c2442faf87cc1c869c67fb",
            "1fd81021ebb34aed94d3478bf3c3f0f2",
            "889eb75d83e74dbc832a8294509797cd",
            "894b1213b6674383a6e5bcd526d219cf",
            "662c8409a4174a77a4558c219ecf3dc2",
            "b71103104c89485ba26cda970a152f6f",
            "3504c69ed5f34cfd813d7d8aedf3cc8e",
            "1afe6a3e54684e59bd48f86d0197c94d",
            "302ea0482dd744c79430fe4d27a84547",
            "f6cb8879f7df46e1beb9eedce76e0a6e",
            "384e3017395b47038045c01344098aac",
            "8f8f306df1b34c818f5298e1e5bb2f07",
            "9b87e65b4775444aa00a777ed8293320",
            "ea888b512156478abe012bfcfd0ae9cb",
            "a7e5eb7a6d2348b296cd87ab9b7ead07",
            "65f2f47ebb2640c19d6a3a7702de88b1",
            "2a26f94c67154ca393fc6799972d6b2e"
          ]
        },
        "id": "N441wrDcoluT",
        "outputId": "64222b5e-88eb-4a93-ffa1-4b26fd75e86a"
      },
      "source": [
        "# For DistilBERT:\r\n",
        "model_class, tokenizer_class, pretrained_weights = (trnsf.DistilBertModel, trnsf.DistilBertTokenizer, 'distilbert-base-uncased')\r\n",
        "\r\n",
        "# For Bert:\r\n",
        "#model_class, tokenizer_class, pretrained_weights = (trnsf.BertModel, trnsf.BertTokenizer, 'bert-base-uncased')\r\n",
        "\r\n",
        "# Load pretrained model/tokenizer\r\n",
        "tokenizer = tokenizer_class.from_pretrained(pretrained_weights)\r\n",
        "model = model_class.from_pretrained(pretrained_weights)"
      ],
      "execution_count": 17,
      "outputs": [
        {
          "output_type": "display_data",
          "data": {
            "application/vnd.jupyter.widget-view+json": {
              "model_id": "ddcdb2b10c804b90bedca66584a024f9",
              "version_minor": 0,
              "version_major": 2
            },
            "text/plain": [
              "HBox(children=(FloatProgress(value=0.0, description='Downloading', max=231508.0, style=ProgressStyle(descripti…"
            ]
          },
          "metadata": {
            "tags": []
          }
        },
        {
          "output_type": "stream",
          "text": [
            "\n"
          ],
          "name": "stdout"
        },
        {
          "output_type": "display_data",
          "data": {
            "application/vnd.jupyter.widget-view+json": {
              "model_id": "1fd81021ebb34aed94d3478bf3c3f0f2",
              "version_minor": 0,
              "version_major": 2
            },
            "text/plain": [
              "HBox(children=(FloatProgress(value=0.0, description='Downloading', max=442.0, style=ProgressStyle(description_…"
            ]
          },
          "metadata": {
            "tags": []
          }
        },
        {
          "output_type": "stream",
          "text": [
            "\n"
          ],
          "name": "stdout"
        },
        {
          "output_type": "display_data",
          "data": {
            "application/vnd.jupyter.widget-view+json": {
              "model_id": "f6cb8879f7df46e1beb9eedce76e0a6e",
              "version_minor": 0,
              "version_major": 2
            },
            "text/plain": [
              "HBox(children=(FloatProgress(value=0.0, description='Downloading', max=267967963.0, style=ProgressStyle(descri…"
            ]
          },
          "metadata": {
            "tags": []
          }
        },
        {
          "output_type": "stream",
          "text": [
            "\n"
          ],
          "name": "stdout"
        }
      ]
    },
    {
      "cell_type": "markdown",
      "metadata": {
        "id": "zuuDjYqwWrW_"
      },
      "source": [
        "### Creating functions for future use:"
      ]
    },
    {
      "cell_type": "markdown",
      "metadata": {
        "id": "9kxlYM_SbEsN"
      },
      "source": [
        "*Tokenizing and Padding*"
      ]
    },
    {
      "cell_type": "markdown",
      "metadata": {
        "id": "Gr699gQGWzob"
      },
      "source": [
        "Tokenizing is the process of transfering the sentences into a vectors.\r\n",
        "Computers and specifically BERT model doesn't understand words, so we need to \"translate\" them into numbers that can be processed. \r\n",
        "In the tokenizing process every word (or part of it) get id number and it enters into a vector of the sentence. "
      ]
    },
    {
      "cell_type": "markdown",
      "metadata": {
        "id": "NG9U4YMbeATv"
      },
      "source": [
        "Padding is adding zeros at the end of the sentences (padding id is zero).\r\n",
        "We use it to make sure all the sentences have the same length. "
      ]
    },
    {
      "cell_type": "code",
      "metadata": {
        "id": "JNTRIK07UmGy"
      },
      "source": [
        "def get_tokenized_sentences(sentences):\r\n",
        "    \"\"\"\r\n",
        "    This function tokenize the sentences.\r\n",
        "    sentences parameter is a pandas series of sentences.\r\n",
        "    \"\"\"\r\n",
        "    tokenized_sen = sentences.apply((lambda x: tokenizer.encode(x, add_special_tokens=True)))\r\n",
        "    return tokenized_sen\r\n",
        "\r\n",
        "\r\n",
        "def find_max_len(tokenized_sen):\r\n",
        "    \"\"\"\r\n",
        "    This function finds the max length of the tokenized sentences\r\n",
        "    tokenized_sen parameter is a pandas series of tokenized sentences.\r\n",
        "    \"\"\"\r\n",
        "    max_len = 0\r\n",
        "    for i in tokenized_sen.values:\r\n",
        "        if len(i) > max_len:\r\n",
        "            max_len = len(i)\r\n",
        "    return max_len\r\n",
        "\r\n",
        "\r\n",
        "def padding(tokenized_sen, max_len):\r\n",
        "    \"\"\"\r\n",
        "    tokenized_sen parameter is a pandas series of tokenized sentences.\r\n",
        "    max_len parameter defines the length of the tokenized sentences after padding.\r\n",
        "    \"\"\"\r\n",
        "    padded_sentences = np.array([i + [0]*(max_len-len(i)) for i in tokenized_sen.values])\r\n",
        "    return padded_sentences"
      ],
      "execution_count": 18,
      "outputs": []
    },
    {
      "cell_type": "markdown",
      "metadata": {
        "id": "t71ZfH0kY_Gk"
      },
      "source": [
        "Example:\r\n",
        "\r\n",
        "I took a sentence and transfered it into pandas series (so the function can use it) and printed the tokenized form of it and the padded form with max_len of 10."
      ]
    },
    {
      "cell_type": "code",
      "metadata": {
        "colab": {
          "base_uri": "https://localhost:8080/"
        },
        "id": "WFzntV9gYHYY",
        "outputId": "8813a863-786b-45bb-a534-3ca14b138260"
      },
      "source": [
        "my_sentence = \"Hello world\"\r\n",
        "my_sentence = pd.Series(my_sentence)\r\n",
        "\r\n",
        "my_sentence_tokenized = get_tokenized_sentences(my_sentence)\r\n",
        "print(\"tokenized:\", my_sentence_tokenized)\r\n",
        "\r\n",
        "my_sentence_padded = padding(my_sentence_tokenized, 10) \r\n",
        "print(\"padded:\", my_sentence_padded)"
      ],
      "execution_count": 19,
      "outputs": [
        {
          "output_type": "stream",
          "text": [
            "tokenized: 0    [101, 7592, 2088, 102]\n",
            "dtype: object\n",
            "padded: [[ 101 7592 2088  102    0    0    0    0    0    0]]\n"
          ],
          "name": "stdout"
        }
      ]
    },
    {
      "cell_type": "markdown",
      "metadata": {
        "id": "YiidI54tZL2m"
      },
      "source": [
        "To understand what we got let's use convert_ids_to_tokens method: "
      ]
    },
    {
      "cell_type": "code",
      "metadata": {
        "colab": {
          "base_uri": "https://localhost:8080/"
        },
        "id": "2EwADulPZ8tb",
        "outputId": "f70c17aa-69e3-48fe-b5a5-bbd70270eee7"
      },
      "source": [
        "print('101 id is: ', tokenizer.convert_ids_to_tokens(101))\r\n",
        "print('7592 id is: ',tokenizer.convert_ids_to_tokens(7592))\r\n",
        "print('2088 id is: ',tokenizer.convert_ids_to_tokens(2088))\r\n",
        "print('102 id is: ',tokenizer.convert_ids_to_tokens(102))\r\n",
        "print('0 id is: ',tokenizer.convert_ids_to_tokens(0))"
      ],
      "execution_count": 20,
      "outputs": [
        {
          "output_type": "stream",
          "text": [
            "101 id is:  [CLS]\n",
            "7592 id is:  hello\n",
            "2088 id is:  world\n",
            "102 id is:  [SEP]\n",
            "0 id is:  [PAD]\n"
          ],
          "name": "stdout"
        }
      ]
    },
    {
      "cell_type": "markdown",
      "metadata": {
        "id": "zNzBxsHLackE"
      },
      "source": [
        "[CLS] and [SEP] are tokens to indicate the model where the sentence begins and ends.\r\n",
        "[PAD] is for padding."
      ]
    },
    {
      "cell_type": "markdown",
      "metadata": {
        "id": "q6Fb_Q5la_rq"
      },
      "source": [
        "*Masking*\r\n",
        "\r\n"
      ]
    },
    {
      "cell_type": "markdown",
      "metadata": {
        "id": "keMnEwPdjuDW"
      },
      "source": [
        "Masking or attention mask tells BERT to ignore (mask) the padding we have added and focus only at thhe sentence itself. "
      ]
    },
    {
      "cell_type": "code",
      "metadata": {
        "id": "uTYrC2WAa_XJ"
      },
      "source": [
        "def masking(padded_sentences):\r\n",
        "    \"\"\"\r\n",
        "    This function creates attention_mask.\r\n",
        "    padded_sentence parameter is a pandas series of padded sentences.\r\n",
        "    \"\"\"\r\n",
        "    attention_mask = np.where(padded_sentences != 0, 1, 0)\r\n",
        "    return attention_mask"
      ],
      "execution_count": 21,
      "outputs": []
    },
    {
      "cell_type": "markdown",
      "metadata": {
        "id": "PfbfV7rXqH9s"
      },
      "source": [
        "Let's print the attention mask for out example sentence:"
      ]
    },
    {
      "cell_type": "code",
      "metadata": {
        "colab": {
          "base_uri": "https://localhost:8080/"
        },
        "id": "Hdmo1LvcklBm",
        "outputId": "5806f32f-ee4f-4bca-ae60-7c279892f64a"
      },
      "source": [
        "my_attention_mask = masking(my_sentence_padded)\r\n",
        "print(my_attention_mask)"
      ],
      "execution_count": 22,
      "outputs": [
        {
          "output_type": "stream",
          "text": [
            "[[1 1 1 1 0 0 0 0 0 0]]\n"
          ],
          "name": "stdout"
        }
      ]
    },
    {
      "cell_type": "markdown",
      "metadata": {
        "id": "1ipnkKN-myDt"
      },
      "source": [
        "We can see the attention vector tells BERT to focus on the first four words and ignore the other (the padding we just added)."
      ]
    },
    {
      "cell_type": "markdown",
      "metadata": {
        "id": "3aJWzobwkgeS"
      },
      "source": [
        "*BERT model*"
      ]
    },
    {
      "cell_type": "markdown",
      "metadata": {
        "id": "ntOhtTAppJac"
      },
      "source": [
        "The next function takes the padded sentences and attention mask, put them into the BERT model and gives us embeddings vectors; vectors that represent the meaning of the sentences, those will be out features."
      ]
    },
    {
      "cell_type": "code",
      "metadata": {
        "id": "jGsYuNCCiT2a"
      },
      "source": [
        "def get_embeddings(padded_sentences, attention_mask):\r\n",
        "    \"\"\"\r\n",
        "    This function takes the padded sentences and the attention mask and creates embeddings.\r\n",
        "    \"\"\"\r\n",
        "    input_ids = torch.tensor(padded_sentences)  \r\n",
        "    attention_mask = torch.tensor(attention_mask)\r\n",
        "    with torch.no_grad():\r\n",
        "        last_hidden_state = model(input_ids, attention_mask = attention_mask)\r\n",
        "\r\n",
        "    embeddings = last_hidden_state[0][:,0,:].numpy()\r\n",
        "\r\n",
        "    return embeddings"
      ],
      "execution_count": 23,
      "outputs": []
    },
    {
      "cell_type": "markdown",
      "metadata": {
        "id": "OscWEV2kqQCK"
      },
      "source": [
        "And finally let's print the embedding vector for our example:"
      ]
    },
    {
      "cell_type": "code",
      "metadata": {
        "id": "-W3geMnwqXYi"
      },
      "source": [
        "my_sentence_embedding = get_embeddings(my_sentence_padded, my_attention_mask)"
      ],
      "execution_count": 24,
      "outputs": []
    },
    {
      "cell_type": "code",
      "metadata": {
        "colab": {
          "base_uri": "https://localhost:8080/",
          "height": 314
        },
        "id": "aFXC8G-lrdlo",
        "outputId": "cfa30a8a-6da7-47b9-b4f7-f7fed54fad0d"
      },
      "source": [
        "plt.plot(my_sentence_embedding.reshape(-1,1))\r\n",
        "plt.title('Embedding Representation');\r\n",
        "\r\n",
        "print(\"The shape of the vector:\", my_sentence_embedding.shape, \"\\n\")"
      ],
      "execution_count": 25,
      "outputs": [
        {
          "output_type": "stream",
          "text": [
            "The shape of the vector: (1, 768) \n",
            "\n"
          ],
          "name": "stdout"
        },
        {
          "output_type": "display_data",
          "data": {
            "image/png": "[encoded data removed]",
            "text/plain": [
              "<Figure size 432x288 with 1 Axes>"
            ]
          },
          "metadata": {
            "tags": [],
            "needs_background": "light"
          }
        }
      ]
    },
    {
      "cell_type": "markdown",
      "metadata": {
        "id": "LjsWBv-lrPbH"
      },
      "source": [
        "This vector represents the meaning of the sentence \"Hello World\"."
      ]
    },
    {
      "cell_type": "markdown",
      "metadata": {
        "id": "jZz1ZGqEnYE5"
      },
      "source": [
        "---"
      ]
    },
    {
      "cell_type": "markdown",
      "metadata": {
        "id": "in_GljdSAdTi"
      },
      "source": [
        "Now let's create function to run all the function I created together:"
      ]
    },
    {
      "cell_type": "code",
      "metadata": {
        "id": "kB0yVkhqAcma"
      },
      "source": [
        "def bert_model(sentence1, sentence2, max_len=100):\r\n",
        "    \"\"\"\r\n",
        "    This function receives two sentences (or pandas series of sentences) and creates embedding vectors for them.\r\n",
        "    max_len parameter is the max length of the padding vector.\r\n",
        "    \"\"\"\r\n",
        "    sentence1 = pd.Series(sentence1)\r\n",
        "    sentence2 = pd.Series(sentence2)\r\n",
        "\r\n",
        "    tokenized_sen1 = get_tokenized_sentences(sentence1)\r\n",
        "    tokenized_sen2 = get_tokenized_sentences(sentence2)\r\n",
        "\r\n",
        "    max_len_s1 = find_max_len(tokenized_sen1)\r\n",
        "    max_len_s2 = find_max_len(tokenized_sen2)\r\n",
        "    max_len = max(max_len_s1, max_len_s2, max_len)\r\n",
        "\r\n",
        "    padded_s1 = padding(tokenized_sen1, max_len)\r\n",
        "    padded_s2 = padding(tokenized_sen2, max_len)\r\n",
        "\r\n",
        "    attention_mask_s1 = masking(padded_s1)\r\n",
        "    attention_mask_s2 = masking(padded_s2)\r\n",
        "\r\n",
        "    embeddings_s1 = get_embeddings(padded_s1, attention_mask_s1)\r\n",
        "    embeddings_s2 = get_embeddings(padded_s2, attention_mask_s2)\r\n",
        "\r\n",
        "    return embeddings_s1, embeddings_s2"
      ],
      "execution_count": 26,
      "outputs": []
    },
    {
      "cell_type": "markdown",
      "metadata": {
        "id": "TPKKiZA0CuMy"
      },
      "source": [
        "And a function for plotting:"
      ]
    },
    {
      "cell_type": "code",
      "metadata": {
        "id": "0eVnnAYWCxPj"
      },
      "source": [
        "def plot_embeddings(embeddings_s1, embeddings_s2):\r\n",
        "    \"\"\"\r\n",
        "    This function receives two embedding functions and plot them together\r\n",
        "    \"\"\"\r\n",
        "    plt.figure(figsize=(10,5))\r\n",
        "    plt.plot(embeddings_s1.reshape(-1,1), label='sentence1')\r\n",
        "    plt.plot(embeddings_s2.reshape(-1,1), label='sentence2')\r\n",
        "    plt.legend(loc='lower left');"
      ],
      "execution_count": 27,
      "outputs": []
    },
    {
      "cell_type": "markdown",
      "metadata": {
        "id": "jQApNHhy8UaP"
      },
      "source": [
        "### Let's see if there is any difference in the plots of the categories:"
      ]
    },
    {
      "cell_type": "code",
      "metadata": {
        "id": "VIsGJ6WzIlry"
      },
      "source": [
        "entailment = df.loc[df['gold_label'] == 'entailment'].reset_index(drop=True)\r\n",
        "contradiction = df.loc[df['gold_label'] == 'contradiction'].reset_index(drop=True)\r\n",
        "neutral = df.loc[df['gold_label'] == 'neutral'].reset_index(drop=True)"
      ],
      "execution_count": 28,
      "outputs": []
    },
    {
      "cell_type": "markdown",
      "metadata": {
        "id": "l9dzEWd69T-G"
      },
      "source": [
        "*Entailment:*"
      ]
    },
    {
      "cell_type": "code",
      "metadata": {
        "colab": {
          "base_uri": "https://localhost:8080/"
        },
        "id": "5lcJYxm08Tj7",
        "outputId": "738a4d83-9ea8-4e6b-b33f-6db7d59ba665"
      },
      "source": [
        "print(\"label:\", entailment['gold_label'][0])\r\n",
        "print(\"sentence1\", entailment['sentence1'][0])\r\n",
        "print(\"sentence2\", entailment['sentence2'][0])"
      ],
      "execution_count": 29,
      "outputs": [
        {
          "output_type": "stream",
          "text": [
            "label: entailment\n",
            "sentence1 A woman is smiling while the man next to her is focused on a blue object with a pattern on it.\n",
            "sentence2 Two people are next to each other.\n"
          ],
          "name": "stdout"
        }
      ]
    },
    {
      "cell_type": "markdown",
      "metadata": {
        "id": "zaFEB69U-4dp"
      },
      "source": [
        "Running all the functions to get the embeddings and plotting:"
      ]
    },
    {
      "cell_type": "code",
      "metadata": {
        "colab": {
          "base_uri": "https://localhost:8080/",
          "height": 336
        },
        "id": "3ZoV-TRw9Xjg",
        "outputId": "61491695-320b-44c6-84e9-81788f3e1c3a"
      },
      "source": [
        "embeddings_s1_ent, embeddings_s2_ent = bert_model(df['sentence1'][0], df['sentence2'][0])\r\n",
        "plot_embeddings(embeddings_s1_ent, embeddings_s2_ent)\r\n",
        "plt.title('Entailment Embeddings Representation');"
      ],
      "execution_count": 30,
      "outputs": [
        {
          "output_type": "display_data",
          "data": {
            "image/png": "[encoded data removed]",
            "text/plain": [
              "<Figure size 720x360 with 1 Axes>"
            ]
          },
          "metadata": {
            "tags": [],
            "needs_background": "light"
          }
        }
      ]
    },
    {
      "cell_type": "markdown",
      "metadata": {
        "id": "l4y6SrzADmrj"
      },
      "source": [
        "*Contradiction*"
      ]
    },
    {
      "cell_type": "code",
      "metadata": {
        "colab": {
          "base_uri": "https://localhost:8080/"
        },
        "id": "oIRIiA3vDoAy",
        "outputId": "1b7446ac-7a77-4f0d-81e7-c0df6000afc5"
      },
      "source": [
        "print(\"label:\", contradiction['gold_label'][0])\r\n",
        "print(\"sentence1\", contradiction['sentence1'][0])\r\n",
        "print(\"sentence2\", contradiction['sentence2'][0])"
      ],
      "execution_count": 31,
      "outputs": [
        {
          "output_type": "stream",
          "text": [
            "label: contradiction\n",
            "sentence1 a man in white shorts and a black shirt is paragliding on the ocean\n",
            "sentence2 A man is riding a jetski on the ocean.\n"
          ],
          "name": "stdout"
        }
      ]
    },
    {
      "cell_type": "markdown",
      "metadata": {
        "id": "UPnn2l_6D3UR"
      },
      "source": [
        "Running all the functions to get the embeddings and plotting:"
      ]
    },
    {
      "cell_type": "code",
      "metadata": {
        "colab": {
          "base_uri": "https://localhost:8080/",
          "height": 336
        },
        "id": "wc58u4AXDy0h",
        "outputId": "97b2e1c2-f547-4b22-daad-2491c4b2d871"
      },
      "source": [
        "embeddings_s1_cont, embeddings_s2_cont = bert_model(df['sentence1'][0], df['sentence2'][0])\r\n",
        "plot_embeddings(embeddings_s1_cont, embeddings_s2_cont)\r\n",
        "plt.title('Contradiction Embeddings Representation');"
      ],
      "execution_count": 32,
      "outputs": [
        {
          "output_type": "display_data",
          "data": {
            "image/png": "[encoded data removed]",
            "text/plain": [
              "<Figure size 720x360 with 1 Axes>"
            ]
          },
          "metadata": {
            "tags": [],
            "needs_background": "light"
          }
        }
      ]
    },
    {
      "cell_type": "markdown",
      "metadata": {
        "id": "SwgGESuxEWOW"
      },
      "source": [
        "*Neutral*"
      ]
    },
    {
      "cell_type": "code",
      "metadata": {
        "colab": {
          "base_uri": "https://localhost:8080/"
        },
        "id": "3sVwlonVEaVT",
        "outputId": "d2c53828-ee28-4337-aece-ebc89cb64fea"
      },
      "source": [
        "print(\"label:\", neutral['gold_label'][0])\r\n",
        "print(\"sentence1\", neutral['sentence1'][0])\r\n",
        "print(\"sentence2\", neutral['sentence2'][0])"
      ],
      "execution_count": 33,
      "outputs": [
        {
          "output_type": "stream",
          "text": [
            "label: neutral\n",
            "sentence1 A young girl in a pink shirt sitting on a dock viewing a body of water.\n",
            "sentence2 A young girl watching the sunset over the water.\n"
          ],
          "name": "stdout"
        }
      ]
    },
    {
      "cell_type": "markdown",
      "metadata": {
        "id": "JvttR-H-EcD_"
      },
      "source": [
        "Running all the functions to get the embeddings and plotting:"
      ]
    },
    {
      "cell_type": "code",
      "metadata": {
        "colab": {
          "base_uri": "https://localhost:8080/",
          "height": 336
        },
        "id": "-Dv7W_rzEcdR",
        "outputId": "11b060e6-cc7a-4fc5-c3b4-d715b3e17a63"
      },
      "source": [
        "embeddings_s1_neu, embeddings_s2_neu = bert_model(df['sentence1'][0], df['sentence2'][0])\r\n",
        "plot_embeddings(embeddings_s1_neu, embeddings_s2_neu)\r\n",
        "plt.title('Neutral Embeddings Representation');"
      ],
      "execution_count": 34,
      "outputs": [
        {
          "output_type": "display_data",
          "data": {
            "image/png": "[encoded data removed]",
            "text/plain": [
              "<Figure size 720x360 with 1 Axes>"
            ]
          },
          "metadata": {
            "tags": [],
            "needs_background": "light"
          }
        }
      ]
    },
    {
      "cell_type": "markdown",
      "metadata": {
        "id": "vrOMpjX4Gg5R"
      },
      "source": [
        "We can see there is some difference between the plots but we can't say by looking at them that we can distinguish between the categories only by the plot.\r\n",
        "\r\n",
        "Let's hope the models we'll train will do the work :)"
      ]
    },
    {
      "cell_type": "markdown",
      "metadata": {
        "id": "z7I06FLp8SR6"
      },
      "source": [
        "---"
      ]
    },
    {
      "cell_type": "markdown",
      "metadata": {
        "id": "8zlnny4yxQIu"
      },
      "source": [
        "## Modeling"
      ]
    },
    {
      "cell_type": "markdown",
      "metadata": {
        "id": "zgYatWCSs0P3"
      },
      "source": [
        "Let's return to our business:\r\n"
      ]
    },
    {
      "cell_type": "markdown",
      "metadata": {
        "id": "yBMLEKWqk-yA"
      },
      "source": [
        "Because of RAM and time limitations, I'll create batches and train my model on 12,000 rows and test it on 3,000 rows."
      ]
    },
    {
      "cell_type": "markdown",
      "metadata": {
        "id": "MRfNwLzhMneB"
      },
      "source": [
        "Let's split the data set into train and test subsets. I use shuffle to increase the variance and stratify to make sure the categories distribute evenly in the train and test subsets. X represents sentence1 and sentence2 columns and y represents our categories / labels."
      ]
    },
    {
      "cell_type": "code",
      "metadata": {
        "id": "Qnw-apVFLmM6"
      },
      "source": [
        "train_size = 12000\r\n",
        "test_size = 3000\r\n",
        "\r\n",
        "X_train, X_test, y_train, y_test = train_test_split(df[['sentence1', 'sentence2']],\r\n",
        "                                                    df['gold_label'], test_size=test_size,\r\n",
        "                                                    train_size=train_size, random_state=1,\r\n",
        "                                                    shuffle=True, stratify=df['gold_label'])\r\n",
        "\r\n",
        "X_train = X_train.reset_index(drop=True)\r\n",
        "X_test = X_test.reset_index(drop=True)\r\n",
        "y_train = y_train.reset_index(drop=True)\r\n",
        "y_test = y_test.reset_index(drop=True)"
      ],
      "execution_count": 35,
      "outputs": []
    },
    {
      "cell_type": "markdown",
      "metadata": {
        "id": "Y6xG2KXUT4zc"
      },
      "source": [
        "I'm reseting the indices so we can loop over those datasets."
      ]
    },
    {
      "cell_type": "markdown",
      "metadata": {
        "id": "iPrQWGkHOHdB"
      },
      "source": [
        "Checking the shapes and value counts of the subsets:"
      ]
    },
    {
      "cell_type": "code",
      "metadata": {
        "colab": {
          "base_uri": "https://localhost:8080/"
        },
        "id": "cDgf7aePNEc6",
        "outputId": "837dd738-b185-4a7d-d281-623cdcbbabdf"
      },
      "source": [
        "print('X_train shape:', X_train.shape)\r\n",
        "print('y_train shape:', y_train.shape)\r\n",
        "print('X_test shape:', X_test.shape)\r\n",
        "print('y_test shape:', y_test.shape)"
      ],
      "execution_count": 36,
      "outputs": [
        {
          "output_type": "stream",
          "text": [
            "X_train shape: (12000, 2)\n",
            "y_train shape: (12000,)\n",
            "X_test shape: (3000, 2)\n",
            "y_test shape: (3000,)\n"
          ],
          "name": "stdout"
        }
      ]
    },
    {
      "cell_type": "code",
      "metadata": {
        "colab": {
          "base_uri": "https://localhost:8080/"
        },
        "id": "AwoVOAk6Ou7i",
        "outputId": "96376b16-94a4-4c1d-9cde-78c542912456"
      },
      "source": [
        "print(\"Train:\\n\", y_train.value_counts(), \"\\n\")\r\n",
        "print(\"Test:\\n\", y_test.value_counts())"
      ],
      "execution_count": 37,
      "outputs": [
        {
          "output_type": "stream",
          "text": [
            "Train:\n",
            " entailment       4007\n",
            "contradiction    4001\n",
            "neutral          3992\n",
            "Name: gold_label, dtype: int64 \n",
            "\n",
            "Test:\n",
            " entailment       1002\n",
            "contradiction    1000\n",
            "neutral           998\n",
            "Name: gold_label, dtype: int64\n"
          ],
          "name": "stdout"
        }
      ]
    },
    {
      "cell_type": "code",
      "metadata": {
        "colab": {
          "base_uri": "https://localhost:8080/",
          "height": 295
        },
        "id": "UtNMxAlHP2CR",
        "outputId": "36156798-fc1c-4fe9-de55-6dd3f91c81ff"
      },
      "source": [
        "plt.bar(y_train.unique(),y_train.value_counts())\r\n",
        "plt.ylabel('Count')\r\n",
        "plt.xlabel('Category')\r\n",
        "plt.title('Labels Distribution of Train Set')\r\n",
        "plt.show()"
      ],
      "execution_count": 38,
      "outputs": [
        {
          "output_type": "display_data",
          "data": {
            "image/png": "[encoded data removed]",
            "text/plain": [
              "<Figure size 432x288 with 1 Axes>"
            ]
          },
          "metadata": {
            "tags": [],
            "needs_background": "light"
          }
        }
      ]
    },
    {
      "cell_type": "markdown",
      "metadata": {
        "id": "of6zXryUPKH4"
      },
      "source": [
        "Good, The shapes as defined and the distribution of the categories is quite similar."
      ]
    },
    {
      "cell_type": "markdown",
      "metadata": {
        "id": "J5rKhzuNPtj4"
      },
      "source": [
        "Let's create embeddings for \"sentence1\" and \"sentence2\" columns.\r\n",
        "\r\n",
        "It's gonna take a while..."
      ]
    },
    {
      "cell_type": "markdown",
      "metadata": {
        "id": "cfzP3Pa-Ht3W"
      },
      "source": [
        "For the train set:"
      ]
    },
    {
      "cell_type": "code",
      "metadata": {
        "id": "7gV0fEeDq824",
        "colab": {
          "base_uri": "https://localhost:8080/",
          "height": 66,
          "referenced_widgets": [
            "1d9e57ebb6124f178f9bdce1a3c88200",
            "b338955d8004448e99cdb91ee68ed47d",
            "a8efd51e351343c48095d4061da914c7",
            "86bfe734b1684c6781b0291ae2a6c43a",
            "aa60010b5b8649d7966fce8030b14e07",
            "b0873ef5ef604a299bfb55510c7d4e4f",
            "f8eb734e34854151aa9690beccd15907",
            "06b0db5fb9d841c48c06c33505128b98"
          ]
        },
        "outputId": "d0cedd16-79bd-4371-ac4c-2f04d897ce57"
      },
      "source": [
        "total_embeddings_s1_train = []\r\n",
        "total_embeddings_s2_train = []\r\n",
        "\r\n",
        "for i in tqdm(range(int(train_size / 500))): \r\n",
        "    batch = X_train[i*500:i*500+500]\r\n",
        "    embeddings_s1, embeddings_s2 = bert_model(batch['sentence1'], batch['sentence2'])\r\n",
        "\r\n",
        "    total_embeddings_s1_train.extend(embeddings_s1)\r\n",
        "    total_embeddings_s2_train.extend(embeddings_s2)"
      ],
      "execution_count": 39,
      "outputs": [
        {
          "output_type": "display_data",
          "data": {
            "application/vnd.jupyter.widget-view+json": {
              "model_id": "1d9e57ebb6124f178f9bdce1a3c88200",
              "version_minor": 0,
              "version_major": 2
            },
            "text/plain": [
              "HBox(children=(FloatProgress(value=0.0, max=24.0), HTML(value='')))"
            ]
          },
          "metadata": {
            "tags": []
          }
        },
        {
          "output_type": "stream",
          "text": [
            "\n"
          ],
          "name": "stdout"
        }
      ]
    },
    {
      "cell_type": "markdown",
      "metadata": {
        "id": "hfLqbqu3HrBK"
      },
      "source": [
        "For the test set:"
      ]
    },
    {
      "cell_type": "code",
      "metadata": {
        "colab": {
          "base_uri": "https://localhost:8080/",
          "height": 66,
          "referenced_widgets": [
            "c68c0aba460545adb24e783ce2c13439",
            "12efb155fa194934b72554783b72d5e3",
            "2d3af0a313d34cd1bc0c8692ad5b389f",
            "53228762ec4b4750bfdfdbe2498bea74",
            "d91289862e784b899bd631ea7f62eaa0",
            "5dcd1f0d86ad4f99b4d02c2f2fc5de97",
            "6db5353aee134036adb427bb1ee24c28",
            "973759733f2743148725af8d9a21de39"
          ]
        },
        "id": "jgbD7yIsuEV6",
        "outputId": "7a7717ec-e288-4fb8-87fd-8316755bd8b7"
      },
      "source": [
        "total_embeddings_s1_test = []\r\n",
        "total_embeddings_s2_test = []\r\n",
        "\r\n",
        "for i in tqdm(range(int(test_size / 500))): \r\n",
        "    batch = X_test[i*500:i*500+500]\r\n",
        "    embeddings_s1, embeddings_s2 = bert_model(batch['sentence1'], batch['sentence2'])\r\n",
        "\r\n",
        "    total_embeddings_s1_test.extend(embeddings_s1)\r\n",
        "    total_embeddings_s2_test.extend(embeddings_s2)"
      ],
      "execution_count": 40,
      "outputs": [
        {
          "output_type": "display_data",
          "data": {
            "application/vnd.jupyter.widget-view+json": {
              "model_id": "c68c0aba460545adb24e783ce2c13439",
              "version_minor": 0,
              "version_major": 2
            },
            "text/plain": [
              "HBox(children=(FloatProgress(value=0.0, max=6.0), HTML(value='')))"
            ]
          },
          "metadata": {
            "tags": []
          }
        },
        {
          "output_type": "stream",
          "text": [
            "\n"
          ],
          "name": "stdout"
        }
      ]
    },
    {
      "cell_type": "markdown",
      "metadata": {
        "id": "zjxQVFTNU7aD"
      },
      "source": [
        "Converting the list into numpy array:"
      ]
    },
    {
      "cell_type": "code",
      "metadata": {
        "id": "3oWp5-0hU5vi"
      },
      "source": [
        "total_embeddings_s1_train = np.asarray(total_embeddings_s1_train)\r\n",
        "total_embeddings_s2_train = np.asarray(total_embeddings_s2_train)\r\n",
        "\r\n",
        "total_embeddings_s1_test = np.asarray(total_embeddings_s1_test)\r\n",
        "total_embeddings_s2_test = np.asarray(total_embeddings_s2_test)\r\n"
      ],
      "execution_count": 41,
      "outputs": []
    },
    {
      "cell_type": "markdown",
      "metadata": {
        "id": "njfeey3xpqi6"
      },
      "source": [
        "Checking the length of the embedding vectors is equal:"
      ]
    },
    {
      "cell_type": "code",
      "metadata": {
        "colab": {
          "base_uri": "https://localhost:8080/"
        },
        "id": "0qBhMnmLFOLs",
        "outputId": "7a4d4f4c-01cc-4dbb-c71c-86fd15044c8c"
      },
      "source": [
        "print(len(total_embeddings_s1_train) == len(total_embeddings_s2_train))\r\n",
        "print(len(total_embeddings_s1_test) == len(total_embeddings_s2_test))"
      ],
      "execution_count": 42,
      "outputs": [
        {
          "output_type": "stream",
          "text": [
            "True\n",
            "True\n"
          ],
          "name": "stdout"
        }
      ]
    },
    {
      "cell_type": "markdown",
      "metadata": {
        "id": "16Anb2l-9ZSz"
      },
      "source": [
        "Okay, now that we have the embeddings, let's try few ways using the embeddings for classification modeling: \r\n",
        "\r\n",
        "1. calculating cosine similarity - technique to check how similar the vectors are by their angle.\r\n",
        "2. subtracting the embeddings vectors.\r\n",
        "3. concatenating the embeddings vectors."
      ]
    },
    {
      "cell_type": "markdown",
      "metadata": {
        "id": "pii2L3Kl2uV8"
      },
      "source": [
        "1. *cosine similarity*"
      ]
    },
    {
      "cell_type": "markdown",
      "metadata": {
        "id": "HAk18IjIUDGp"
      },
      "source": [
        "Calculating the cosine similarity and plotting it"
      ]
    },
    {
      "cell_type": "code",
      "metadata": {
        "id": "BP8R2uvHrq-G"
      },
      "source": [
        "cosine_similarity_embeddings = [1 - spatial.distance.cosine(total_embeddings_s1_train[i], total_embeddings_s2_train[i]) for i in range(len(total_embeddings_s1_train))]\r\n",
        "cosine_similarity_embeddings = np.asarray(cosine_similarity_embeddings)"
      ],
      "execution_count": 43,
      "outputs": []
    },
    {
      "cell_type": "code",
      "metadata": {
        "id": "BHfC_JKctxX1",
        "colab": {
          "base_uri": "https://localhost:8080/",
          "height": 265
        },
        "outputId": "b8854ce8-38f0-48ce-d198-d2236d15168e"
      },
      "source": [
        "plt.scatter(y_train, cosine_similarity_embeddings)\r\n",
        "plt.ylabel('Cosine Similarity');"
      ],
      "execution_count": 44,
      "outputs": [
        {
          "output_type": "display_data",
          "data": {
            "image/png": "[encoded data removed]",
            "text/plain": [
              "<Figure size 432x288 with 1 Axes>"
            ]
          },
          "metadata": {
            "tags": [],
            "needs_background": "light"
          }
        }
      ]
    },
    {
      "cell_type": "markdown",
      "metadata": {
        "id": "dE3PR8wEUm1x"
      },
      "source": [
        "We can see the cosine similarity value of the labels is in the same range approximately between 0.75 - 1, that means we can't distinguish by it between the labels, and therefore it's not a good technique for that case. "
      ]
    },
    {
      "cell_type": "markdown",
      "metadata": {
        "id": "24Ti1sSXXkPM"
      },
      "source": [
        "2. *subtracting the embeddings vectors.*"
      ]
    },
    {
      "cell_type": "code",
      "metadata": {
        "id": "LgCk_D3InmCc"
      },
      "source": [
        "subtract_embeddings_train = total_embeddings_s1_train - total_embeddings_s2_train \r\n",
        "subtract_embeddings_test = total_embeddings_s1_test - total_embeddings_s2_test"
      ],
      "execution_count": 45,
      "outputs": []
    },
    {
      "cell_type": "markdown",
      "metadata": {
        "id": "Af43B_RHZQdI"
      },
      "source": [
        "We can't plot this one because it's not 2D."
      ]
    },
    {
      "cell_type": "code",
      "metadata": {
        "colab": {
          "base_uri": "https://localhost:8080/"
        },
        "id": "T2het5TTYizh",
        "outputId": "76d3cb9b-70c3-487e-bc63-b9b30f6bf8d2"
      },
      "source": [
        "subtract_embeddings_train.shape"
      ],
      "execution_count": 46,
      "outputs": [
        {
          "output_type": "execute_result",
          "data": {
            "text/plain": [
              "(12000, 768)"
            ]
          },
          "metadata": {
            "tags": []
          },
          "execution_count": 46
        }
      ]
    },
    {
      "cell_type": "markdown",
      "metadata": {
        "id": "A0CUmpH0Zh5U"
      },
      "source": [
        "3. *concatenating the embeddings vectors.*\r\n"
      ]
    },
    {
      "cell_type": "code",
      "metadata": {
        "id": "PA91iOaZ1XjM"
      },
      "source": [
        "concat_embeddings_train = np.concatenate((total_embeddings_s1_train, total_embeddings_s2_train), axis=1)\r\n",
        "concat_embeddings_test = np.concatenate((total_embeddings_s1_test, total_embeddings_s2_test), axis=1)"
      ],
      "execution_count": 47,
      "outputs": []
    },
    {
      "cell_type": "markdown",
      "metadata": {
        "id": "0ARQVmvIZwJF"
      },
      "source": [
        "We can't plot this one too, also because it's not 2D."
      ]
    },
    {
      "cell_type": "code",
      "metadata": {
        "colab": {
          "base_uri": "https://localhost:8080/"
        },
        "id": "O9hA_FTYZ2O4",
        "outputId": "22813059-7d06-41fd-eec0-bdb0db31af0b"
      },
      "source": [
        "concat_embeddings_train.shape"
      ],
      "execution_count": 48,
      "outputs": [
        {
          "output_type": "execute_result",
          "data": {
            "text/plain": [
              "(12000, 1536)"
            ]
          },
          "metadata": {
            "tags": []
          },
          "execution_count": 48
        }
      ]
    },
    {
      "cell_type": "markdown",
      "metadata": {
        "id": "hDMIaPudZ8QZ"
      },
      "source": [
        "Now we'll create functions for implementing Machine Learning models with 2+3 techniques to see if we succeed to classify the embeddings into our 3 categories: entailment, contradiction and neutral."
      ]
    },
    {
      "cell_type": "code",
      "metadata": {
        "id": "BdKr0YzJjJ1n"
      },
      "source": [
        "def classifier(clf, embeddings_train, labels_train, embeddings_test, labels_test):\r\n",
        "    \"\"\"\r\n",
        "    This function apply logistic regression model.\r\n",
        "    The function receives classifier object, the embeddings of the train & test sets and their labels.\r\n",
        "    \"\"\"\r\n",
        "    clf.fit(embeddings_train, labels_train)\r\n",
        "    score = clf.score(embeddings_test, labels_test)\r\n",
        "    predict = clf.predict(embeddings_test)\r\n",
        "    return score, predict\r\n",
        "\r\n",
        "\r\n",
        "def get_confusion_matrix(clf, embeddings_test, true_labels_test, predicted_labels_test):\r\n",
        "    \"\"\"\r\n",
        "    This function calculates the confusion matrix and plot it.\r\n",
        "    It receives the classifier object, true labels and the predicted ones.\r\n",
        "    \"\"\"\r\n",
        "    c_m = confusion_matrix(true_labels_test, predicted_labels_test, labels=true_labels_test.unique())\r\n",
        "    plot_confusion_matrix(clf, embeddings_test, true_labels_test, normalize='true')\r\n",
        "    plt.title('Confusion Matrix') \r\n",
        "    plt.show()\r\n",
        "    return c_m\r\n",
        "\r\n",
        "\r\n",
        "def cross_validation(clf, embeddings_train, labels_train, embeddings_test, labels_test, cv=7):\r\n",
        "    \"\"\"\r\n",
        "    This function calculates the cross validation score (accuracy). \r\n",
        "    It receives the classifier object, train & test embeddings, train & test lables\r\n",
        "    and 'cv' - number of groups for cross validation.\r\n",
        "    \"\"\"\r\n",
        "    embeddings = np.concatenate((embeddings_train, embeddings_test), axis=0)\r\n",
        "    labels =  np.concatenate((labels_train, labels_test), axis=0)\r\n",
        "    return np.mean(cross_val_score(clf, embeddings, labels, cv=cv))\r\n"
      ],
      "execution_count": 49,
      "outputs": []
    },
    {
      "cell_type": "markdown",
      "metadata": {
        "id": "MG7yWHecbVR6"
      },
      "source": [
        "Explantion about what we see in the functions above:\r\n",
        "\r\n",
        "- 'clf' is the classifier object\r\n",
        "- score is the accuracy of the model\r\n",
        "- predict gives us the categories the model predicted on the test set\r\n",
        "- confusion matrix tells us how well the model classified each category\r\n",
        "- cross validation is a resampling procedure used to evaluate machine learning models on a limited data sample."
      ]
    },
    {
      "cell_type": "markdown",
      "metadata": {
        "id": "2DVlILcrpOlu"
      },
      "source": [
        "To use the Machine Learning models, first we need to initiate classifier object, then we train the model using our train subset and finally evaluate the results using the test subset."
      ]
    },
    {
      "cell_type": "markdown",
      "metadata": {
        "id": "DbSonv-3ysM1"
      },
      "source": [
        "**Logistic Regression**"
      ]
    },
    {
      "cell_type": "markdown",
      "metadata": {
        "id": "s0PgcPugpwdD"
      },
      "source": [
        "Initiating Logistic Regression object:"
      ]
    },
    {
      "cell_type": "code",
      "metadata": {
        "id": "uzlSgAlvnzDr"
      },
      "source": [
        "lr_clf = LogisticRegression()"
      ],
      "execution_count": 50,
      "outputs": []
    },
    {
      "cell_type": "markdown",
      "metadata": {
        "id": "JITMipO_g4H2"
      },
      "source": [
        "**SVC (Support Vector Classification)**"
      ]
    },
    {
      "cell_type": "markdown",
      "metadata": {
        "id": "1YHwSH7Zp2pT"
      },
      "source": [
        "Initiating SVC object:"
      ]
    },
    {
      "cell_type": "code",
      "metadata": {
        "id": "XbSVzkmSmtWU"
      },
      "source": [
        "svc_clf = svc(kernel='linear', C=1)\r\n"
      ],
      "execution_count": 51,
      "outputs": []
    },
    {
      "cell_type": "markdown",
      "metadata": {
        "id": "jvMRr10hnGGD"
      },
      "source": [
        "**Ensembles**"
      ]
    },
    {
      "cell_type": "markdown",
      "metadata": {
        "id": "OH9xuAcop4w7"
      },
      "source": [
        "Initiating Ensembles object:"
      ]
    },
    {
      "cell_type": "code",
      "metadata": {
        "id": "Syq2gLicnFss"
      },
      "source": [
        "ecf = VotingClassifier(estimators=[('lr', lr_clf), ('svc', svc_clf)], voting='hard')"
      ],
      "execution_count": 52,
      "outputs": []
    },
    {
      "cell_type": "markdown",
      "metadata": {
        "id": "LLsIzAdgqXYq"
      },
      "source": [
        "Ensembles uses multiple models to obtain better predictive performance than could be obtained from any of models alone.\r\n",
        "\r\n",
        "The predictions from all of the models combined through a weighted majority vote (or sum) to produce the final prediction."
      ]
    },
    {
      "cell_type": "markdown",
      "metadata": {
        "id": "dZpEH6AHrw4D"
      },
      "source": [
        "### Applying the models:"
      ]
    },
    {
      "cell_type": "markdown",
      "metadata": {
        "id": "lxzNpuVX1Hs7"
      },
      "source": [
        "**Subtracting the embeddings vectors:**"
      ]
    },
    {
      "cell_type": "markdown",
      "metadata": {
        "id": "7iVC5jHk5di8"
      },
      "source": [
        "*Logistic Regression*"
      ]
    },
    {
      "cell_type": "code",
      "metadata": {
        "colab": {
          "base_uri": "https://localhost:8080/",
          "height": 312
        },
        "id": "Lt69M_92tzcM",
        "outputId": "1d17a9d0-e585-4344-bec1-870a4e4c220d"
      },
      "source": [
        "score_subt_lr, predict_subt_lr = classifier(lr_clf, subtract_embeddings_train, y_train, subtract_embeddings_test, y_test)\r\n",
        "c_m_subt_lr = get_confusion_matrix(lr_clf, subtract_embeddings_test, y_test, predict_subt_lr)\r\n",
        "# cross_val_subt_lr = cross_validation(lr_clf, subtract_embeddings_train, y_train, subtract_embeddings_test, y_test, cv=7)\r\n",
        "\r\n",
        "print('Accuracy:', score_subt_lr)\r\n",
        "# print('Cross Validation Accuracy:', cross_val_subt_lr)"
      ],
      "execution_count": 53,
      "outputs": [
        {
          "output_type": "display_data",
          "data": {
            "image/png": "[encoded data removed]",
            "text/plain": [
              "<Figure size 432x288 with 2 Axes>"
            ]
          },
          "metadata": {
            "tags": [],
            "needs_background": "light"
          }
        },
        {
          "output_type": "stream",
          "text": [
            "Accuracy: 0.5463333333333333\n"
          ],
          "name": "stdout"
        }
      ]
    },
    {
      "cell_type": "markdown",
      "metadata": {
        "id": "FQt-31IRCo-E"
      },
      "source": [
        "Explanation about what we see in the confusion matrix:\r\n",
        "\r\n",
        "In the diagram above, we see our three categories and the percentage of each case. \r\n",
        "If we look on neutral & neurtal we will see 0.48, that mean the model succeed in 48% of the times to classify neutral connection as neutral.\r\n",
        "The higher probability, the performances of the model are better.\r\n",
        "\r\n",
        "We can see that this model succeed to identify entailment cases better than neutral and contradiction.\r\n",
        "\r\n",
        "If we compare the percentages we got here with the confusion matrix of the other models, we can see which model is better than the others."
      ]
    },
    {
      "cell_type": "markdown",
      "metadata": {
        "id": "ouQmxe4J5iOO"
      },
      "source": [
        "*SVC*"
      ]
    },
    {
      "cell_type": "code",
      "metadata": {
        "colab": {
          "base_uri": "https://localhost:8080/",
          "height": 312
        },
        "id": "H2Et2X6V5h6C",
        "outputId": "d71ce2d1-113e-4d6d-c7c5-ff873b937268"
      },
      "source": [
        "score_subt_svc, predict_subt_svc = classifier(svc_clf, subtract_embeddings_train, y_train, subtract_embeddings_test, y_test)\r\n",
        "c_m_subt_svc = get_confusion_matrix(svc_clf, subtract_embeddings_test, y_test, predict_subt_svc)\r\n",
        "# cross_val_subt_svc = cross_validation(svc_clf, subtract_embeddings_train, y_train, subtract_embeddings_test, y_test, cv=7)\r\n",
        "\r\n",
        "print('Accuracy:', score_subt_svc)\r\n",
        "# print('Cross Validation Accuracy:', cross_val_subt_svc)\r\n"
      ],
      "execution_count": 54,
      "outputs": [
        {
          "output_type": "display_data",
          "data": {
            "image/png": "[encoded data removed]",
            "text/plain": [
              "<Figure size 432x288 with 2 Axes>"
            ]
          },
          "metadata": {
            "tags": [],
            "needs_background": "light"
          }
        },
        {
          "output_type": "stream",
          "text": [
            "Accuracy: 0.548\n"
          ],
          "name": "stdout"
        }
      ]
    },
    {
      "cell_type": "markdown",
      "metadata": {
        "id": "VZZBvJd8579Q"
      },
      "source": [
        "*Ensembles*"
      ]
    },
    {
      "cell_type": "code",
      "metadata": {
        "colab": {
          "base_uri": "https://localhost:8080/",
          "height": 312
        },
        "id": "LA2YKxpO58ZC",
        "outputId": "27cde44f-2c52-49cf-e0b6-4e2d6ea26d62"
      },
      "source": [
        "score_subt_ecf, predict_subt_ecf = classifier(ecf, subtract_embeddings_train, y_train, subtract_embeddings_test, y_test)\r\n",
        "c_m_subt_ecf = get_confusion_matrix(ecf, subtract_embeddings_test, y_test, predict_subt_ecf)\r\n",
        "# cross_val_subt_ecf = cross_validation(ecf, subtract_embeddings_train, y_train, subtract_embeddings_test, y_test, cv=7)\r\n",
        "\r\n",
        "print('Accuracy:', score_subt_ecf)\r\n",
        "# print('Cross Validation Accuracy:', cross_val_subt_ecf)"
      ],
      "execution_count": 55,
      "outputs": [
        {
          "output_type": "display_data",
          "data": {
            "image/png": "[encoded data removed]",
            "text/plain": [
              "<Figure size 432x288 with 2 Axes>"
            ]
          },
          "metadata": {
            "tags": [],
            "needs_background": "light"
          }
        },
        {
          "output_type": "stream",
          "text": [
            "Accuracy: 0.5456666666666666\n"
          ],
          "name": "stdout"
        }
      ]
    },
    {
      "cell_type": "markdown",
      "metadata": {
        "id": "L6IW1vww6tf4"
      },
      "source": [
        "**Concatenating the embeddings vectors:**"
      ]
    },
    {
      "cell_type": "markdown",
      "metadata": {
        "id": "Gl2wmCQW7MBM"
      },
      "source": [
        "*Logistic Regression*"
      ]
    },
    {
      "cell_type": "code",
      "metadata": {
        "colab": {
          "base_uri": "https://localhost:8080/",
          "height": 312
        },
        "id": "lTFJnAaP7Mbm",
        "outputId": "c58e9cb1-80ce-49cc-b292-70ee2c78fff3"
      },
      "source": [
        "score_conc_lr, predict_conc_lr = classifier(lr_clf, concat_embeddings_train, y_train, concat_embeddings_test, y_test)\r\n",
        "c_m_conc_lr = get_confusion_matrix(lr_clf, concat_embeddings_test, y_test, predict_conc_lr)\r\n",
        "# cross_val_conc_lr = cross_validation(lr_clf, concat_embeddings_train, y_train, concat_embeddings_test, y_test, cv=7)\r\n",
        "\r\n",
        "print('Accuracy:', score_conc_lr)\r\n",
        "# print('Cross Validation Accuracy:', cross_val_conc_lr)"
      ],
      "execution_count": 56,
      "outputs": [
        {
          "output_type": "display_data",
          "data": {
            "image/png": "[encoded data removed]",
            "text/plain": [
              "<Figure size 432x288 with 2 Axes>"
            ]
          },
          "metadata": {
            "tags": [],
            "needs_background": "light"
          }
        },
        {
          "output_type": "stream",
          "text": [
            "Accuracy: 0.572\n"
          ],
          "name": "stdout"
        }
      ]
    },
    {
      "cell_type": "markdown",
      "metadata": {
        "id": "kZnQfzZH78Je"
      },
      "source": [
        "*SVC*"
      ]
    },
    {
      "cell_type": "code",
      "metadata": {
        "colab": {
          "base_uri": "https://localhost:8080/",
          "height": 312
        },
        "id": "kMziG3DX78jp",
        "outputId": "e8fc02ce-0d4d-4af1-a221-c496db4759cd"
      },
      "source": [
        "score_conc_svc, predict_conc_svc = classifier(svc_clf, concat_embeddings_train, y_train, concat_embeddings_test, y_test)\r\n",
        "c_m_conc_svc = get_confusion_matrix(svc_clf, concat_embeddings_test, y_test, predict_conc_svc)\r\n",
        "# cross_val_conc_svc = cross_validation(svc_clf, concat_embeddings_train, y_train, concat_embeddings_test, y_test, cv=7)\r\n",
        "\r\n",
        "print('Accuracy:', score_conc_svc)\r\n",
        "# print('Cross Validation Accuracy:', cross_val_conc_svc)"
      ],
      "execution_count": 57,
      "outputs": [
        {
          "output_type": "display_data",
          "data": {
            "image/png": "[encoded data removed]",
            "text/plain": [
              "<Figure size 432x288 with 2 Axes>"
            ]
          },
          "metadata": {
            "tags": [],
            "needs_background": "light"
          }
        },
        {
          "output_type": "stream",
          "text": [
            "Accuracy: 0.5566666666666666\n"
          ],
          "name": "stdout"
        }
      ]
    },
    {
      "cell_type": "markdown",
      "metadata": {
        "id": "pLA-HZIX781t"
      },
      "source": [
        "*Ensembles*"
      ]
    },
    {
      "cell_type": "code",
      "metadata": {
        "colab": {
          "base_uri": "https://localhost:8080/",
          "height": 312
        },
        "id": "Yd0qm3ys79TO",
        "outputId": "d5decffd-2cb6-43e0-f49e-30b9a5a54cfe"
      },
      "source": [
        "score_conc_ecf, predict_conc_ecf = classifier(ecf, concat_embeddings_train, y_train, concat_embeddings_test, y_test)\r\n",
        "c_m_conc_ecf = get_confusion_matrix(ecf, concat_embeddings_test, y_test, predict_conc_ecf)\r\n",
        "# cross_val_conc_ecf = cross_validation(ecf, concat_embeddings_train, y_train, concat_embeddings_test, y_test, cv=7)\r\n",
        "\r\n",
        "print('Accuracy:', score_conc_ecf)\r\n",
        "# print('Cross Validation Accuracy:', cross_val_conc_ecf)"
      ],
      "execution_count": 58,
      "outputs": [
        {
          "output_type": "display_data",
          "data": {
            "image/png": "[encoded data removed]",
            "text/plain": [
              "<Figure size 432x288 with 2 Axes>"
            ]
          },
          "metadata": {
            "tags": [],
            "needs_background": "light"
          }
        },
        {
          "output_type": "stream",
          "text": [
            "Accuracy: 0.56\n"
          ],
          "name": "stdout"
        }
      ]
    },
    {
      "cell_type": "markdown",
      "metadata": {
        "id": "fCgYHuJ48hNE"
      },
      "source": [
        "## Comparing the models:"
      ]
    },
    {
      "cell_type": "code",
      "metadata": {
        "colab": {
          "base_uri": "https://localhost:8080/",
          "height": 351
        },
        "id": "BAsugc1E9d5-",
        "outputId": "a1cc902f-a7e0-4fd9-9527-ca9eb98fc3a9"
      },
      "source": [
        "subt = {'subt_lr':score_subt_lr,\r\n",
        "        'subt_svc':score_subt_svc,\r\n",
        "        'subt_efc':score_subt_ecf}\r\n",
        "\r\n",
        "conc =  {'conc_lr':score_conc_lr,\r\n",
        "        'conc_svc':score_conc_svc,\r\n",
        "        'conc_efc':score_conc_ecf}\r\n",
        "\r\n",
        "# subt = {'subt_lr':score_subt_lr, 'subt_cv_lr':cross_val_subt_lr,\r\n",
        "#         'subt_svc':score_subt_svc, 'subt_cv_svc':cross_val_subt_svc,\r\n",
        "#         'subt_efc':score_subt_ecf, 'subt_cv_efc':cross_val_subt_ecf}\r\n",
        "\r\n",
        "# conc =  {'conc_lr':score_conc_lr, 'conc_cv_lr':cross_val_conc_lr,\r\n",
        "#         'conc_svc':score_conc_svc, 'conc_cv_svc':cross_val_conc_svc,\r\n",
        "#         'conc_efc':score_conc_ecf, 'conc_cv_efc':cross_val_conc_ecf}\r\n",
        "\r\n",
        "plt.figure(figsize=(20,5))\r\n",
        "plt.bar(*zip(*subt.items()), color='orange')\r\n",
        "plt.bar(*zip(*conc.items()), color='brown')\r\n",
        "plt.title('Comparing the models; Subtracting embeddings VS. Concatenating embeddings')\r\n",
        "plt.xlabel('Model')\r\n",
        "plt.ylabel('Accuracy')\r\n",
        "plt.show()"
      ],
      "execution_count": 59,
      "outputs": [
        {
          "output_type": "display_data",
          "data": {
            "image/png": "[encoded data removed]",
            "text/plain": [
              "<Figure size 1440x360 with 1 Axes>"
            ]
          },
          "metadata": {
            "tags": [],
            "needs_background": "light"
          }
        }
      ]
    },
    {
      "cell_type": "markdown",
      "metadata": {
        "id": "NEn0WYazCXYY"
      },
      "source": [
        "As we can see the logistic regression model with the concatenated embeddings gives the best result."
      ]
    },
    {
      "cell_type": "markdown",
      "metadata": {
        "id": "BKddC2jr8o7t"
      },
      "source": [
        "## Testing the models on newspapers:"
      ]
    },
    {
      "cell_type": "code",
      "metadata": {
        "id": "BP4L2dIenEX8"
      },
      "source": [
        "news_df = pd.read_excel('news_titles.xlsx', usecols=cols)"
      ],
      "execution_count": 60,
      "outputs": []
    },
    {
      "cell_type": "code",
      "metadata": {
        "colab": {
          "base_uri": "https://localhost:8080/",
          "height": 195
        },
        "id": "KpoxKeJnoTPp",
        "outputId": "851f5bf9-afff-4059-c60e-3f414983c554"
      },
      "source": [
        "news_df.head()"
      ],
      "execution_count": 61,
      "outputs": [
        {
          "output_type": "execute_result",
          "data": {
            "text/html": [
              "<div>\n",
              "<style scoped>\n",
              "    .dataframe tbody tr th:only-of-type {\n",
              "        vertical-align: middle;\n",
              "    }\n",
              "\n",
              "    .dataframe tbody tr th {\n",
              "        vertical-align: top;\n",
              "    }\n",
              "\n",
              "    .dataframe thead th {\n",
              "        text-align: right;\n",
              "    }\n",
              "</style>\n",
              "<table border=\"1\" class=\"dataframe\">\n",
              "  <thead>\n",
              "    <tr style=\"text-align: right;\">\n",
              "      <th></th>\n",
              "      <th>sentence1</th>\n",
              "      <th>sentence2</th>\n",
              "      <th>gold_label</th>\n",
              "    </tr>\n",
              "  </thead>\n",
              "  <tbody>\n",
              "    <tr>\n",
              "      <th>0</th>\n",
              "      <td>Government extends lockdown, skies remain closed</td>\n",
              "      <td>Ministers extend lockdown until Friday morning...</td>\n",
              "      <td>entailment</td>\n",
              "    </tr>\n",
              "    <tr>\n",
              "      <th>1</th>\n",
              "      <td>Over Third of Israelis Received First COVID Va...</td>\n",
              "      <td>Israel Covid vaccine data shows extremely low ...</td>\n",
              "      <td>neutral</td>\n",
              "    </tr>\n",
              "    <tr>\n",
              "      <th>2</th>\n",
              "      <td>Jobless Jumps In July as New Hiring Remains Slow.</td>\n",
              "      <td>US economy's job engine revved up in July.</td>\n",
              "      <td>contradiction</td>\n",
              "    </tr>\n",
              "    <tr>\n",
              "      <th>3</th>\n",
              "      <td>Myanmar cuts Facebook access as military tight...</td>\n",
              "      <td>Myanmar coup: Military blocks Facebook for sak...</td>\n",
              "      <td>entailment</td>\n",
              "    </tr>\n",
              "    <tr>\n",
              "      <th>4</th>\n",
              "      <td>Britain trial to test combining Pfizer and Ast...</td>\n",
              "      <td>UK to trial mixing different Covid vaccines fo...</td>\n",
              "      <td>entailment</td>\n",
              "    </tr>\n",
              "  </tbody>\n",
              "</table>\n",
              "</div>"
            ],
            "text/plain": [
              "                                           sentence1  ...     gold_label\n",
              "0   Government extends lockdown, skies remain closed  ...     entailment\n",
              "1  Over Third of Israelis Received First COVID Va...  ...        neutral\n",
              "2  Jobless Jumps In July as New Hiring Remains Slow.  ...  contradiction\n",
              "3  Myanmar cuts Facebook access as military tight...  ...     entailment\n",
              "4  Britain trial to test combining Pfizer and Ast...  ...     entailment\n",
              "\n",
              "[5 rows x 3 columns]"
            ]
          },
          "metadata": {
            "tags": []
          },
          "execution_count": 61
        }
      ]
    },
    {
      "cell_type": "code",
      "metadata": {
        "id": "McGRZEIVoVG1"
      },
      "source": [
        "news_embeddings_s1, news_embeddings_s2 = bert_model(news_df['sentence1'], news_df['sentence2'])"
      ],
      "execution_count": 62,
      "outputs": []
    },
    {
      "cell_type": "code",
      "metadata": {
        "id": "ESnr0Ofro8bp"
      },
      "source": [
        "concat_embeddings_news = np.concatenate((news_embeddings_s1, news_embeddings_s2), axis=1)"
      ],
      "execution_count": 63,
      "outputs": []
    },
    {
      "cell_type": "code",
      "metadata": {
        "colab": {
          "base_uri": "https://localhost:8080/"
        },
        "id": "EXx6t3ajC9WM",
        "outputId": "2e54cb82-b25d-4cdb-9831-76e29b000d44"
      },
      "source": [
        "news_embeddings_s1.shape"
      ],
      "execution_count": 64,
      "outputs": [
        {
          "output_type": "execute_result",
          "data": {
            "text/plain": [
              "(11, 768)"
            ]
          },
          "metadata": {
            "tags": []
          },
          "execution_count": 64
        }
      ]
    },
    {
      "cell_type": "code",
      "metadata": {
        "colab": {
          "base_uri": "https://localhost:8080/"
        },
        "id": "OlwztviZpMoN",
        "outputId": "15e59481-041e-44ac-beca-16ba300cb8d8"
      },
      "source": [
        "accuracy_news = lr_clf.score(concat_embeddings_news, news_df['gold_label'])\r\n",
        "predict_news = lr_clf.predict(concat_embeddings_news)\r\n",
        "\r\n",
        "print(\"Accuracy:\", accuracy_news)\r\n",
        "print(\"True labels:\\n\", news_df['gold_label'])\r\n",
        "print(\"Predicted labels:\", predict_news)"
      ],
      "execution_count": 65,
      "outputs": [
        {
          "output_type": "stream",
          "text": [
            "Accuracy: 0.09090909090909091\n",
            "True labels:\n",
            " 0        entailment\n",
            "1           neutral\n",
            "2     contradiction\n",
            "3        entailment\n",
            "4        entailment\n",
            "5        entailment\n",
            "6           neutral\n",
            "7           neutral\n",
            "8        entailment\n",
            "9     contradiction\n",
            "10       entailment\n",
            "Name: gold_label, dtype: object\n",
            "Predicted labels: ['neutral' 'contradiction' 'neutral' 'neutral' 'entailment' 'neutral'\n",
            " 'entailment' 'contradiction' 'contradiction' 'neutral' 'neutral']\n"
          ],
          "name": "stdout"
        }
      ]
    }
  ]
}